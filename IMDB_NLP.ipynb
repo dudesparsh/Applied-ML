{
  "nbformat": 4,
  "nbformat_minor": 0,
  "metadata": {
    "colab": {
      "name": "IMDB NLP.ipynb",
      "provenance": [],
      "collapsed_sections": [],
      "authorship_tag": "ABX9TyOfqVtxz0HxqY4Ads5oAEEk",
      "include_colab_link": true
    },
    "kernelspec": {
      "name": "python3",
      "display_name": "Python 3"
    },
    "accelerator": "GPU"
  },
  "cells": [
    {
      "cell_type": "markdown",
      "metadata": {
        "id": "view-in-github",
        "colab_type": "text"
      },
      "source": [
        "<a href=\"https://colab.research.google.com/github/dudesparsh/Applied-ML/blob/master/IMDB_NLP.ipynb\" target=\"_parent\"><img src=\"https://colab.research.google.com/assets/colab-badge.svg\" alt=\"Open In Colab\"/></a>"
      ]
    },
    {
      "cell_type": "code",
      "metadata": {
        "id": "pIfJxUMIjMWN",
        "colab_type": "code",
        "outputId": "24c21072-ec3b-43d7-a934-daaf0566fadb",
        "colab": {
          "base_uri": "https://localhost:8080/",
          "height": 559
        }
      },
      "source": [
        "#Checking for GPU server\n",
        "from tensorflow.python.client import device_lib\n",
        "device_lib.list_local_devices()\n"
      ],
      "execution_count": 1,
      "outputs": [
        {
          "output_type": "display_data",
          "data": {
            "text/html": [
              "<p style=\"color: red;\">\n",
              "The default version of TensorFlow in Colab will soon switch to TensorFlow 2.x.<br>\n",
              "We recommend you <a href=\"https://www.tensorflow.org/guide/migrate\" target=\"_blank\">upgrade</a> now \n",
              "or ensure your notebook will continue to use TensorFlow 1.x via the <code>%tensorflow_version 1.x</code> magic:\n",
              "<a href=\"https://colab.research.google.com/notebooks/tensorflow_version.ipynb\" target=\"_blank\">more info</a>.</p>\n"
            ],
            "text/plain": [
              "<IPython.core.display.HTML object>"
            ]
          },
          "metadata": {
            "tags": []
          }
        },
        {
          "output_type": "execute_result",
          "data": {
            "text/plain": [
              "[name: \"/device:CPU:0\"\n",
              " device_type: \"CPU\"\n",
              " memory_limit: 268435456\n",
              " locality {\n",
              " }\n",
              " incarnation: 18090113926737388368, name: \"/device:XLA_CPU:0\"\n",
              " device_type: \"XLA_CPU\"\n",
              " memory_limit: 17179869184\n",
              " locality {\n",
              " }\n",
              " incarnation: 12310311402674985593\n",
              " physical_device_desc: \"device: XLA_CPU device\", name: \"/device:XLA_GPU:0\"\n",
              " device_type: \"XLA_GPU\"\n",
              " memory_limit: 17179869184\n",
              " locality {\n",
              " }\n",
              " incarnation: 13279754052123800509\n",
              " physical_device_desc: \"device: XLA_GPU device\", name: \"/device:GPU:0\"\n",
              " device_type: \"GPU\"\n",
              " memory_limit: 15956161332\n",
              " locality {\n",
              "   bus_id: 1\n",
              "   links {\n",
              "   }\n",
              " }\n",
              " incarnation: 8111243265566341288\n",
              " physical_device_desc: \"device: 0, name: Tesla P100-PCIE-16GB, pci bus id: 0000:00:04.0, compute capability: 6.0\"]"
            ]
          },
          "metadata": {
            "tags": []
          },
          "execution_count": 1
        }
      ]
    },
    {
      "cell_type": "code",
      "metadata": {
        "id": "E7egNOZZb_f1",
        "colab_type": "code",
        "colab": {}
      },
      "source": [
        "## Classifying IMDB reviews as positive or negative"
      ],
      "execution_count": 0,
      "outputs": []
    },
    {
      "cell_type": "code",
      "metadata": {
        "id": "vZdH31vAcZnH",
        "colab_type": "code",
        "colab": {}
      },
      "source": [
        "%reload_ext autoreload\n",
        "%autoreload 2\n",
        "%matplotlib inline"
      ],
      "execution_count": 0,
      "outputs": []
    },
    {
      "cell_type": "code",
      "metadata": {
        "id": "WBWhiQZ6cfDi",
        "colab_type": "code",
        "colab": {}
      },
      "source": [
        "from fastai.text import *"
      ],
      "execution_count": 0,
      "outputs": []
    },
    {
      "cell_type": "code",
      "metadata": {
        "id": "eQ3IrPRGchvN",
        "colab_type": "code",
        "colab": {}
      },
      "source": [
        "# Preparing the data "
      ],
      "execution_count": 0,
      "outputs": []
    },
    {
      "cell_type": "code",
      "metadata": {
        "id": "QaOIRFIKcjgn",
        "colab_type": "code",
        "outputId": "d1b50f89-4d15-4d4c-ef07-b092e0de9fb8",
        "colab": {
          "base_uri": "https://localhost:8080/",
          "height": 51
        }
      },
      "source": [
        "path = untar_data(URLs.IMDB_SAMPLE)\n",
        "path.ls()"
      ],
      "execution_count": 6,
      "outputs": [
        {
          "output_type": "stream",
          "text": [
            "Downloading http://files.fast.ai/data/examples/imdb_sample\n"
          ],
          "name": "stdout"
        },
        {
          "output_type": "display_data",
          "data": {
            "text/html": [
              ""
            ],
            "text/plain": [
              "<IPython.core.display.HTML object>"
            ]
          },
          "metadata": {
            "tags": []
          }
        },
        {
          "output_type": "execute_result",
          "data": {
            "text/plain": [
              "[PosixPath('/root/.fastai/data/imdb_sample/texts.csv')]"
            ]
          },
          "metadata": {
            "tags": []
          },
          "execution_count": 6
        }
      ]
    },
    {
      "cell_type": "code",
      "metadata": {
        "id": "4flDdfpIcoon",
        "colab_type": "code",
        "outputId": "1dc9ade1-f346-41a6-b4d4-02d42a0fd31e",
        "colab": {
          "base_uri": "https://localhost:8080/",
          "height": 204
        }
      },
      "source": [
        "df = pd.read_csv(path/'texts.csv')\n",
        "df.head()"
      ],
      "execution_count": 7,
      "outputs": [
        {
          "output_type": "execute_result",
          "data": {
            "text/html": [
              "<div>\n",
              "<style scoped>\n",
              "    .dataframe tbody tr th:only-of-type {\n",
              "        vertical-align: middle;\n",
              "    }\n",
              "\n",
              "    .dataframe tbody tr th {\n",
              "        vertical-align: top;\n",
              "    }\n",
              "\n",
              "    .dataframe thead th {\n",
              "        text-align: right;\n",
              "    }\n",
              "</style>\n",
              "<table border=\"1\" class=\"dataframe\">\n",
              "  <thead>\n",
              "    <tr style=\"text-align: right;\">\n",
              "      <th></th>\n",
              "      <th>label</th>\n",
              "      <th>text</th>\n",
              "      <th>is_valid</th>\n",
              "    </tr>\n",
              "  </thead>\n",
              "  <tbody>\n",
              "    <tr>\n",
              "      <th>0</th>\n",
              "      <td>negative</td>\n",
              "      <td>Un-bleeping-believable! Meg Ryan doesn't even ...</td>\n",
              "      <td>False</td>\n",
              "    </tr>\n",
              "    <tr>\n",
              "      <th>1</th>\n",
              "      <td>positive</td>\n",
              "      <td>This is a extremely well-made film. The acting...</td>\n",
              "      <td>False</td>\n",
              "    </tr>\n",
              "    <tr>\n",
              "      <th>2</th>\n",
              "      <td>negative</td>\n",
              "      <td>Every once in a long while a movie will come a...</td>\n",
              "      <td>False</td>\n",
              "    </tr>\n",
              "    <tr>\n",
              "      <th>3</th>\n",
              "      <td>positive</td>\n",
              "      <td>Name just says it all. I watched this movie wi...</td>\n",
              "      <td>False</td>\n",
              "    </tr>\n",
              "    <tr>\n",
              "      <th>4</th>\n",
              "      <td>negative</td>\n",
              "      <td>This movie succeeds at being one of the most u...</td>\n",
              "      <td>False</td>\n",
              "    </tr>\n",
              "  </tbody>\n",
              "</table>\n",
              "</div>"
            ],
            "text/plain": [
              "      label                                               text  is_valid\n",
              "0  negative  Un-bleeping-believable! Meg Ryan doesn't even ...     False\n",
              "1  positive  This is a extremely well-made film. The acting...     False\n",
              "2  negative  Every once in a long while a movie will come a...     False\n",
              "3  positive  Name just says it all. I watched this movie wi...     False\n",
              "4  negative  This movie succeeds at being one of the most u...     False"
            ]
          },
          "metadata": {
            "tags": []
          },
          "execution_count": 7
        }
      ]
    },
    {
      "cell_type": "code",
      "metadata": {
        "id": "obaQ_0NCcyIy",
        "colab_type": "code",
        "outputId": "342e8a62-baec-4099-8d7c-c1b327e3bfaa",
        "colab": {
          "base_uri": "https://localhost:8080/",
          "height": 54
        }
      },
      "source": [
        "df['text'][1]"
      ],
      "execution_count": 8,
      "outputs": [
        {
          "output_type": "execute_result",
          "data": {
            "text/plain": [
              "'This is a extremely well-made film. The acting, script and camera-work are all first-rate. The music is good, too, though it is mostly early in the film, when things are still relatively cheery. There are no really superstars in the cast, though several faces will be familiar. The entire cast does an excellent job with the script.<br /><br />But it is hard to watch, because there is no good end to a situation like the one presented. It is now fashionable to blame the British for setting Hindus and Muslims against each other, and then cruelly separating them into two countries. There is some merit in this view, but it\\'s also true that no one forced Hindus and Muslims in the region to mistreat each other as they did around the time of partition. It seems more likely that the British simply saw the tensions between the religions and were clever enough to exploit them to their own ends.<br /><br />The result is that there is much cruelty and inhumanity in the situation and this is very unpleasant to remember and to see on the screen. But it is never painted as a black-and-white case. There is baseness and nobility on both sides, and also the hope for change in the younger generation.<br /><br />There is redemption of a sort, in the end, when Puro has to make a hard choice between a man who has ruined her life, but also truly loved her, and her family which has disowned her, then later come looking for her. But by that point, she has no option that is without great pain for her.<br /><br />This film carries the message that both Muslims and Hindus have their grave faults, and also that both can be dignified and caring people. The reality of partition makes that realisation all the more wrenching, since there can never be real reconciliation across the India/Pakistan border. In that sense, it is similar to \"Mr & Mrs Iyer\".<br /><br />In the end, we were glad to have seen the film, even though the resolution was heartbreaking. If the UK and US could deal with their own histories of racism with this kind of frankness, they would certainly be better off.'"
            ]
          },
          "metadata": {
            "tags": []
          },
          "execution_count": 8
        }
      ]
    },
    {
      "cell_type": "code",
      "metadata": {
        "id": "QQRNgbzzc2Bo",
        "colab_type": "code",
        "outputId": "7e5ed5ac-39a9-4a57-a374-68937d5ec391",
        "colab": {
          "base_uri": "https://localhost:8080/",
          "height": 17
        }
      },
      "source": [
        "data_lm = TextDataBunch.from_csv(path, 'texts.csv')"
      ],
      "execution_count": 9,
      "outputs": [
        {
          "output_type": "display_data",
          "data": {
            "text/html": [
              ""
            ],
            "text/plain": [
              "<IPython.core.display.HTML object>"
            ]
          },
          "metadata": {
            "tags": []
          }
        },
        {
          "output_type": "display_data",
          "data": {
            "text/html": [
              ""
            ],
            "text/plain": [
              "<IPython.core.display.HTML object>"
            ]
          },
          "metadata": {
            "tags": []
          }
        }
      ]
    },
    {
      "cell_type": "code",
      "metadata": {
        "id": "D6Be5ojsdOxZ",
        "colab_type": "code",
        "colab": {}
      },
      "source": [
        "data_lm.save()\n"
      ],
      "execution_count": 0,
      "outputs": []
    },
    {
      "cell_type": "code",
      "metadata": {
        "id": "qRKwCFgrdR-2",
        "colab_type": "code",
        "colab": {}
      },
      "source": [
        "data = load_data(path)"
      ],
      "execution_count": 0,
      "outputs": []
    },
    {
      "cell_type": "code",
      "metadata": {
        "id": "u9OQYoe5dUhm",
        "colab_type": "code",
        "outputId": "94100847-635e-4831-d751-926228093594",
        "colab": {
          "base_uri": "https://localhost:8080/",
          "height": 476
        }
      },
      "source": [
        "## Tokenization : Breaking raw sentences into words\n",
        "\n",
        "data = TextDataBunch.from_csv(path, 'texts.csv')\n",
        "data.show_batch()"
      ],
      "execution_count": 12,
      "outputs": [
        {
          "output_type": "display_data",
          "data": {
            "text/html": [
              ""
            ],
            "text/plain": [
              "<IPython.core.display.HTML object>"
            ]
          },
          "metadata": {
            "tags": []
          }
        },
        {
          "output_type": "display_data",
          "data": {
            "text/html": [
              ""
            ],
            "text/plain": [
              "<IPython.core.display.HTML object>"
            ]
          },
          "metadata": {
            "tags": []
          }
        },
        {
          "output_type": "display_data",
          "data": {
            "text/html": [
              "<table border=\"1\" class=\"dataframe\">\n",
              "  <thead>\n",
              "    <tr style=\"text-align: right;\">\n",
              "      <th>text</th>\n",
              "      <th>target</th>\n",
              "    </tr>\n",
              "  </thead>\n",
              "  <tbody>\n",
              "    <tr>\n",
              "      <td>xxbos xxmaj raising xxmaj victor xxmaj vargas : a xxmaj review \\n \\n  xxmaj you know , xxmaj raising xxmaj victor xxmaj vargas is like sticking your hands into a big , xxunk bowl of xxunk . xxmaj it 's warm and gooey , but you 're not sure if it feels right . xxmaj try as i might , no matter how warm and gooey xxmaj raising xxmaj</td>\n",
              "      <td>negative</td>\n",
              "    </tr>\n",
              "    <tr>\n",
              "      <td>xxbos xxup the xxup shop xxup around xxup the xxup corner is one of the sweetest and most feel - good romantic comedies ever made . xxmaj there 's just no getting around that , and it 's hard to actually put one 's feeling for this film into words . xxmaj it 's not one of those films that tries too hard , nor does it come up with</td>\n",
              "      <td>positive</td>\n",
              "    </tr>\n",
              "    <tr>\n",
              "      <td>xxbos xxmaj now that xxmaj che(2008 ) has finished its relatively short xxmaj australian cinema run ( extremely limited xxunk screen in xxmaj sydney , after xxunk ) , i can xxunk join both xxunk of \" xxmaj at xxmaj the xxmaj movies \" in taking xxmaj steven xxmaj soderbergh to task . \\n \\n  xxmaj it 's usually satisfying to watch a film director change his style /</td>\n",
              "      <td>negative</td>\n",
              "    </tr>\n",
              "    <tr>\n",
              "      <td>xxbos xxmaj this film sat on my xxmaj tivo for weeks before i watched it . i xxunk a self - indulgent xxunk flick about relationships gone bad . i was wrong ; this was an xxunk xxunk into the screwed - up xxunk of xxmaj new xxmaj yorkers . \\n \\n  xxmaj the format is the same as xxmaj max xxmaj xxunk ' \" xxmaj la xxmaj ronde</td>\n",
              "      <td>positive</td>\n",
              "    </tr>\n",
              "    <tr>\n",
              "      <td>xxbos xxmaj many neglect that this is n't just a classic due to the fact that it 's the first xxup 3d game , or even the first xxunk - up . xxmaj it 's also one of the first xxunk games , one of the xxunk definitely the first ) truly claustrophobic games , and just a pretty well - rounded gaming experience in general . xxmaj with graphics</td>\n",
              "      <td>positive</td>\n",
              "    </tr>\n",
              "  </tbody>\n",
              "</table>"
            ],
            "text/plain": [
              "<IPython.core.display.HTML object>"
            ]
          },
          "metadata": {
            "tags": []
          }
        }
      ]
    },
    {
      "cell_type": "code",
      "metadata": {
        "id": "rGf3o0RGdg5p",
        "colab_type": "code",
        "outputId": "45c41833-13cf-4f9a-98c2-f175dfe45414",
        "colab": {
          "base_uri": "https://localhost:8080/",
          "height": 187
        }
      },
      "source": [
        "## Step 2 : Numericalization - converting tokens into integers,\n",
        "## by creating a list of all the words used\n",
        "\n",
        "data.vocab.itos[:10]"
      ],
      "execution_count": 13,
      "outputs": [
        {
          "output_type": "execute_result",
          "data": {
            "text/plain": [
              "['xxunk',\n",
              " 'xxpad',\n",
              " 'xxbos',\n",
              " 'xxeos',\n",
              " 'xxfld',\n",
              " 'xxmaj',\n",
              " 'xxup',\n",
              " 'xxrep',\n",
              " 'xxwrep',\n",
              " 'the']"
            ]
          },
          "metadata": {
            "tags": []
          },
          "execution_count": 13
        }
      ]
    },
    {
      "cell_type": "code",
      "metadata": {
        "id": "fMggVR3ld9yJ",
        "colab_type": "code",
        "outputId": "35c84318-be76-4f81-be03-331fd39aac45",
        "colab": {
          "base_uri": "https://localhost:8080/",
          "height": 156
        }
      },
      "source": [
        "data.train_ds[0][0]"
      ],
      "execution_count": 14,
      "outputs": [
        {
          "output_type": "execute_result",
          "data": {
            "text/plain": [
              "Text xxbos xxmaj there are numerous films relating to xxup xxunk , but xxmaj mother xxmaj night is quite distinctive among them : xxmaj in this film , we are introduced to xxmaj howard xxmaj campbell ( xxmaj nolte ) , an xxmaj american living in xxmaj berlin and married to a xxmaj german , xxmaj helga xxmaj xxunk ( xxmaj lee ) , who decides to accept the role of a spy : xxmaj more specifically , a xxup cia agent xxmaj major xxmaj wirtanen ( xxmaj goodman ) recruits xxmaj campbell who becomes a xxmaj nazi xxunk in order to enter the highest xxunk of the xxmaj hitler regime . xxmaj however , the deal is that the xxup us xxmaj government will never acknowledge xxmaj campbell 's role in the war for national security reasons , and so xxmaj campbell becomes a hated figure across the xxup us . xxmaj after the war , he tries to xxunk his identity , but the past comes back and haunts him . xxmaj his only \" friend \" is xxmaj wirtanen , but even he can not do much for the xxunk of events that fall upon poor xxmaj campbell ... \n",
              " \n",
              "  xxmaj the story is deeply touching , as we watch the tragedy of xxmaj campbell who although a great patriot , is treated by disdain by everybody who surrounds him . xxmaj not only that , but he also gradually realizes that even the persons who are most close to him , have many secrets of their own . xxmaj vonnegut provides us with a moving atmosphere , with xxmaj campbell 's despair building up and almost choking the viewer . \n",
              " \n",
              "  xxmaj nolte plays the role of his life , in my opinion ; he is even better than in \" xxmaj affliction \" , although in both roles he plays tragic figures who are destined to self - destruction . xxmaj xxunk xxmaj lee is also excellent , and the same can be said for the whole cast in general . \n",
              " \n",
              "  i have n't read the book , so i can not xxunk how the film compares to it . xxmaj in any case , this is something of no importance here : xxmaj my critique is upon the film per se , and the film wholeheartedly deserves a 9 / 10 ."
            ]
          },
          "metadata": {
            "tags": []
          },
          "execution_count": 14
        }
      ]
    },
    {
      "cell_type": "code",
      "metadata": {
        "id": "tnWw6xCzeCZu",
        "colab_type": "code",
        "outputId": "1e512968-b29d-4ca3-b20d-66f9fc7a3538",
        "colab": {
          "base_uri": "https://localhost:8080/",
          "height": 34
        }
      },
      "source": [
        "# But now this data is whole numbers\n",
        "\n",
        "data.train_ds[0][0].data[:10]\n"
      ],
      "execution_count": 15,
      "outputs": [
        {
          "output_type": "execute_result",
          "data": {
            "text/plain": [
              "array([   2,    5,   56,   39, 1149,  129, 2172,   15,    6,    0])"
            ]
          },
          "metadata": {
            "tags": []
          },
          "execution_count": 15
        }
      ]
    },
    {
      "cell_type": "code",
      "metadata": {
        "id": "vptIQbGZeJWm",
        "colab_type": "code",
        "outputId": "fcccb4c3-af84-4960-9a80-9a02fcc51c7d",
        "colab": {
          "base_uri": "https://localhost:8080/",
          "height": 17
        }
      },
      "source": [
        "# Using data block API ( for more flexibility)\n",
        "\n",
        "data = (TextList.from_csv(path, 'texts.csv', cols='text')\n",
        "                .split_from_df(col=2)\n",
        "                .label_from_df(cols=0)\n",
        "                .databunch())"
      ],
      "execution_count": 16,
      "outputs": [
        {
          "output_type": "display_data",
          "data": {
            "text/html": [
              ""
            ],
            "text/plain": [
              "<IPython.core.display.HTML object>"
            ]
          },
          "metadata": {
            "tags": []
          }
        },
        {
          "output_type": "display_data",
          "data": {
            "text/html": [
              ""
            ],
            "text/plain": [
              "<IPython.core.display.HTML object>"
            ]
          },
          "metadata": {
            "tags": []
          }
        }
      ]
    },
    {
      "cell_type": "code",
      "metadata": {
        "id": "39TN8vDGekCQ",
        "colab_type": "code",
        "colab": {}
      },
      "source": [
        "## Language Model\n",
        "## Uses a lot of GPU\n",
        "\n",
        "bs = 48"
      ],
      "execution_count": 0,
      "outputs": []
    },
    {
      "cell_type": "code",
      "metadata": {
        "id": "6TksZ5rAep4-",
        "colab_type": "code",
        "outputId": "b0721b4e-f1d8-4b99-f4fa-e152a8403fd4",
        "colab": {
          "base_uri": "https://localhost:8080/",
          "height": 153
        }
      },
      "source": [
        "path = untar_data(URLs.IMDB)\n",
        "path.ls()"
      ],
      "execution_count": 18,
      "outputs": [
        {
          "output_type": "stream",
          "text": [
            "Downloading https://s3.amazonaws.com/fast-ai-nlp/imdb\n"
          ],
          "name": "stdout"
        },
        {
          "output_type": "display_data",
          "data": {
            "text/html": [
              ""
            ],
            "text/plain": [
              "<IPython.core.display.HTML object>"
            ]
          },
          "metadata": {
            "tags": []
          }
        },
        {
          "output_type": "execute_result",
          "data": {
            "text/plain": [
              "[PosixPath('/root/.fastai/data/imdb/imdb.vocab'),\n",
              " PosixPath('/root/.fastai/data/imdb/train'),\n",
              " PosixPath('/root/.fastai/data/imdb/test'),\n",
              " PosixPath('/root/.fastai/data/imdb/unsup'),\n",
              " PosixPath('/root/.fastai/data/imdb/tmp_clas'),\n",
              " PosixPath('/root/.fastai/data/imdb/tmp_lm'),\n",
              " PosixPath('/root/.fastai/data/imdb/README')]"
            ]
          },
          "metadata": {
            "tags": []
          },
          "execution_count": 18
        }
      ]
    },
    {
      "cell_type": "code",
      "metadata": {
        "id": "OrmmzK_Heus1",
        "colab_type": "code",
        "outputId": "3f53b0df-9e15-4f37-9dc0-7753721a76be",
        "colab": {
          "base_uri": "https://localhost:8080/",
          "height": 85
        }
      },
      "source": [
        "(path/'train').ls()"
      ],
      "execution_count": 19,
      "outputs": [
        {
          "output_type": "execute_result",
          "data": {
            "text/plain": [
              "[PosixPath('/root/.fastai/data/imdb/train/unsupBow.feat'),\n",
              " PosixPath('/root/.fastai/data/imdb/train/neg'),\n",
              " PosixPath('/root/.fastai/data/imdb/train/labeledBow.feat'),\n",
              " PosixPath('/root/.fastai/data/imdb/train/pos')]"
            ]
          },
          "metadata": {
            "tags": []
          },
          "execution_count": 19
        }
      ]
    },
    {
      "cell_type": "code",
      "metadata": {
        "id": "l5kJzFiIex-N",
        "colab_type": "code",
        "outputId": "09257d93-f44f-4ca2-8f7b-d5d2ffbb870f",
        "colab": {
          "base_uri": "https://localhost:8080/",
          "height": 17
        }
      },
      "source": [
        "data_lm = (TextList.from_folder(path)\n",
        "           #Inputs: all the text files in path\n",
        "            .filter_by_folder(include=['train', 'test', 'unsup']) \n",
        "           #We may have other temp folders that contain text files so we only keep what's in train and test\n",
        "            .split_by_rand_pct(0.1)\n",
        "           #We randomly split and keep 10% (10,000 reviews) for validation\n",
        "            .label_for_lm()           \n",
        "           #We want to do a language model so we label accordingly\n",
        "            .databunch(bs=bs))\n",
        "data_lm.save('data_lm.pkl')\n"
      ],
      "execution_count": 20,
      "outputs": [
        {
          "output_type": "display_data",
          "data": {
            "text/html": [
              ""
            ],
            "text/plain": [
              "<IPython.core.display.HTML object>"
            ]
          },
          "metadata": {
            "tags": []
          }
        },
        {
          "output_type": "display_data",
          "data": {
            "text/html": [
              ""
            ],
            "text/plain": [
              "<IPython.core.display.HTML object>"
            ]
          },
          "metadata": {
            "tags": []
          }
        }
      ]
    },
    {
      "cell_type": "code",
      "metadata": {
        "id": "5wbWAi-wfdYQ",
        "colab_type": "code",
        "colab": {}
      },
      "source": [
        "data_lm = load_data(path, 'data_lm.pkl', bs=bs)\n"
      ],
      "execution_count": 0,
      "outputs": []
    },
    {
      "cell_type": "code",
      "metadata": {
        "id": "SFKp-Al3ffV1",
        "colab_type": "code",
        "outputId": "739e3f23-eccf-4f54-cb18-67e90a25ceaa",
        "colab": {
          "base_uri": "https://localhost:8080/",
          "height": 459
        }
      },
      "source": [
        "data_lm.show_batch()\n"
      ],
      "execution_count": 22,
      "outputs": [
        {
          "output_type": "display_data",
          "data": {
            "text/html": [
              "<table border=\"1\" class=\"dataframe\">\n",
              "  <thead>\n",
              "    <tr style=\"text-align: right;\">\n",
              "      <th>idx</th>\n",
              "      <th>text</th>\n",
              "    </tr>\n",
              "  </thead>\n",
              "  <tbody>\n",
              "    <tr>\n",
              "      <td>0</td>\n",
              "      <td>. xxmaj my biggest problem with the movie was that the story does not offer a character that i could root for , since the intended hero is an idiot . xxmaj director xxmaj chang has no sense of style , and he is unable to hide the glaring imperfections found in the narrative . i know this is not supposed to be high art , but i found the</td>\n",
              "    </tr>\n",
              "    <tr>\n",
              "      <td>1</td>\n",
              "      <td>an hour glass , \" \" xxmaj this guy dropped out of ball for a while to find something he lost -- maybe it was his mind , \" \" xxmaj somebody needs a nap , \" and \" ever see a sunset as beautiful as that play . \" xxmaj where the characters have such little significance to each other that we never know them by name . xxmaj</td>\n",
              "    </tr>\n",
              "    <tr>\n",
              "      <td>2</td>\n",
              "      <td>the only room that is n't flammable , you should seriously consider being burned alive instead . \\n \\n  ( xxmaj if i sound bitter , it 's because i just spent over two hours watching this movie and , uh , i did n't enjoy it very much . ) xxbos i 've got a question for those who thought of this idea . xxmaj why ? xxmaj</td>\n",
              "    </tr>\n",
              "    <tr>\n",
              "      <td>3</td>\n",
              "      <td>'s life including a first wife . xxmaj playing the second and only wife in this film is xxmaj susan xxmaj hayward who only comes into the movie when it 's half over . i wish we 'd have seen more of her . xxmaj xxunk xxmaj kittredge xxmaj london survived her husband by almost 40 years dying in 1955 . \\n \\n  o'shea in fact met and married</td>\n",
              "    </tr>\n",
              "    <tr>\n",
              "      <td>4</td>\n",
              "      <td>3 of the main hero characters were reincarnations brought back to finish the job . xxmaj sarah completes her task and moves on to the afterlife . xxmaj jack does this as well . xxmaj then why does xxmaj ethan get screwed ? xxmaj he 's left alone , without the girl , without a map / compass / helicopter to help him get back . xxmaj what 's he</td>\n",
              "    </tr>\n",
              "  </tbody>\n",
              "</table>"
            ],
            "text/plain": [
              "<IPython.core.display.HTML object>"
            ]
          },
          "metadata": {
            "tags": []
          }
        }
      ]
    },
    {
      "cell_type": "code",
      "metadata": {
        "id": "bnPwRF40fgMF",
        "colab_type": "code",
        "outputId": "5acd089e-087e-4dea-88ba-3eab320f8763",
        "colab": {
          "base_uri": "https://localhost:8080/",
          "height": 34
        }
      },
      "source": [
        "learn = language_model_learner(data_lm, AWD_LSTM, drop_mult=0.3)\n"
      ],
      "execution_count": 23,
      "outputs": [
        {
          "output_type": "stream",
          "text": [
            "Downloading https://s3.amazonaws.com/fast-ai-modelzoo/wt103-fwd\n"
          ],
          "name": "stdout"
        },
        {
          "output_type": "display_data",
          "data": {
            "text/html": [
              ""
            ],
            "text/plain": [
              "<IPython.core.display.HTML object>"
            ]
          },
          "metadata": {
            "tags": []
          }
        }
      ]
    },
    {
      "cell_type": "code",
      "metadata": {
        "id": "OvGd2vGeg0P2",
        "colab_type": "code",
        "outputId": "0637601e-1f91-43a4-abc0-53b3e53f835a",
        "colab": {
          "base_uri": "https://localhost:8080/",
          "height": 112
        }
      },
      "source": [
        "learn.lr_find()"
      ],
      "execution_count": 24,
      "outputs": [
        {
          "output_type": "display_data",
          "data": {
            "text/html": [
              "\n",
              "    <div>\n",
              "        <style>\n",
              "            /* Turns off some styling */\n",
              "            progress {\n",
              "                /* gets rid of default border in Firefox and Opera. */\n",
              "                border: none;\n",
              "                /* Needs to be in here for Safari polyfill so background images work as expected. */\n",
              "                background-size: auto;\n",
              "            }\n",
              "            .progress-bar-interrupted, .progress-bar-interrupted::-webkit-progress-bar {\n",
              "                background: #F44336;\n",
              "            }\n",
              "        </style>\n",
              "      <progress value='0' class='' max='1', style='width:300px; height:20px; vertical-align: middle;'></progress>\n",
              "      0.00% [0/1 00:00<00:00]\n",
              "    </div>\n",
              "    \n",
              "<table border=\"1\" class=\"dataframe\">\n",
              "  <thead>\n",
              "    <tr style=\"text-align: left;\">\n",
              "      <th>epoch</th>\n",
              "      <th>train_loss</th>\n",
              "      <th>valid_loss</th>\n",
              "      <th>accuracy</th>\n",
              "      <th>time</th>\n",
              "    </tr>\n",
              "  </thead>\n",
              "  <tbody>\n",
              "  </tbody>\n",
              "</table><p>\n",
              "\n",
              "    <div>\n",
              "        <style>\n",
              "            /* Turns off some styling */\n",
              "            progress {\n",
              "                /* gets rid of default border in Firefox and Opera. */\n",
              "                border: none;\n",
              "                /* Needs to be in here for Safari polyfill so background images work as expected. */\n",
              "                background-size: auto;\n",
              "            }\n",
              "            .progress-bar-interrupted, .progress-bar-interrupted::-webkit-progress-bar {\n",
              "                background: #F44336;\n",
              "            }\n",
              "        </style>\n",
              "      <progress value='99' class='' max='8049', style='width:300px; height:20px; vertical-align: middle;'></progress>\n",
              "      1.23% [99/8049 00:18<25:00 11.8837]\n",
              "    </div>\n",
              "    "
            ],
            "text/plain": [
              "<IPython.core.display.HTML object>"
            ]
          },
          "metadata": {
            "tags": []
          }
        },
        {
          "output_type": "stream",
          "text": [
            "LR Finder is complete, type {learner_name}.recorder.plot() to see the graph.\n"
          ],
          "name": "stdout"
        }
      ]
    },
    {
      "cell_type": "code",
      "metadata": {
        "id": "0nhuHDL6g3Z7",
        "colab_type": "code",
        "outputId": "23136802-ac7b-41ca-e606-24cefe996a14",
        "colab": {
          "base_uri": "https://localhost:8080/",
          "height": 279
        }
      },
      "source": [
        "learn.recorder.plot(skip_end=15)"
      ],
      "execution_count": 25,
      "outputs": [
        {
          "output_type": "display_data",
          "data": {
            "image/png": "[encoded data removed]",
            "text/plain": [
              "<Figure size 432x288 with 1 Axes>"
            ]
          },
          "metadata": {
            "tags": []
          }
        }
      ]
    },
    {
      "cell_type": "code",
      "metadata": {
        "id": "BLayFxwtg6lb",
        "colab_type": "code",
        "outputId": "64e565a8-50bd-476c-a0bb-d8bd34a7c2c0",
        "colab": {
          "base_uri": "https://localhost:8080/",
          "height": 80
        }
      },
      "source": [
        "learn.fit_one_cycle(1, 1e-2, moms=(0.8,0.7))"
      ],
      "execution_count": 26,
      "outputs": [
        {
          "output_type": "display_data",
          "data": {
            "text/html": [
              "<table border=\"1\" class=\"dataframe\">\n",
              "  <thead>\n",
              "    <tr style=\"text-align: left;\">\n",
              "      <th>epoch</th>\n",
              "      <th>train_loss</th>\n",
              "      <th>valid_loss</th>\n",
              "      <th>accuracy</th>\n",
              "      <th>time</th>\n",
              "    </tr>\n",
              "  </thead>\n",
              "  <tbody>\n",
              "    <tr>\n",
              "      <td>0</td>\n",
              "      <td>4.156218</td>\n",
              "      <td>4.022254</td>\n",
              "      <td>0.295337</td>\n",
              "      <td>26:08</td>\n",
              "    </tr>\n",
              "  </tbody>\n",
              "</table>"
            ],
            "text/plain": [
              "<IPython.core.display.HTML object>"
            ]
          },
          "metadata": {
            "tags": []
          }
        }
      ]
    },
    {
      "cell_type": "code",
      "metadata": {
        "id": "RqfK9mp5hAes",
        "colab_type": "code",
        "colab": {}
      },
      "source": [
        "learn.save('fit_head')"
      ],
      "execution_count": 0,
      "outputs": []
    },
    {
      "cell_type": "code",
      "metadata": {
        "id": "s6bUGk1phCZb",
        "colab_type": "code",
        "colab": {
          "base_uri": "https://localhost:8080/",
          "height": 1000
        },
        "outputId": "421d6a48-f703-4aef-eff0-fb260228636c"
      },
      "source": [
        "learn.load('fit_head')"
      ],
      "execution_count": 28,
      "outputs": [
        {
          "output_type": "execute_result",
          "data": {
            "text/plain": [
              "LanguageLearner(data=TextLMDataBunch;\n",
              "\n",
              "Train: LabelList (90000 items)\n",
              "x: LMTextList\n",
              "xxbos xxmaj considering its popularity , i found this movie a huge disappointment . xxmaj maybe i was expecting too much from this film . xxmaj after all , it is one of the most well known martial arts films of the 1970s , but i could never figure out why . xxmaj the story is uninteresting . xxmaj it is also a very talky movie with sporadic action sequences . xxmaj my biggest problem with the movie was that the story does not offer a character that i could root for , since the intended hero is an idiot . xxmaj director xxmaj chang has no sense of style , and he is unable to hide the glaring imperfections found in the narrative . i know this is not supposed to be high art , but i found the movie boring . xxmaj definitely not the best example of this much - beloved genre . xxmaj its cult status escapes me . i recommend you to skip it .,xxbos xxmaj what a complete piece of trash . xxmaj plot notwithstanding , when a movie 's action revolves around airplanes , you 'd think the writers / producers / director ( or xxup anyone ! ) would do a little bit of homework as to at least a xxup few of the details . xxmaj the mistakes were so glaring that i was fuming by the end of the movie . xxmaj here are just a few : i 'm glad i missed the xxup sr-71 sequence - certain to have been worse than the \" xxmaj air xxmaj force xxmaj one \" xxup f-117 spectacle . xxmaj commercial airlines usually have their logos painted on the aircraft rather than xxup boeing 747  likely the ( cheap ) use of some xxmaj boeing advertising / publicity footage by the director . xxmaj exposed wiring connected by wire nuts is mediocre at best for house wiring , much less multi - million dollar aircraft xxunk wiring . xxmaj airplanes like the 747 rely on pressure alone rather than ship 's supply oxygen to maintain breathable air , and if they did rely on an on - board supply , the canister would be far bigger than fist sized . xxmaj medical tape is not a suitable substitute for a threaded hose connection . xxmaj those were xxmaj f-16s , xxup not xxmaj f-15s . xxmaj mach 1 + ( speed of sound ) would be difficult to attain on a static engine run up for takeoff ( watch the xxunk indicator ) . \" xxmaj standard formation \" is simply keeping the formation inside one nautical mile , \" route \" formation is what they were flying - not the most useful formation for an intercept . \" xxmaj acquiring missile lock \" is not likely to get an airline pilot 's attention - they have no radar detection or countermeasures . \" xxmaj wait for my signal \" is not inter - flight communication for preparing to fire anything . xxmaj xxunk from a door opening in flight is not grounds for an immediate steep left bank . xxmaj yelling into a headset does not make it transmit . xxmaj magnetic headings are given as \" headings \" not \" bearings , \" and headings are between xxunk and 360 degrees ( compasses in the air are just like compasses on the ground ! ) , so turning left ( not \" port \"  that 's a boat thing ) from a \" bearing \" of xxunk to 502 is just stupid . xxmaj it is in most cases impossible to just \" turn the yoke left until the correct heading is reached \"  that sort of thing will result in 360 degree rolls until the yoke is centered again . xxmaj the likelihood of a flight attendant immediately finding and successfully engaging the autopilot is only slightly greater than the likelihood of her actually landing the jet safely . xxmaj airplanes do n't stall immediately upon pulling the throttle back , and xxunk have more than one little lever to control the multi - engine thrust . xxmaj flaps are lowered in increments usually just prior to and immediately following landing gear extension , not seconds before landing ( good way to crash ) . xxmaj wheel brakes are required to stop an airplane , simply pulling the xxunk ) ( this time a different lever in the movie ) to idle will just allow you to go off the end of the runway at a slower speed . xxmaj did i mention that those fighter aircraft were xxmaj f-16s and xxup not xxmaj f-15s ? xxmaj guess i did \n",
              "  xxmaj and that 's just what i xxup remember from recently watching this horrific movie .,xxbos xxmaj no matter what anyone tells you , there is a mere fact to the word \" possession \" in film circles -- such as \" what possessed you to greenlight this film ? \" xxmaj religion does n't have anything to do with it , but common sense does . xxmaj that is , if your head is clear and you are of sound mind to make a judgment . \n",
              " \n",
              "  xxmaj on many levels i tried to rationalize where this film would entertain xxrep 4 . or even interest the average consumer . xxmaj the star ? xxmaj the story ? xxmaj the unique idea ? a buddy movie that kids would love with a dinosaur and a black woman ? xxmaj on , my goodness ! i am sure when this was an \" idea \" , it sounded good . xxmaj but somewhere during the course of development ... someone should have pointed out where the idea could not translate into a piece of entertainment anyone would wish to watch or pay for ... unless they were very much deeply under the influence of alcohol or drugs and saw something the rest of us could not see . \n",
              " \n",
              "  xxmaj regardless , this is a complete mess . xxmaj mess , mess - sin and a mess . \n",
              " \n",
              "  xxmaj who cares about the plot ( what plot ? ) et al . xxmaj whoopie got a paycheck , but i would have been embarrassed to take it . i sure hope she fired her agent / manager / publicist over this career move . xxmaj obviously not , she went on to make more bad films . xxmaj and more bad films . xxmaj sad .,xxbos xxmaj this has to be the most brutally unfunny \" comedy \" i 've ever seen in my life . xxmaj ben xxmaj stiller , xxmaj jack xxmaj black , and xxmaj christopher xxmaj walken as a crazed homeless man xxup can't make me laugh ? xxmaj something 's got to be wrong with this picture . xxmaj this is the only movie i 've ever felt like walking out of . i used free passes , and still felt like i wanted my money back . i can wholeheartedly say that the only movie i 've ever seen worse than this one was xxup house xxup of xxup the xxup dead . xxmaj the . xxup only . worse . movie . i laughed very slightly at the merry - go - round scene , and that 's it . xxmaj spending 2 hours in something billed as a comedy should get you more than one laugh , right ? i do n't know , i guess the filmmakers thought that \" xxunk \" was a funny word , or something . xxmaj and the other running joke really is beating a dead horse -- literally .,xxbos xxmaj sorry , i just did n't find the subject matter as compelling as the filmmaker did . xxmaj the robot guy and the mole rat guy were pretty interesting , although xxmaj morris did n't really tell us much about them . xxmaj the other two subjects were a bore . xxmaj and the supposed \" connections \" between them did n't hold up .\n",
              "y: LMLabelList\n",
              ",,,,\n",
              "Path: /root/.fastai/data/imdb;\n",
              "\n",
              "Valid: LabelList (10000 items)\n",
              "x: LMTextList\n",
              "xxbos xxmaj another stupid slasher film from the 80s . xxmaj basically it involves a bunch of idiots at a summer camp ( in xxmaj november ! ) unwittingly bringing to life a monster who likes axing his victims ... or something like that . xxmaj who cares ? xxmaj the movie is crap ! \n",
              " \n",
              "  xxmaj all the characters are annoying and ( with the exception of xxmaj xxunk xxmaj ross from \" xxmaj dawn of the xxmaj dead \" ) the acting sucks . xxmaj there are some truly ridiculous scenes -- a man gets his head cut off and , a few minutes later , a girl comes by , looks at the bloody headless body and says \" xxmaj are you xxup ok ? \" ; a couple are making love in a tent -- their friends outside tell them to come out -- the guy yells \" xxup coming ! \" etc etc . \n",
              " \n",
              "  xxmaj there are only two highlights here -- the death by the hood of a trunk and a nice shot of a guy 's butt while going into a hot tub ( it 's rare you get any male nudity in a horror film ) . xxmaj but that 's no reason to see this . \n",
              " \n",
              "  i saw it at a theatre back in 1982 full of high school students ( despite the r rating ) . xxmaj they laughed all the way through and thought it was a good comedy ! xxmaj and there 's even room for a xxup sequel ( which never happened ) . \n",
              " \n",
              "  xxmaj as it stands it 's almost impossible to find a copy of this now -- that 's a good thing ! xxmaj avoid .,xxbos xxmaj bonny xxmaj hunt scores a coup with her directorial debut . xxmaj minnie xxmaj driver and xxmaj david xxmaj duchovny have that indescribable something called chemistry . xxmaj sure the plot is unlikely , but that does n't stop one from enjoying this film . xxmaj carroll o'conner does a great job as xxmaj grace 's grandfather . xxmaj other great character actors play his card buddies . xxmaj jim xxmaj belushi is hilarious as the down - to - earth husband of xxmaj megan , part of the extended family . \n",
              " \n",
              "  xxmaj faith , family , and marriage are respected . a few sexual references and salty words are used but in context and with gentle humor . \n",
              " \n",
              "  xxmaj and in the background that wonderful xxmaj dean xxmaj martin xxunk to xxmaj me . \" \n",
              " \n",
              "  xxmaj recommended .,xxbos xxmaj unlike most people who 've commented , i was born after the last xxmaj sylvester xxmaj mccoy xxmaj episode and so could n't have compared the two centuries of doctor who at first . i thoroughly enjoyed it when xxmaj christopher xxmaj eccleston took control of the xxup tardis and the continuation of the series . i have , since then , seen old episodes of xxmaj doctor xxmaj who and some where great , but , like the doctor , the series needed to regenerate to continue . xxmaj the 21st century doctor who 's are great , i thought xxmaj martha was great , almost a match for the doctor and if xxmaj jack 's appearance is anything to go by , she 's going to be brilliant when she cameos in series 4 or 5 . \n",
              " \n",
              "  xxmaj speaking of xxmaj jack , the spin of , xxmaj torchwood is also brilliant and you should watch both of these programmes ( though this is definitely more suitable for kids ) . xxmaj however , if you insist that this is n't the same and just is n't xxmaj doctor xxmaj who , please , just stay in your basement . \n",
              " \n",
              "  10 / 10,xxbos xxmaj there are few shows that keep me coming back for more , or that i would pine for to see a new version of , but xxmaj blackadder is one of those shows . xxmaj you need only look at the great writing and great acting to see a show that will forever stand the test of time . \n",
              " \n",
              "  xxmaj blackadder goes xxmaj forth is pure genius , tinged with xxunk on this occasion xxmaj blackadder is yet again obnoxious , ruthless and selfish , but in the aim of doing something we can xxunk escaping the trenches of xxup wwi . xxmaj desperation xxunk everything he does . xxmaj the real ' bad guy ' is xxmaj general xxmaj xxunk , with his hare - brained schemes , which , as xxmaj blackadder puts it , feels like ' pushing xxmaj field xxmaj marshall xxmaj hague 's drinks cabinet another few inches closer to xxmaj berlin ' . \n",
              " \n",
              "  xxmaj such lines as ' i 'm as xxmaj british as xxmaj queen xxmaj victoria ' ' xxmaj so you 're father 's xxmaj german , you 're brothers are xxmaj german and you 're cousins are xxmaj german ? ' are rattled off with accomplished acting skill and timing . xxmaj like i said , this show is pure genius . \n",
              " \n",
              "  xxmaj the ending just serves to highlight the tragic nature of xxup wwi , and the futility faced by all in the trenches . xxmaj it 's a touching moment , that makes you stop and think .,xxbos xxmaj robert xxmaj xxunk : xxup the xxup phantom xxup of xxup the xxup opera ( 1983 ) made for xxup tv movie . \n",
              " \n",
              "  xxmaj story is set in xxmaj budapest after the xxmaj first xxmaj world xxmaj war . xxmaj the vile opera manager does n't get the newest soprano to his bed so he arranges a critical review of her performance . xxmaj soprano drowns herself , feeling she has betrayed her conductor husband xxmaj xxunk xxmaj korvin . xxmaj korvin goes mad , kills the publisher of the review but also gets burned in the face by acid . xxmaj rat catcher hides him beneath the opera house . xxmaj four years later xxmaj maria , the exact replica of xxmaj korvin 's wife , comes to sing to the opera . xxmaj both xxmaj phantom and xxmaj michael , the new director , falls in love with her . \n",
              " \n",
              "  xxmaj this kind of story became a great xxmaj gothic romance in xxmaj dracula ( 1992 ) . xxmaj unfortunately it gets wasted here . xxmaj director seems to have no skill whatsoever . xxmaj the dark opera house provides good surrounding but he does n't use them in any part . xxmaj also cast is totally wasted . xxmaj maximilian xxmaj schell ( xxmaj xxunk xxmaj korvin / xxmaj the xxmaj phantom ) is a great actor with a deep haunting voice but he seems to be in this only for money . xxmaj jane xxmaj xxunk ( xxmaj maria / xxmaj elena ) i think has never had any acting talent and this is n't exception . xxmaj even xxmaj jeremy xxmaj kemp as the opera manager fails to give same kind of a slimy villain as xxmaj michael xxmaj gough in 1962 version . xxmaj so it is xxmaj michael xxmaj york ( xxmaj michael ) who steals to show and is the only enjoyable thing here . \n",
              " \n",
              "  xxmaj last word : avoid at all cost ! xxmaj unless you 're die hard xxmaj york fan .\n",
              "y: LMLabelList\n",
              ",,,,\n",
              "Path: /root/.fastai/data/imdb;\n",
              "\n",
              "Test: None, model=SequentialRNN(\n",
              "  (0): AWD_LSTM(\n",
              "    (encoder): Embedding(60000, 400, padding_idx=1)\n",
              "    (encoder_dp): EmbeddingDropout(\n",
              "      (emb): Embedding(60000, 400, padding_idx=1)\n",
              "    )\n",
              "    (rnns): ModuleList(\n",
              "      (0): WeightDropout(\n",
              "        (module): LSTM(400, 1152, batch_first=True)\n",
              "      )\n",
              "      (1): WeightDropout(\n",
              "        (module): LSTM(1152, 1152, batch_first=True)\n",
              "      )\n",
              "      (2): WeightDropout(\n",
              "        (module): LSTM(1152, 400, batch_first=True)\n",
              "      )\n",
              "    )\n",
              "    (input_dp): RNNDropout()\n",
              "    (hidden_dps): ModuleList(\n",
              "      (0): RNNDropout()\n",
              "      (1): RNNDropout()\n",
              "      (2): RNNDropout()\n",
              "    )\n",
              "  )\n",
              "  (1): LinearDecoder(\n",
              "    (decoder): Linear(in_features=400, out_features=60000, bias=True)\n",
              "    (output_dp): RNNDropout()\n",
              "  )\n",
              "), opt_func=functools.partial(<class 'torch.optim.adam.Adam'>, betas=(0.9, 0.99)), loss_func=FlattenedLoss of CrossEntropyLoss(), metrics=[<function accuracy at 0x7f9effa7f158>], true_wd=True, bn_wd=True, wd=0.01, train_bn=True, path=PosixPath('/root/.fastai/data/imdb'), model_dir='models', callback_fns=[functools.partial(<class 'fastai.basic_train.Recorder'>, add_time=True, silent=False)], callbacks=[RNNTrainer\n",
              "learn: LanguageLearner(data=TextLMDataBunch;\n",
              "\n",
              "Train: LabelList (90000 items)\n",
              "x: LMTextList\n",
              "xxbos xxmaj considering its popularity , i found this movie a huge disappointment . xxmaj maybe i was expecting too much from this film . xxmaj after all , it is one of the most well known martial arts films of the 1970s , but i could never figure out why . xxmaj the story is uninteresting . xxmaj it is also a very talky movie with sporadic action sequences . xxmaj my biggest problem with the movie was that the story does not offer a character that i could root for , since the intended hero is an idiot . xxmaj director xxmaj chang has no sense of style , and he is unable to hide the glaring imperfections found in the narrative . i know this is not supposed to be high art , but i found the movie boring . xxmaj definitely not the best example of this much - beloved genre . xxmaj its cult status escapes me . i recommend you to skip it .,xxbos xxmaj what a complete piece of trash . xxmaj plot notwithstanding , when a movie 's action revolves around airplanes , you 'd think the writers / producers / director ( or xxup anyone ! ) would do a little bit of homework as to at least a xxup few of the details . xxmaj the mistakes were so glaring that i was fuming by the end of the movie . xxmaj here are just a few : i 'm glad i missed the xxup sr-71 sequence - certain to have been worse than the \" xxmaj air xxmaj force xxmaj one \" xxup f-117 spectacle . xxmaj commercial airlines usually have their logos painted on the aircraft rather than xxup boeing 747  likely the ( cheap ) use of some xxmaj boeing advertising / publicity footage by the director . xxmaj exposed wiring connected by wire nuts is mediocre at best for house wiring , much less multi - million dollar aircraft xxunk wiring . xxmaj airplanes like the 747 rely on pressure alone rather than ship 's supply oxygen to maintain breathable air , and if they did rely on an on - board supply , the canister would be far bigger than fist sized . xxmaj medical tape is not a suitable substitute for a threaded hose connection . xxmaj those were xxmaj f-16s , xxup not xxmaj f-15s . xxmaj mach 1 + ( speed of sound ) would be difficult to attain on a static engine run up for takeoff ( watch the xxunk indicator ) . \" xxmaj standard formation \" is simply keeping the formation inside one nautical mile , \" route \" formation is what they were flying - not the most useful formation for an intercept . \" xxmaj acquiring missile lock \" is not likely to get an airline pilot 's attention - they have no radar detection or countermeasures . \" xxmaj wait for my signal \" is not inter - flight communication for preparing to fire anything . xxmaj xxunk from a door opening in flight is not grounds for an immediate steep left bank . xxmaj yelling into a headset does not make it transmit . xxmaj magnetic headings are given as \" headings \" not \" bearings , \" and headings are between xxunk and 360 degrees ( compasses in the air are just like compasses on the ground ! ) , so turning left ( not \" port \"  that 's a boat thing ) from a \" bearing \" of xxunk to 502 is just stupid . xxmaj it is in most cases impossible to just \" turn the yoke left until the correct heading is reached \"  that sort of thing will result in 360 degree rolls until the yoke is centered again . xxmaj the likelihood of a flight attendant immediately finding and successfully engaging the autopilot is only slightly greater than the likelihood of her actually landing the jet safely . xxmaj airplanes do n't stall immediately upon pulling the throttle back , and xxunk have more than one little lever to control the multi - engine thrust . xxmaj flaps are lowered in increments usually just prior to and immediately following landing gear extension , not seconds before landing ( good way to crash ) . xxmaj wheel brakes are required to stop an airplane , simply pulling the xxunk ) ( this time a different lever in the movie ) to idle will just allow you to go off the end of the runway at a slower speed . xxmaj did i mention that those fighter aircraft were xxmaj f-16s and xxup not xxmaj f-15s ? xxmaj guess i did \n",
              "  xxmaj and that 's just what i xxup remember from recently watching this horrific movie .,xxbos xxmaj no matter what anyone tells you , there is a mere fact to the word \" possession \" in film circles -- such as \" what possessed you to greenlight this film ? \" xxmaj religion does n't have anything to do with it , but common sense does . xxmaj that is , if your head is clear and you are of sound mind to make a judgment . \n",
              " \n",
              "  xxmaj on many levels i tried to rationalize where this film would entertain xxrep 4 . or even interest the average consumer . xxmaj the star ? xxmaj the story ? xxmaj the unique idea ? a buddy movie that kids would love with a dinosaur and a black woman ? xxmaj on , my goodness ! i am sure when this was an \" idea \" , it sounded good . xxmaj but somewhere during the course of development ... someone should have pointed out where the idea could not translate into a piece of entertainment anyone would wish to watch or pay for ... unless they were very much deeply under the influence of alcohol or drugs and saw something the rest of us could not see . \n",
              " \n",
              "  xxmaj regardless , this is a complete mess . xxmaj mess , mess - sin and a mess . \n",
              " \n",
              "  xxmaj who cares about the plot ( what plot ? ) et al . xxmaj whoopie got a paycheck , but i would have been embarrassed to take it . i sure hope she fired her agent / manager / publicist over this career move . xxmaj obviously not , she went on to make more bad films . xxmaj and more bad films . xxmaj sad .,xxbos xxmaj this has to be the most brutally unfunny \" comedy \" i 've ever seen in my life . xxmaj ben xxmaj stiller , xxmaj jack xxmaj black , and xxmaj christopher xxmaj walken as a crazed homeless man xxup can't make me laugh ? xxmaj something 's got to be wrong with this picture . xxmaj this is the only movie i 've ever felt like walking out of . i used free passes , and still felt like i wanted my money back . i can wholeheartedly say that the only movie i 've ever seen worse than this one was xxup house xxup of xxup the xxup dead . xxmaj the . xxup only . worse . movie . i laughed very slightly at the merry - go - round scene , and that 's it . xxmaj spending 2 hours in something billed as a comedy should get you more than one laugh , right ? i do n't know , i guess the filmmakers thought that \" xxunk \" was a funny word , or something . xxmaj and the other running joke really is beating a dead horse -- literally .,xxbos xxmaj sorry , i just did n't find the subject matter as compelling as the filmmaker did . xxmaj the robot guy and the mole rat guy were pretty interesting , although xxmaj morris did n't really tell us much about them . xxmaj the other two subjects were a bore . xxmaj and the supposed \" connections \" between them did n't hold up .\n",
              "y: LMLabelList\n",
              ",,,,\n",
              "Path: /root/.fastai/data/imdb;\n",
              "\n",
              "Valid: LabelList (10000 items)\n",
              "x: LMTextList\n",
              "xxbos xxmaj another stupid slasher film from the 80s . xxmaj basically it involves a bunch of idiots at a summer camp ( in xxmaj november ! ) unwittingly bringing to life a monster who likes axing his victims ... or something like that . xxmaj who cares ? xxmaj the movie is crap ! \n",
              " \n",
              "  xxmaj all the characters are annoying and ( with the exception of xxmaj xxunk xxmaj ross from \" xxmaj dawn of the xxmaj dead \" ) the acting sucks . xxmaj there are some truly ridiculous scenes -- a man gets his head cut off and , a few minutes later , a girl comes by , looks at the bloody headless body and says \" xxmaj are you xxup ok ? \" ; a couple are making love in a tent -- their friends outside tell them to come out -- the guy yells \" xxup coming ! \" etc etc . \n",
              " \n",
              "  xxmaj there are only two highlights here -- the death by the hood of a trunk and a nice shot of a guy 's butt while going into a hot tub ( it 's rare you get any male nudity in a horror film ) . xxmaj but that 's no reason to see this . \n",
              " \n",
              "  i saw it at a theatre back in 1982 full of high school students ( despite the r rating ) . xxmaj they laughed all the way through and thought it was a good comedy ! xxmaj and there 's even room for a xxup sequel ( which never happened ) . \n",
              " \n",
              "  xxmaj as it stands it 's almost impossible to find a copy of this now -- that 's a good thing ! xxmaj avoid .,xxbos xxmaj bonny xxmaj hunt scores a coup with her directorial debut . xxmaj minnie xxmaj driver and xxmaj david xxmaj duchovny have that indescribable something called chemistry . xxmaj sure the plot is unlikely , but that does n't stop one from enjoying this film . xxmaj carroll o'conner does a great job as xxmaj grace 's grandfather . xxmaj other great character actors play his card buddies . xxmaj jim xxmaj belushi is hilarious as the down - to - earth husband of xxmaj megan , part of the extended family . \n",
              " \n",
              "  xxmaj faith , family , and marriage are respected . a few sexual references and salty words are used but in context and with gentle humor . \n",
              " \n",
              "  xxmaj and in the background that wonderful xxmaj dean xxmaj martin xxunk to xxmaj me . \" \n",
              " \n",
              "  xxmaj recommended .,xxbos xxmaj unlike most people who 've commented , i was born after the last xxmaj sylvester xxmaj mccoy xxmaj episode and so could n't have compared the two centuries of doctor who at first . i thoroughly enjoyed it when xxmaj christopher xxmaj eccleston took control of the xxup tardis and the continuation of the series . i have , since then , seen old episodes of xxmaj doctor xxmaj who and some where great , but , like the doctor , the series needed to regenerate to continue . xxmaj the 21st century doctor who 's are great , i thought xxmaj martha was great , almost a match for the doctor and if xxmaj jack 's appearance is anything to go by , she 's going to be brilliant when she cameos in series 4 or 5 . \n",
              " \n",
              "  xxmaj speaking of xxmaj jack , the spin of , xxmaj torchwood is also brilliant and you should watch both of these programmes ( though this is definitely more suitable for kids ) . xxmaj however , if you insist that this is n't the same and just is n't xxmaj doctor xxmaj who , please , just stay in your basement . \n",
              " \n",
              "  10 / 10,xxbos xxmaj there are few shows that keep me coming back for more , or that i would pine for to see a new version of , but xxmaj blackadder is one of those shows . xxmaj you need only look at the great writing and great acting to see a show that will forever stand the test of time . \n",
              " \n",
              "  xxmaj blackadder goes xxmaj forth is pure genius , tinged with xxunk on this occasion xxmaj blackadder is yet again obnoxious , ruthless and selfish , but in the aim of doing something we can xxunk escaping the trenches of xxup wwi . xxmaj desperation xxunk everything he does . xxmaj the real ' bad guy ' is xxmaj general xxmaj xxunk , with his hare - brained schemes , which , as xxmaj blackadder puts it , feels like ' pushing xxmaj field xxmaj marshall xxmaj hague 's drinks cabinet another few inches closer to xxmaj berlin ' . \n",
              " \n",
              "  xxmaj such lines as ' i 'm as xxmaj british as xxmaj queen xxmaj victoria ' ' xxmaj so you 're father 's xxmaj german , you 're brothers are xxmaj german and you 're cousins are xxmaj german ? ' are rattled off with accomplished acting skill and timing . xxmaj like i said , this show is pure genius . \n",
              " \n",
              "  xxmaj the ending just serves to highlight the tragic nature of xxup wwi , and the futility faced by all in the trenches . xxmaj it 's a touching moment , that makes you stop and think .,xxbos xxmaj robert xxmaj xxunk : xxup the xxup phantom xxup of xxup the xxup opera ( 1983 ) made for xxup tv movie . \n",
              " \n",
              "  xxmaj story is set in xxmaj budapest after the xxmaj first xxmaj world xxmaj war . xxmaj the vile opera manager does n't get the newest soprano to his bed so he arranges a critical review of her performance . xxmaj soprano drowns herself , feeling she has betrayed her conductor husband xxmaj xxunk xxmaj korvin . xxmaj korvin goes mad , kills the publisher of the review but also gets burned in the face by acid . xxmaj rat catcher hides him beneath the opera house . xxmaj four years later xxmaj maria , the exact replica of xxmaj korvin 's wife , comes to sing to the opera . xxmaj both xxmaj phantom and xxmaj michael , the new director , falls in love with her . \n",
              " \n",
              "  xxmaj this kind of story became a great xxmaj gothic romance in xxmaj dracula ( 1992 ) . xxmaj unfortunately it gets wasted here . xxmaj director seems to have no skill whatsoever . xxmaj the dark opera house provides good surrounding but he does n't use them in any part . xxmaj also cast is totally wasted . xxmaj maximilian xxmaj schell ( xxmaj xxunk xxmaj korvin / xxmaj the xxmaj phantom ) is a great actor with a deep haunting voice but he seems to be in this only for money . xxmaj jane xxmaj xxunk ( xxmaj maria / xxmaj elena ) i think has never had any acting talent and this is n't exception . xxmaj even xxmaj jeremy xxmaj kemp as the opera manager fails to give same kind of a slimy villain as xxmaj michael xxmaj gough in 1962 version . xxmaj so it is xxmaj michael xxmaj york ( xxmaj michael ) who steals to show and is the only enjoyable thing here . \n",
              " \n",
              "  xxmaj last word : avoid at all cost ! xxmaj unless you 're die hard xxmaj york fan .\n",
              "y: LMLabelList\n",
              ",,,,\n",
              "Path: /root/.fastai/data/imdb;\n",
              "\n",
              "Test: None, model=SequentialRNN(\n",
              "  (0): AWD_LSTM(\n",
              "    (encoder): Embedding(60000, 400, padding_idx=1)\n",
              "    (encoder_dp): EmbeddingDropout(\n",
              "      (emb): Embedding(60000, 400, padding_idx=1)\n",
              "    )\n",
              "    (rnns): ModuleList(\n",
              "      (0): WeightDropout(\n",
              "        (module): LSTM(400, 1152, batch_first=True)\n",
              "      )\n",
              "      (1): WeightDropout(\n",
              "        (module): LSTM(1152, 1152, batch_first=True)\n",
              "      )\n",
              "      (2): WeightDropout(\n",
              "        (module): LSTM(1152, 400, batch_first=True)\n",
              "      )\n",
              "    )\n",
              "    (input_dp): RNNDropout()\n",
              "    (hidden_dps): ModuleList(\n",
              "      (0): RNNDropout()\n",
              "      (1): RNNDropout()\n",
              "      (2): RNNDropout()\n",
              "    )\n",
              "  )\n",
              "  (1): LinearDecoder(\n",
              "    (decoder): Linear(in_features=400, out_features=60000, bias=True)\n",
              "    (output_dp): RNNDropout()\n",
              "  )\n",
              "), opt_func=functools.partial(<class 'torch.optim.adam.Adam'>, betas=(0.9, 0.99)), loss_func=FlattenedLoss of CrossEntropyLoss(), metrics=[<function accuracy at 0x7f9effa7f158>], true_wd=True, bn_wd=True, wd=0.01, train_bn=True, path=PosixPath('/root/.fastai/data/imdb'), model_dir='models', callback_fns=[functools.partial(<class 'fastai.basic_train.Recorder'>, add_time=True, silent=False)], callbacks=[...], layer_groups=[Sequential(\n",
              "  (0): WeightDropout(\n",
              "    (module): LSTM(400, 1152, batch_first=True)\n",
              "  )\n",
              "  (1): RNNDropout()\n",
              "), Sequential(\n",
              "  (0): WeightDropout(\n",
              "    (module): LSTM(1152, 1152, batch_first=True)\n",
              "  )\n",
              "  (1): RNNDropout()\n",
              "), Sequential(\n",
              "  (0): WeightDropout(\n",
              "    (module): LSTM(1152, 400, batch_first=True)\n",
              "  )\n",
              "  (1): RNNDropout()\n",
              "), Sequential(\n",
              "  (0): Embedding(60000, 400, padding_idx=1)\n",
              "  (1): EmbeddingDropout(\n",
              "    (emb): Embedding(60000, 400, padding_idx=1)\n",
              "  )\n",
              "  (2): LinearDecoder(\n",
              "    (decoder): Linear(in_features=400, out_features=60000, bias=True)\n",
              "    (output_dp): RNNDropout()\n",
              "  )\n",
              ")], add_time=True, silent=False)\n",
              "alpha: 2.0\n",
              "beta: 1.0], layer_groups=[Sequential(\n",
              "  (0): WeightDropout(\n",
              "    (module): LSTM(400, 1152, batch_first=True)\n",
              "  )\n",
              "  (1): RNNDropout()\n",
              "), Sequential(\n",
              "  (0): WeightDropout(\n",
              "    (module): LSTM(1152, 1152, batch_first=True)\n",
              "  )\n",
              "  (1): RNNDropout()\n",
              "), Sequential(\n",
              "  (0): WeightDropout(\n",
              "    (module): LSTM(1152, 400, batch_first=True)\n",
              "  )\n",
              "  (1): RNNDropout()\n",
              "), Sequential(\n",
              "  (0): Embedding(60000, 400, padding_idx=1)\n",
              "  (1): EmbeddingDropout(\n",
              "    (emb): Embedding(60000, 400, padding_idx=1)\n",
              "  )\n",
              "  (2): LinearDecoder(\n",
              "    (decoder): Linear(in_features=400, out_features=60000, bias=True)\n",
              "    (output_dp): RNNDropout()\n",
              "  )\n",
              ")], add_time=True, silent=False)"
            ]
          },
          "metadata": {
            "tags": []
          },
          "execution_count": 28
        }
      ]
    },
    {
      "cell_type": "code",
      "metadata": {
        "id": "u8EjAa6QhD_s",
        "colab_type": "code",
        "colab": {}
      },
      "source": [
        "# Now doing finetuning on this model\n",
        "\n",
        "learn.unfreeze()"
      ],
      "execution_count": 0,
      "outputs": []
    },
    {
      "cell_type": "code",
      "metadata": {
        "id": "YIVz3fNrhIlc",
        "colab_type": "code",
        "colab": {
          "base_uri": "https://localhost:8080/",
          "height": 174
        },
        "outputId": "fbf59705-99d4-4010-d80d-50428669e2de"
      },
      "source": [
        "learn.fit_one_cycle(10, 1e-3, moms=(0.8,0.7))"
      ],
      "execution_count": 30,
      "outputs": [
        {
          "output_type": "display_data",
          "data": {
            "text/html": [
              "\n",
              "    <div>\n",
              "        <style>\n",
              "            /* Turns off some styling */\n",
              "            progress {\n",
              "                /* gets rid of default border in Firefox and Opera. */\n",
              "                border: none;\n",
              "                /* Needs to be in here for Safari polyfill so background images work as expected. */\n",
              "                background-size: auto;\n",
              "            }\n",
              "            .progress-bar-interrupted, .progress-bar-interrupted::-webkit-progress-bar {\n",
              "                background: #F44336;\n",
              "            }\n",
              "        </style>\n",
              "      <progress value='2' class='' max='10', style='width:300px; height:20px; vertical-align: middle;'></progress>\n",
              "      20.00% [2/10 52:58<3:31:52]\n",
              "    </div>\n",
              "    \n",
              "<table border=\"1\" class=\"dataframe\">\n",
              "  <thead>\n",
              "    <tr style=\"text-align: left;\">\n",
              "      <th>epoch</th>\n",
              "      <th>train_loss</th>\n",
              "      <th>valid_loss</th>\n",
              "      <th>accuracy</th>\n",
              "      <th>time</th>\n",
              "    </tr>\n",
              "  </thead>\n",
              "  <tbody>\n",
              "    <tr>\n",
              "      <td>0</td>\n",
              "      <td>3.867375</td>\n",
              "      <td>3.841249</td>\n",
              "      <td>0.313252</td>\n",
              "      <td>26:25</td>\n",
              "    </tr>\n",
              "    <tr>\n",
              "      <td>1</td>\n",
              "      <td>3.855630</td>\n",
              "      <td>3.803251</td>\n",
              "      <td>0.319585</td>\n",
              "      <td>26:32</td>\n",
              "    </tr>\n",
              "  </tbody>\n",
              "</table><p>\n",
              "\n",
              "    <div>\n",
              "        <style>\n",
              "            /* Turns off some styling */\n",
              "            progress {\n",
              "                /* gets rid of default border in Firefox and Opera. */\n",
              "                border: none;\n",
              "                /* Needs to be in here for Safari polyfill so background images work as expected. */\n",
              "                background-size: auto;\n",
              "            }\n",
              "            .progress-bar-interrupted, .progress-bar-interrupted::-webkit-progress-bar {\n",
              "                background: #F44336;\n",
              "            }\n",
              "        </style>\n",
              "      <progress value='3219' class='' max='8049', style='width:300px; height:20px; vertical-align: middle;'></progress>\n",
              "      39.99% [3219/8049 10:13<15:21 3.7880]\n",
              "    </div>\n",
              "    "
            ],
            "text/plain": [
              "<IPython.core.display.HTML object>"
            ]
          },
          "metadata": {
            "tags": []
          }
        },
        {
          "output_type": "stream",
          "text": [
            "Buffered data was truncated after reaching the output size limit."
          ],
          "name": "stdout"
        }
      ]
    },
    {
      "cell_type": "code",
      "metadata": {
        "id": "dRjRMg_NhOZ7",
        "colab_type": "code",
        "colab": {}
      },
      "source": [
        "learn.save('fine_tuned')\n"
      ],
      "execution_count": 0,
      "outputs": []
    },
    {
      "cell_type": "code",
      "metadata": {
        "id": "tomDY9UDhTg7",
        "colab_type": "code",
        "colab": {}
      },
      "source": [
        "learn.load('fine_tuned');\n"
      ],
      "execution_count": 0,
      "outputs": []
    },
    {
      "cell_type": "code",
      "metadata": {
        "id": "S3D_AYHBhUhT",
        "colab_type": "code",
        "colab": {}
      },
      "source": [
        "TEXT = \"I liked this movie because\"\n",
        "N_WORDS = 40\n",
        "N_SENTENCES = 2\n"
      ],
      "execution_count": 0,
      "outputs": []
    },
    {
      "cell_type": "code",
      "metadata": {
        "id": "dHfnnmcohVhU",
        "colab_type": "code",
        "outputId": "2bc9fddb-ce19-46a9-f6a0-2f50701529ec",
        "colab": {
          "base_uri": "https://localhost:8080/",
          "height": 71
        }
      },
      "source": [
        "print(\"\\n\".join(learn.predict(TEXT, N_WORDS, temperature=0.75) for _ in range(N_SENTENCES)))"
      ],
      "execution_count": 34,
      "outputs": [
        {
          "output_type": "stream",
          "text": [
            "I liked this movie because of the first one , but i am trying to find some interesting things like Elizabeth Taylor 's dream sequence with the version of the Prince of Darkness . While the movie is a little\n",
            "I liked this movie because of how i loved it . Yes this movie is a bit slow but all in all it was kinda fun and i gave it a 4 / 10 . If you are a fan of the movies\n"
          ],
          "name": "stdout"
        }
      ]
    },
    {
      "cell_type": "code",
      "metadata": {
        "id": "HwoZLbDYhWXr",
        "colab_type": "code",
        "colab": {}
      },
      "source": [
        "learn.save_encoder('fine_tuned_enc')\n"
      ],
      "execution_count": 0,
      "outputs": []
    },
    {
      "cell_type": "code",
      "metadata": {
        "id": "5Xmfp4-fjHr7",
        "colab_type": "code",
        "colab": {}
      },
      "source": [
        "## Classifier"
      ],
      "execution_count": 0,
      "outputs": []
    },
    {
      "cell_type": "code",
      "metadata": {
        "id": "ScZ5yR8cp_6F",
        "colab_type": "code",
        "colab": {}
      },
      "source": [
        "path = untar_data(URLs.IMDB)"
      ],
      "execution_count": 0,
      "outputs": []
    },
    {
      "cell_type": "code",
      "metadata": {
        "id": "pQT0ZCsPqDPZ",
        "colab_type": "code",
        "outputId": "a2de395c-d1ad-4730-c214-e27b5b8c2430",
        "colab": {
          "base_uri": "https://localhost:8080/",
          "height": 17
        }
      },
      "source": [
        "data_clas = (TextList.from_folder(path, vocab=data_lm.vocab)\n",
        "             #grab all the text files in path\n",
        "             .split_by_folder(valid='test')\n",
        "             #split by train and valid folder (that only keeps 'train' and 'test' so no need to filter)\n",
        "             .label_from_folder(classes=['neg', 'pos'])\n",
        "             #label them all with their folders\n",
        "             .databunch(bs=bs))\n",
        "\n",
        "data_clas.save('data_clas.pkl')\n"
      ],
      "execution_count": 38,
      "outputs": [
        {
          "output_type": "display_data",
          "data": {
            "text/html": [
              ""
            ],
            "text/plain": [
              "<IPython.core.display.HTML object>"
            ]
          },
          "metadata": {
            "tags": []
          }
        },
        {
          "output_type": "display_data",
          "data": {
            "text/html": [
              ""
            ],
            "text/plain": [
              "<IPython.core.display.HTML object>"
            ]
          },
          "metadata": {
            "tags": []
          }
        }
      ]
    },
    {
      "cell_type": "code",
      "metadata": {
        "id": "k_tSakYSqGpD",
        "colab_type": "code",
        "colab": {}
      },
      "source": [
        "data_clas = load_data(path, 'data_clas.pkl', bs = bs)"
      ],
      "execution_count": 0,
      "outputs": []
    },
    {
      "cell_type": "code",
      "metadata": {
        "id": "v6VPuRrDqdxz",
        "colab_type": "code",
        "colab": {
          "base_uri": "https://localhost:8080/",
          "height": 527
        },
        "outputId": "b164e894-faf0-4f4f-ad29-e570f0185515"
      },
      "source": [
        "data_clas.show_batch()"
      ],
      "execution_count": 40,
      "outputs": [
        {
          "output_type": "display_data",
          "data": {
            "text/html": [
              "<table border=\"1\" class=\"dataframe\">\n",
              "  <thead>\n",
              "    <tr style=\"text-align: right;\">\n",
              "      <th>text</th>\n",
              "      <th>target</th>\n",
              "    </tr>\n",
              "  </thead>\n",
              "  <tbody>\n",
              "    <tr>\n",
              "      <td>xxbos xxmaj match 1 : xxmaj tag xxmaj team xxmaj table xxmaj match xxmaj bubba xxmaj ray and xxmaj spike xxmaj dudley vs xxmaj eddie xxmaj guerrero and xxmaj chris xxmaj benoit xxmaj bubba xxmaj ray and xxmaj spike xxmaj dudley started things off with a xxmaj tag xxmaj team xxmaj table xxmaj match against xxmaj eddie xxmaj guerrero and xxmaj chris xxmaj benoit . xxmaj according to the rules</td>\n",
              "      <td>pos</td>\n",
              "    </tr>\n",
              "    <tr>\n",
              "      <td>xxbos xxmaj titanic directed by xxmaj james xxmaj cameron presents a fictional love story on the historical setting of the xxmaj titanic . xxmaj the plot is simple , xxunk , or not for those who love plots that twist and turn and keep you in suspense . xxmaj the end of the movie can be figured out within minutes of the start of the film , but the love</td>\n",
              "      <td>pos</td>\n",
              "    </tr>\n",
              "    <tr>\n",
              "      <td>xxbos xxmaj berlin - born in 1942 xxmaj margarethe von xxmaj trotta was an actress and now she is a very important director and writer . xxmaj she has been described , perhaps even unfairly caricatured , as a director whose commitment to bringing a woman 's sensibility to the screen outweighs her artistic strengths . \" xxmaj rosenstrasse , \" which has garnered mixed and even strange reviews (</td>\n",
              "      <td>pos</td>\n",
              "    </tr>\n",
              "    <tr>\n",
              "      <td>xxbos i saw this movie during a xxmaj tolkien - themed xxmaj interim class during my sophomore year of college . i was seated unfortunately close to the screen and my professor chose me to serve as a whipping boy- everyone else was laughing , but they were n't within constant eyesight . \\n \\n  xxmaj let 's get it out of the way : the xxmaj peter xxmaj</td>\n",
              "      <td>neg</td>\n",
              "    </tr>\n",
              "    <tr>\n",
              "      <td>xxbos xxmaj after reading the previous comments , i 'm just glad that i was n't the only person left confused , especially by the last 20 minutes . xxmaj john xxmaj carradine is shown twice walking down into a grave and pulling the lid shut after him . i anxiously awaited some kind of explanation for this odd behavior ... naturally i assumed he had something to do with</td>\n",
              "      <td>neg</td>\n",
              "    </tr>\n",
              "  </tbody>\n",
              "</table>"
            ],
            "text/plain": [
              "<IPython.core.display.HTML object>"
            ]
          },
          "metadata": {
            "tags": []
          }
        }
      ]
    },
    {
      "cell_type": "code",
      "metadata": {
        "id": "eKeKHfJUqfok",
        "colab_type": "code",
        "colab": {
          "base_uri": "https://localhost:8080/",
          "height": 1000
        },
        "outputId": "e1fc78e8-1c27-4ce3-ff25-7c44549a8528"
      },
      "source": [
        "learn = text_classifier_learner(data_clas, AWD_LSTM, drop_mult=0.5)\n",
        "learn.load_encoder('fine_tuned_enc')"
      ],
      "execution_count": 41,
      "outputs": [
        {
          "output_type": "execute_result",
          "data": {
            "text/plain": [
              "RNNLearner(data=TextClasDataBunch;\n",
              "\n",
              "Train: LabelList (25000 items)\n",
              "x: TextList\n",
              "xxbos xxmaj considering its popularity , i found this movie a huge disappointment . xxmaj maybe i was expecting too much from this film . xxmaj after all , it is one of the most well known martial arts films of the 1970s , but i could never figure out why . xxmaj the story is uninteresting . xxmaj it is also a very talky movie with sporadic action sequences . xxmaj my biggest problem with the movie was that the story does not offer a character that i could root for , since the intended hero is an idiot . xxmaj director xxmaj chang has no sense of style , and he is unable to hide the glaring imperfections found in the narrative . i know this is not supposed to be high art , but i found the movie boring . xxmaj definitely not the best example of this much - beloved genre . xxmaj its cult status escapes me . i recommend you to skip it .,xxbos xxmaj what a complete piece of trash . xxmaj plot notwithstanding , when a movie 's action revolves around airplanes , you 'd think the writers / producers / director ( or xxup anyone ! ) would do a little bit of homework as to at least a xxup few of the details . xxmaj the mistakes were so glaring that i was fuming by the end of the movie . xxmaj here are just a few : i 'm glad i missed the xxup sr-71 sequence - certain to have been worse than the \" xxmaj air xxmaj force xxmaj one \" xxup f-117 spectacle . xxmaj commercial airlines usually have their logos painted on the aircraft rather than xxup boeing 747  likely the ( cheap ) use of some xxmaj boeing advertising / publicity footage by the director . xxmaj exposed wiring connected by wire nuts is mediocre at best for house wiring , much less multi - million dollar aircraft xxunk wiring . xxmaj airplanes like the 747 rely on pressure alone rather than ship 's supply oxygen to maintain breathable air , and if they did rely on an on - board supply , the canister would be far bigger than fist sized . xxmaj medical tape is not a suitable substitute for a threaded hose connection . xxmaj those were xxmaj f-16s , xxup not xxmaj f-15s . xxmaj mach 1 + ( speed of sound ) would be difficult to attain on a static engine run up for takeoff ( watch the xxunk indicator ) . \" xxmaj standard formation \" is simply keeping the formation inside one nautical mile , \" route \" formation is what they were flying - not the most useful formation for an intercept . \" xxmaj acquiring missile lock \" is not likely to get an airline pilot 's attention - they have no radar detection or countermeasures . \" xxmaj wait for my signal \" is not inter - flight communication for preparing to fire anything . xxmaj xxunk from a door opening in flight is not grounds for an immediate steep left bank . xxmaj yelling into a headset does not make it transmit . xxmaj magnetic headings are given as \" headings \" not \" bearings , \" and headings are between xxunk and 360 degrees ( compasses in the air are just like compasses on the ground ! ) , so turning left ( not \" port \"  that 's a boat thing ) from a \" bearing \" of xxunk to 502 is just stupid . xxmaj it is in most cases impossible to just \" turn the yoke left until the correct heading is reached \"  that sort of thing will result in 360 degree rolls until the yoke is centered again . xxmaj the likelihood of a flight attendant immediately finding and successfully engaging the autopilot is only slightly greater than the likelihood of her actually landing the jet safely . xxmaj airplanes do n't stall immediately upon pulling the throttle back , and xxunk have more than one little lever to control the multi - engine thrust . xxmaj flaps are lowered in increments usually just prior to and immediately following landing gear extension , not seconds before landing ( good way to crash ) . xxmaj wheel brakes are required to stop an airplane , simply pulling the xxunk ) ( this time a different lever in the movie ) to idle will just allow you to go off the end of the runway at a slower speed . xxmaj did i mention that those fighter aircraft were xxmaj f-16s and xxup not xxmaj f-15s ? xxmaj guess i did \n",
              "  xxmaj and that 's just what i xxup remember from recently watching this horrific movie .,xxbos xxmaj the easiest way to describe this movie is as a satire . xxmaj the target of the satire is quite vast , from the xxup us xxmaj government to corporate xxmaj america . xxmaj it is also not a stinging satire , but rather a silly one . \n",
              " \n",
              "  xxmaj think of this movie as a mix between the xxmaj kentucky xxmaj fried movie , xxmaj airplane and xxmaj police xxmaj squad series , done with a much smaller budget and not as funny . i can see how this movie is a satire of many sci - fi disaster movies from the 50 's and 60 's . i see this movie as a big influence on xxmaj tim xxmaj burton 's xxmaj mars xxmaj attacks . \n",
              " \n",
              "  xxmaj the plot is simple enough . xxmaj genetically engineered giant tomatoes go \" crazy \" and start attacking people and cities . xxmaj at first there is a cover up and then it blows over into full blown war . \n",
              " \n",
              "  xxmaj the movie runs the gamut of characters and characterizations : xxmaj lois \" xxmaj fairchild \" ( a xxmaj lois xxmaj lane clone ) , a very ambitious xxmaj presidential xxmaj press xxmaj secretary , xxmaj clark xxmaj kent , xxmaj mason xxmaj dixon ( xxup xxunk agent who has n't worked since the xxmaj bay of xxmaj pigs ) , a useless xxmaj president ( who only seems to be able to sign his name and attack xxmaj new xxmaj york ) , an even inept xxmaj congress , a sleazy marketing xxup ceo , and xxmaj mason 's team consisting of an obese xxmaj east xxmaj german \" female \" swimmer , a scuba diver , a crazed xxup wwii paratrooper and an xxmaj african - xxmaj american disguise expert ( disguised as xxmaj george xxmaj washington , xxmaj abraham xxmaj lincoln , xxmaj hitler and finally as a tomato ) . xxmaj did i also forget to mention , lots and lots of tomatoes ? xxmaj there are all kinds of tomatoes from small tomatoes , to giant plastic tomatoes , to smashed tomatoes , to tomato juice and finally to people dressed up as tomatoes . \n",
              " \n",
              "  xxmaj on top of all this , you have a couple of musical numbers as well . xxmaj they are n't that good and seem to be dubbed . xxmaj the best tune is by far the theme of the movie ( \" xxmaj attack of the xxmaj killer xxmaj tomatoes \" ) . xxmaj it is way too catchy and you might end up humming or singing it in public . xxmaj be warned . \n",
              " \n",
              "  xxmaj most of the movie is quite amusing and shows the absurdity of various real life situations as well as various entertainment genres . i do n't believe i was induced to laughter , but mostly smiled and scratched my head . i definitely recommend this movie for fans of b and c grade movies , but only as a rental . \n",
              " \n",
              "  -celluloid xxmaj rehab,xxbos xxmaj no matter what anyone tells you , there is a mere fact to the word \" possession \" in film circles -- such as \" what possessed you to greenlight this film ? \" xxmaj religion does n't have anything to do with it , but common sense does . xxmaj that is , if your head is clear and you are of sound mind to make a judgment . \n",
              " \n",
              "  xxmaj on many levels i tried to rationalize where this film would entertain xxrep 4 . or even interest the average consumer . xxmaj the star ? xxmaj the story ? xxmaj the unique idea ? a buddy movie that kids would love with a dinosaur and a black woman ? xxmaj on , my goodness ! i am sure when this was an \" idea \" , it sounded good . xxmaj but somewhere during the course of development ... someone should have pointed out where the idea could not translate into a piece of entertainment anyone would wish to watch or pay for ... unless they were very much deeply under the influence of alcohol or drugs and saw something the rest of us could not see . \n",
              " \n",
              "  xxmaj regardless , this is a complete mess . xxmaj mess , mess - sin and a mess . \n",
              " \n",
              "  xxmaj who cares about the plot ( what plot ? ) et al . xxmaj whoopie got a paycheck , but i would have been embarrassed to take it . i sure hope she fired her agent / manager / publicist over this career move . xxmaj obviously not , she went on to make more bad films . xxmaj and more bad films . xxmaj sad .,xxbos xxmaj this has to be the most brutally unfunny \" comedy \" i 've ever seen in my life . xxmaj ben xxmaj stiller , xxmaj jack xxmaj black , and xxmaj christopher xxmaj walken as a crazed homeless man xxup can't make me laugh ? xxmaj something 's got to be wrong with this picture . xxmaj this is the only movie i 've ever felt like walking out of . i used free passes , and still felt like i wanted my money back . i can wholeheartedly say that the only movie i 've ever seen worse than this one was xxup house xxup of xxup the xxup dead . xxmaj the . xxup only . worse . movie . i laughed very slightly at the merry - go - round scene , and that 's it . xxmaj spending 2 hours in something billed as a comedy should get you more than one laugh , right ? i do n't know , i guess the filmmakers thought that \" xxunk \" was a funny word , or something . xxmaj and the other running joke really is beating a dead horse -- literally .\n",
              "y: CategoryList\n",
              "neg,neg,neg,neg,neg\n",
              "Path: /root/.fastai/data/imdb;\n",
              "\n",
              "Valid: LabelList (25000 items)\n",
              "x: TextList\n",
              "xxbos i am very interested in animal children and i have read many xxmaj edger xxmaj rice xxmaj burroughs novels -- but this awful movie could n't keep me interested , nor could i stomach all the absurd , unrealistic scenes . i only managed to sit through the xxmaj africa part and xxmaj john 's first few days in xxmaj scotland . xxmaj let 's talk about ' unrealistic ' and ' downright silly ' ! xxmaj the actors in ape suits looked like extra large chimps , rather than great apes ( there is a difference ) . xxmaj they did not move with the grace that a wild animal would . ( xxmaj for comparison , see some of the better xxmaj planet of the xxmaj apes movies where they trained their actors to move in simian fashion ) . xxmaj the apes eat large xxunk of meat -- not a common ape practice as far as i know . i am a sucker for animal stories but the script did not make me care about the apes . xxmaj the great white hunters of the expedition that finds xxmaj john xxmaj clayton are xxunk entirely . xxmaj the parents of xxmaj clayton were shipwrecked on an ocean beach , but somehow it is a very long trip down the river to get to the coast -- give me a break ! xxmaj let 's talk about ' slow ' . xxmaj even the folks who think this is an excellent movie admit that it is not an action movie . xxmaj far from it . xxmaj it tries to be a character study -- unfortunately the downright silly part predominates ! i did not read xxmaj burroughs ' xxmaj tarzan books , but many of his other series -- they were packed with meaningful action and heroic purpose ! xxmaj this film just is n't there .,xxbos xxmaj recap : a lone swordsman , living in the desert and acting as an agent to other swordsmen , recollects how his life turned out to be as it is . xxmaj it started with that the woman he loved chose to marry his brother instead , causing him to leave his home town . xxmaj one of the swordsmen is xxmaj huang who is himself in the middle of a complicated love story , where a woman wants to have him killed for having ran away from a promise to marry her younger sister . xxmaj but the sister wants to hire a swordsman to have xxmaj huang protected , and everything is put to an edge when the woman and her sister is really the same person . \n",
              " \n",
              "  xxmaj comments : i 've seen the xxmaj redux version released in 2008 of the original that was released in 1994 . xxmaj how the two versions differ i ca n't say , but the xxmaj redux is very heavily stylized in the way of xxmaj chinese xxmaj wuxia action . xxmaj that is unfortunate as that style to me seems to have forgotten one of the most important elements of a successful and entertaining movie . a comprehensible story . xxmaj but true to its style scenery and visual elements seem much more important and much more in focus of writer and director xxmaj kar xxmaj wai xxmaj wong . xxmaj therefore there are lots of colorful , very beautiful scenes , that are completely unrelated to the story . \n",
              " \n",
              "  xxmaj the editing and timeline of the story is also mishandled . xxmaj much is left out in the scenes , the time line is broken and rearranged in a confusing way . xxmaj very slow and calm scenes are suddenly relieved by surprisingly brutal and seemingly unmotivated fights , only to themselves being relieved by something else and unrelated . xxmaj the result is a confusing and very uninteresting movie . \n",
              " \n",
              "  xxmaj thanks to these brutal but very few fights , the movie is put into the action genre . xxmaj the poster and photographs also imply this but could almost be regarded as false marketing . xxmaj only a few minutes out of the 90 could be considered as anything like action , the other could n't be farther away from it . xxmaj the movie in its entirety is very slow , dull and hence very boring . xxmaj not even the rare action filled scenes help since they are so disconnected from the rest of the movie . \n",
              " \n",
              "  i might say that i 'm not a fan of this xxmaj chinese style , since they often seem to be afflicted of these same problems , most importantly that the visual is more important than the story , but xxmaj ashes of xxmaj time xxmaj redux is perhaps the worst example i 've seen . \n",
              " \n",
              "  3 / 10,xxbos xxmaj definitely not your typical xxmaj polizia , xxmaj redneck just never worked for me . xxmaj the movie tells the story of a jewel heist gone wrong and a young boy who is inadvertently kidnapped in the process . xxmaj in their attempt to get away , the robbers leave a bloody trail of death in their wake as they hatch a plan to ransom the boy . xxmaj the plan is never carried off as the robbers are more intent on getting to xxmaj france and the boy is intent on staying with them . xxmaj while i could cite a number of problems i had with the movie , i 'll focus on the most obvious  the character xxmaj memphis played by xxmaj telly xxmaj savalas . xxmaj from his work in xxmaj the xxmaj dirty xxmaj dozen and xxmaj kelley 's xxmaj heroes to other xxmaj italian films like xxmaj crime xxmaj boss to his most remembered role as xxmaj kojak , xxmaj savalas was a winner . i 've always thought of him as one uber - cool customer . xxmaj unfortunately , xxmaj savalas is almost unwatchable in xxmaj redneck . xxmaj did the director turn on the camera and instruct him to act as psychotic as possible ? xxmaj it might not have been too bad had his actions been done within the context of a plot i cared about , but here he seems to be acting bizarre for sake of being bizarre . xxmaj it 's appears to be random lunacy . xxmaj and what 's with that accent ? xxmaj savalas might have been a lot of things , but xxmaj southern is n't one of them . xxmaj he sounds completely ridiculous even attempting the accent . xxmaj beyond that , i found little of interest in the rest of the movie . xxmaj as i indicated , the plot never drew me in . i just did n't care about what was going on . xxmaj and the notion that the boy is so quickly attracted to the criminal lifestyle does n't ring true . xxmaj as for the other actors , xxmaj mark xxmaj lester is almost as bad as xxmaj savalas and the usually reliable xxmaj franco xxmaj nero is n't a whole lot better . xxmaj three \" name \" actors and not a good performance between them . xxmaj to make matters worse , i believe the director filmed many of the night scenes with nothing more than the glow from his watch to light the shots . i could n't tell what was going on . xxmaj characters i hate , a plot i do n't care about , and a production values that failed  little wonder i 've given xxmaj redneck a 3 / 10 .,xxbos i never really understood the controversy and hype this movie caused . xxmaj especially in xxmaj french and the neighboring countries ( in xxmaj belgium , where i am located , for example ) , \" xxmaj baise - xxmaj moi \" was announced as xxup the most shocking and xxup the most thought - provoking social drama you could ever experience . xxmaj yeah right ! xxmaj it might be a little shocking , maybe ( how often do you see someone getting shot up the arse ? ) , but the weak and pointless plot surely did n't cause me to think much . \" xxmaj baise - xxmaj moi \" is another one of those \" blame everything that goes wrong on xxunk and they 're generally not very convincing . xxmaj about 99 % of the people functions perfectly well in this society so why would you blame this exact same society for the vile and hopeless acts of two deranged nymph - girls ? xxmaj the two main characters and their miserable lives are introduced separately and in flashes . xxmaj nadine just killed her roommate ; xxmaj manu shot her brother and the two meet in an abandoned train - station , late at night . xxmaj they decide to travel around xxmaj france together , leaving a trail of sex and blood behind wherever they made a stop . xxmaj although we 're constantly exposed to pornography and violence , this film is very boring to sit through . xxmaj like the girls are indicating themselves all the time , the dialogues are lame and the people they run into ( and kill \n",
              " ) are very uninteresting . xxmaj if people want to make porno movies , that 's fine by me , but please do n't pretend that it 's art - house film - making . xxmaj if you leave out the swearing and the hip camera - work , all there is to see is ( not so ) arousing pornography . xxmaj cool soundtrack , though !,xxbos i ca n't get over how lazy the director is with this movie . xxmaj instead of setting up scenes in a creative way he relies on boring old zombie clichés . \n",
              " \n",
              "  xxmaj where the two unarmed leads have to get down the college steps into the van he surrounds them with zombies yet neither of the leads is bitten . xxmaj he ca n't be bothered to direct a decent fight scene so we see the leads shove their way down the steps . \n",
              " \n",
              "  xxmaj sometimes the zombies limp about and at others they run like the wind . xxmaj this is really convenient for the director because he can set up anything he likes without bothering with continuity in the behaviour of the zombies . \n",
              " \n",
              "  xxmaj with careful planning and a lot more inspiration this movie could have been so much better .\n",
              "y: CategoryList\n",
              "neg,neg,neg,neg,neg\n",
              "Path: /root/.fastai/data/imdb;\n",
              "\n",
              "Test: None, model=SequentialRNN(\n",
              "  (0): MultiBatchEncoder(\n",
              "    (module): AWD_LSTM(\n",
              "      (encoder): Embedding(60000, 400, padding_idx=1)\n",
              "      (encoder_dp): EmbeddingDropout(\n",
              "        (emb): Embedding(60000, 400, padding_idx=1)\n",
              "      )\n",
              "      (rnns): ModuleList(\n",
              "        (0): WeightDropout(\n",
              "          (module): LSTM(400, 1152, batch_first=True)\n",
              "        )\n",
              "        (1): WeightDropout(\n",
              "          (module): LSTM(1152, 1152, batch_first=True)\n",
              "        )\n",
              "        (2): WeightDropout(\n",
              "          (module): LSTM(1152, 400, batch_first=True)\n",
              "        )\n",
              "      )\n",
              "      (input_dp): RNNDropout()\n",
              "      (hidden_dps): ModuleList(\n",
              "        (0): RNNDropout()\n",
              "        (1): RNNDropout()\n",
              "        (2): RNNDropout()\n",
              "      )\n",
              "    )\n",
              "  )\n",
              "  (1): PoolingLinearClassifier(\n",
              "    (layers): Sequential(\n",
              "      (0): BatchNorm1d(1200, eps=1e-05, momentum=0.1, affine=True, track_running_stats=True)\n",
              "      (1): Dropout(p=0.2, inplace=False)\n",
              "      (2): Linear(in_features=1200, out_features=50, bias=True)\n",
              "      (3): ReLU(inplace=True)\n",
              "      (4): BatchNorm1d(50, eps=1e-05, momentum=0.1, affine=True, track_running_stats=True)\n",
              "      (5): Dropout(p=0.1, inplace=False)\n",
              "      (6): Linear(in_features=50, out_features=2, bias=True)\n",
              "    )\n",
              "  )\n",
              "), opt_func=functools.partial(<class 'torch.optim.adam.Adam'>, betas=(0.9, 0.99)), loss_func=FlattenedLoss of CrossEntropyLoss(), metrics=[<function accuracy at 0x7f9effa7f158>], true_wd=True, bn_wd=True, wd=0.01, train_bn=True, path=PosixPath('/root/.fastai/data/imdb'), model_dir='models', callback_fns=[functools.partial(<class 'fastai.basic_train.Recorder'>, add_time=True, silent=False)], callbacks=[RNNTrainer\n",
              "learn: RNNLearner(data=TextClasDataBunch;\n",
              "\n",
              "Train: LabelList (25000 items)\n",
              "x: TextList\n",
              "xxbos xxmaj considering its popularity , i found this movie a huge disappointment . xxmaj maybe i was expecting too much from this film . xxmaj after all , it is one of the most well known martial arts films of the 1970s , but i could never figure out why . xxmaj the story is uninteresting . xxmaj it is also a very talky movie with sporadic action sequences . xxmaj my biggest problem with the movie was that the story does not offer a character that i could root for , since the intended hero is an idiot . xxmaj director xxmaj chang has no sense of style , and he is unable to hide the glaring imperfections found in the narrative . i know this is not supposed to be high art , but i found the movie boring . xxmaj definitely not the best example of this much - beloved genre . xxmaj its cult status escapes me . i recommend you to skip it .,xxbos xxmaj what a complete piece of trash . xxmaj plot notwithstanding , when a movie 's action revolves around airplanes , you 'd think the writers / producers / director ( or xxup anyone ! ) would do a little bit of homework as to at least a xxup few of the details . xxmaj the mistakes were so glaring that i was fuming by the end of the movie . xxmaj here are just a few : i 'm glad i missed the xxup sr-71 sequence - certain to have been worse than the \" xxmaj air xxmaj force xxmaj one \" xxup f-117 spectacle . xxmaj commercial airlines usually have their logos painted on the aircraft rather than xxup boeing 747  likely the ( cheap ) use of some xxmaj boeing advertising / publicity footage by the director . xxmaj exposed wiring connected by wire nuts is mediocre at best for house wiring , much less multi - million dollar aircraft xxunk wiring . xxmaj airplanes like the 747 rely on pressure alone rather than ship 's supply oxygen to maintain breathable air , and if they did rely on an on - board supply , the canister would be far bigger than fist sized . xxmaj medical tape is not a suitable substitute for a threaded hose connection . xxmaj those were xxmaj f-16s , xxup not xxmaj f-15s . xxmaj mach 1 + ( speed of sound ) would be difficult to attain on a static engine run up for takeoff ( watch the xxunk indicator ) . \" xxmaj standard formation \" is simply keeping the formation inside one nautical mile , \" route \" formation is what they were flying - not the most useful formation for an intercept . \" xxmaj acquiring missile lock \" is not likely to get an airline pilot 's attention - they have no radar detection or countermeasures . \" xxmaj wait for my signal \" is not inter - flight communication for preparing to fire anything . xxmaj xxunk from a door opening in flight is not grounds for an immediate steep left bank . xxmaj yelling into a headset does not make it transmit . xxmaj magnetic headings are given as \" headings \" not \" bearings , \" and headings are between xxunk and 360 degrees ( compasses in the air are just like compasses on the ground ! ) , so turning left ( not \" port \"  that 's a boat thing ) from a \" bearing \" of xxunk to 502 is just stupid . xxmaj it is in most cases impossible to just \" turn the yoke left until the correct heading is reached \"  that sort of thing will result in 360 degree rolls until the yoke is centered again . xxmaj the likelihood of a flight attendant immediately finding and successfully engaging the autopilot is only slightly greater than the likelihood of her actually landing the jet safely . xxmaj airplanes do n't stall immediately upon pulling the throttle back , and xxunk have more than one little lever to control the multi - engine thrust . xxmaj flaps are lowered in increments usually just prior to and immediately following landing gear extension , not seconds before landing ( good way to crash ) . xxmaj wheel brakes are required to stop an airplane , simply pulling the xxunk ) ( this time a different lever in the movie ) to idle will just allow you to go off the end of the runway at a slower speed . xxmaj did i mention that those fighter aircraft were xxmaj f-16s and xxup not xxmaj f-15s ? xxmaj guess i did \n",
              "  xxmaj and that 's just what i xxup remember from recently watching this horrific movie .,xxbos xxmaj the easiest way to describe this movie is as a satire . xxmaj the target of the satire is quite vast , from the xxup us xxmaj government to corporate xxmaj america . xxmaj it is also not a stinging satire , but rather a silly one . \n",
              " \n",
              "  xxmaj think of this movie as a mix between the xxmaj kentucky xxmaj fried movie , xxmaj airplane and xxmaj police xxmaj squad series , done with a much smaller budget and not as funny . i can see how this movie is a satire of many sci - fi disaster movies from the 50 's and 60 's . i see this movie as a big influence on xxmaj tim xxmaj burton 's xxmaj mars xxmaj attacks . \n",
              " \n",
              "  xxmaj the plot is simple enough . xxmaj genetically engineered giant tomatoes go \" crazy \" and start attacking people and cities . xxmaj at first there is a cover up and then it blows over into full blown war . \n",
              " \n",
              "  xxmaj the movie runs the gamut of characters and characterizations : xxmaj lois \" xxmaj fairchild \" ( a xxmaj lois xxmaj lane clone ) , a very ambitious xxmaj presidential xxmaj press xxmaj secretary , xxmaj clark xxmaj kent , xxmaj mason xxmaj dixon ( xxup xxunk agent who has n't worked since the xxmaj bay of xxmaj pigs ) , a useless xxmaj president ( who only seems to be able to sign his name and attack xxmaj new xxmaj york ) , an even inept xxmaj congress , a sleazy marketing xxup ceo , and xxmaj mason 's team consisting of an obese xxmaj east xxmaj german \" female \" swimmer , a scuba diver , a crazed xxup wwii paratrooper and an xxmaj african - xxmaj american disguise expert ( disguised as xxmaj george xxmaj washington , xxmaj abraham xxmaj lincoln , xxmaj hitler and finally as a tomato ) . xxmaj did i also forget to mention , lots and lots of tomatoes ? xxmaj there are all kinds of tomatoes from small tomatoes , to giant plastic tomatoes , to smashed tomatoes , to tomato juice and finally to people dressed up as tomatoes . \n",
              " \n",
              "  xxmaj on top of all this , you have a couple of musical numbers as well . xxmaj they are n't that good and seem to be dubbed . xxmaj the best tune is by far the theme of the movie ( \" xxmaj attack of the xxmaj killer xxmaj tomatoes \" ) . xxmaj it is way too catchy and you might end up humming or singing it in public . xxmaj be warned . \n",
              " \n",
              "  xxmaj most of the movie is quite amusing and shows the absurdity of various real life situations as well as various entertainment genres . i do n't believe i was induced to laughter , but mostly smiled and scratched my head . i definitely recommend this movie for fans of b and c grade movies , but only as a rental . \n",
              " \n",
              "  -celluloid xxmaj rehab,xxbos xxmaj no matter what anyone tells you , there is a mere fact to the word \" possession \" in film circles -- such as \" what possessed you to greenlight this film ? \" xxmaj religion does n't have anything to do with it , but common sense does . xxmaj that is , if your head is clear and you are of sound mind to make a judgment . \n",
              " \n",
              "  xxmaj on many levels i tried to rationalize where this film would entertain xxrep 4 . or even interest the average consumer . xxmaj the star ? xxmaj the story ? xxmaj the unique idea ? a buddy movie that kids would love with a dinosaur and a black woman ? xxmaj on , my goodness ! i am sure when this was an \" idea \" , it sounded good . xxmaj but somewhere during the course of development ... someone should have pointed out where the idea could not translate into a piece of entertainment anyone would wish to watch or pay for ... unless they were very much deeply under the influence of alcohol or drugs and saw something the rest of us could not see . \n",
              " \n",
              "  xxmaj regardless , this is a complete mess . xxmaj mess , mess - sin and a mess . \n",
              " \n",
              "  xxmaj who cares about the plot ( what plot ? ) et al . xxmaj whoopie got a paycheck , but i would have been embarrassed to take it . i sure hope she fired her agent / manager / publicist over this career move . xxmaj obviously not , she went on to make more bad films . xxmaj and more bad films . xxmaj sad .,xxbos xxmaj this has to be the most brutally unfunny \" comedy \" i 've ever seen in my life . xxmaj ben xxmaj stiller , xxmaj jack xxmaj black , and xxmaj christopher xxmaj walken as a crazed homeless man xxup can't make me laugh ? xxmaj something 's got to be wrong with this picture . xxmaj this is the only movie i 've ever felt like walking out of . i used free passes , and still felt like i wanted my money back . i can wholeheartedly say that the only movie i 've ever seen worse than this one was xxup house xxup of xxup the xxup dead . xxmaj the . xxup only . worse . movie . i laughed very slightly at the merry - go - round scene , and that 's it . xxmaj spending 2 hours in something billed as a comedy should get you more than one laugh , right ? i do n't know , i guess the filmmakers thought that \" xxunk \" was a funny word , or something . xxmaj and the other running joke really is beating a dead horse -- literally .\n",
              "y: CategoryList\n",
              "neg,neg,neg,neg,neg\n",
              "Path: /root/.fastai/data/imdb;\n",
              "\n",
              "Valid: LabelList (25000 items)\n",
              "x: TextList\n",
              "xxbos i am very interested in animal children and i have read many xxmaj edger xxmaj rice xxmaj burroughs novels -- but this awful movie could n't keep me interested , nor could i stomach all the absurd , unrealistic scenes . i only managed to sit through the xxmaj africa part and xxmaj john 's first few days in xxmaj scotland . xxmaj let 's talk about ' unrealistic ' and ' downright silly ' ! xxmaj the actors in ape suits looked like extra large chimps , rather than great apes ( there is a difference ) . xxmaj they did not move with the grace that a wild animal would . ( xxmaj for comparison , see some of the better xxmaj planet of the xxmaj apes movies where they trained their actors to move in simian fashion ) . xxmaj the apes eat large xxunk of meat -- not a common ape practice as far as i know . i am a sucker for animal stories but the script did not make me care about the apes . xxmaj the great white hunters of the expedition that finds xxmaj john xxmaj clayton are xxunk entirely . xxmaj the parents of xxmaj clayton were shipwrecked on an ocean beach , but somehow it is a very long trip down the river to get to the coast -- give me a break ! xxmaj let 's talk about ' slow ' . xxmaj even the folks who think this is an excellent movie admit that it is not an action movie . xxmaj far from it . xxmaj it tries to be a character study -- unfortunately the downright silly part predominates ! i did not read xxmaj burroughs ' xxmaj tarzan books , but many of his other series -- they were packed with meaningful action and heroic purpose ! xxmaj this film just is n't there .,xxbos xxmaj recap : a lone swordsman , living in the desert and acting as an agent to other swordsmen , recollects how his life turned out to be as it is . xxmaj it started with that the woman he loved chose to marry his brother instead , causing him to leave his home town . xxmaj one of the swordsmen is xxmaj huang who is himself in the middle of a complicated love story , where a woman wants to have him killed for having ran away from a promise to marry her younger sister . xxmaj but the sister wants to hire a swordsman to have xxmaj huang protected , and everything is put to an edge when the woman and her sister is really the same person . \n",
              " \n",
              "  xxmaj comments : i 've seen the xxmaj redux version released in 2008 of the original that was released in 1994 . xxmaj how the two versions differ i ca n't say , but the xxmaj redux is very heavily stylized in the way of xxmaj chinese xxmaj wuxia action . xxmaj that is unfortunate as that style to me seems to have forgotten one of the most important elements of a successful and entertaining movie . a comprehensible story . xxmaj but true to its style scenery and visual elements seem much more important and much more in focus of writer and director xxmaj kar xxmaj wai xxmaj wong . xxmaj therefore there are lots of colorful , very beautiful scenes , that are completely unrelated to the story . \n",
              " \n",
              "  xxmaj the editing and timeline of the story is also mishandled . xxmaj much is left out in the scenes , the time line is broken and rearranged in a confusing way . xxmaj very slow and calm scenes are suddenly relieved by surprisingly brutal and seemingly unmotivated fights , only to themselves being relieved by something else and unrelated . xxmaj the result is a confusing and very uninteresting movie . \n",
              " \n",
              "  xxmaj thanks to these brutal but very few fights , the movie is put into the action genre . xxmaj the poster and photographs also imply this but could almost be regarded as false marketing . xxmaj only a few minutes out of the 90 could be considered as anything like action , the other could n't be farther away from it . xxmaj the movie in its entirety is very slow , dull and hence very boring . xxmaj not even the rare action filled scenes help since they are so disconnected from the rest of the movie . \n",
              " \n",
              "  i might say that i 'm not a fan of this xxmaj chinese style , since they often seem to be afflicted of these same problems , most importantly that the visual is more important than the story , but xxmaj ashes of xxmaj time xxmaj redux is perhaps the worst example i 've seen . \n",
              " \n",
              "  3 / 10,xxbos xxmaj definitely not your typical xxmaj polizia , xxmaj redneck just never worked for me . xxmaj the movie tells the story of a jewel heist gone wrong and a young boy who is inadvertently kidnapped in the process . xxmaj in their attempt to get away , the robbers leave a bloody trail of death in their wake as they hatch a plan to ransom the boy . xxmaj the plan is never carried off as the robbers are more intent on getting to xxmaj france and the boy is intent on staying with them . xxmaj while i could cite a number of problems i had with the movie , i 'll focus on the most obvious  the character xxmaj memphis played by xxmaj telly xxmaj savalas . xxmaj from his work in xxmaj the xxmaj dirty xxmaj dozen and xxmaj kelley 's xxmaj heroes to other xxmaj italian films like xxmaj crime xxmaj boss to his most remembered role as xxmaj kojak , xxmaj savalas was a winner . i 've always thought of him as one uber - cool customer . xxmaj unfortunately , xxmaj savalas is almost unwatchable in xxmaj redneck . xxmaj did the director turn on the camera and instruct him to act as psychotic as possible ? xxmaj it might not have been too bad had his actions been done within the context of a plot i cared about , but here he seems to be acting bizarre for sake of being bizarre . xxmaj it 's appears to be random lunacy . xxmaj and what 's with that accent ? xxmaj savalas might have been a lot of things , but xxmaj southern is n't one of them . xxmaj he sounds completely ridiculous even attempting the accent . xxmaj beyond that , i found little of interest in the rest of the movie . xxmaj as i indicated , the plot never drew me in . i just did n't care about what was going on . xxmaj and the notion that the boy is so quickly attracted to the criminal lifestyle does n't ring true . xxmaj as for the other actors , xxmaj mark xxmaj lester is almost as bad as xxmaj savalas and the usually reliable xxmaj franco xxmaj nero is n't a whole lot better . xxmaj three \" name \" actors and not a good performance between them . xxmaj to make matters worse , i believe the director filmed many of the night scenes with nothing more than the glow from his watch to light the shots . i could n't tell what was going on . xxmaj characters i hate , a plot i do n't care about , and a production values that failed  little wonder i 've given xxmaj redneck a 3 / 10 .,xxbos i never really understood the controversy and hype this movie caused . xxmaj especially in xxmaj french and the neighboring countries ( in xxmaj belgium , where i am located , for example ) , \" xxmaj baise - xxmaj moi \" was announced as xxup the most shocking and xxup the most thought - provoking social drama you could ever experience . xxmaj yeah right ! xxmaj it might be a little shocking , maybe ( how often do you see someone getting shot up the arse ? ) , but the weak and pointless plot surely did n't cause me to think much . \" xxmaj baise - xxmaj moi \" is another one of those \" blame everything that goes wrong on xxunk and they 're generally not very convincing . xxmaj about 99 % of the people functions perfectly well in this society so why would you blame this exact same society for the vile and hopeless acts of two deranged nymph - girls ? xxmaj the two main characters and their miserable lives are introduced separately and in flashes . xxmaj nadine just killed her roommate ; xxmaj manu shot her brother and the two meet in an abandoned train - station , late at night . xxmaj they decide to travel around xxmaj france together , leaving a trail of sex and blood behind wherever they made a stop . xxmaj although we 're constantly exposed to pornography and violence , this film is very boring to sit through . xxmaj like the girls are indicating themselves all the time , the dialogues are lame and the people they run into ( and kill \n",
              " ) are very uninteresting . xxmaj if people want to make porno movies , that 's fine by me , but please do n't pretend that it 's art - house film - making . xxmaj if you leave out the swearing and the hip camera - work , all there is to see is ( not so ) arousing pornography . xxmaj cool soundtrack , though !,xxbos i ca n't get over how lazy the director is with this movie . xxmaj instead of setting up scenes in a creative way he relies on boring old zombie clichés . \n",
              " \n",
              "  xxmaj where the two unarmed leads have to get down the college steps into the van he surrounds them with zombies yet neither of the leads is bitten . xxmaj he ca n't be bothered to direct a decent fight scene so we see the leads shove their way down the steps . \n",
              " \n",
              "  xxmaj sometimes the zombies limp about and at others they run like the wind . xxmaj this is really convenient for the director because he can set up anything he likes without bothering with continuity in the behaviour of the zombies . \n",
              " \n",
              "  xxmaj with careful planning and a lot more inspiration this movie could have been so much better .\n",
              "y: CategoryList\n",
              "neg,neg,neg,neg,neg\n",
              "Path: /root/.fastai/data/imdb;\n",
              "\n",
              "Test: None, model=SequentialRNN(\n",
              "  (0): MultiBatchEncoder(\n",
              "    (module): AWD_LSTM(\n",
              "      (encoder): Embedding(60000, 400, padding_idx=1)\n",
              "      (encoder_dp): EmbeddingDropout(\n",
              "        (emb): Embedding(60000, 400, padding_idx=1)\n",
              "      )\n",
              "      (rnns): ModuleList(\n",
              "        (0): WeightDropout(\n",
              "          (module): LSTM(400, 1152, batch_first=True)\n",
              "        )\n",
              "        (1): WeightDropout(\n",
              "          (module): LSTM(1152, 1152, batch_first=True)\n",
              "        )\n",
              "        (2): WeightDropout(\n",
              "          (module): LSTM(1152, 400, batch_first=True)\n",
              "        )\n",
              "      )\n",
              "      (input_dp): RNNDropout()\n",
              "      (hidden_dps): ModuleList(\n",
              "        (0): RNNDropout()\n",
              "        (1): RNNDropout()\n",
              "        (2): RNNDropout()\n",
              "      )\n",
              "    )\n",
              "  )\n",
              "  (1): PoolingLinearClassifier(\n",
              "    (layers): Sequential(\n",
              "      (0): BatchNorm1d(1200, eps=1e-05, momentum=0.1, affine=True, track_running_stats=True)\n",
              "      (1): Dropout(p=0.2, inplace=False)\n",
              "      (2): Linear(in_features=1200, out_features=50, bias=True)\n",
              "      (3): ReLU(inplace=True)\n",
              "      (4): BatchNorm1d(50, eps=1e-05, momentum=0.1, affine=True, track_running_stats=True)\n",
              "      (5): Dropout(p=0.1, inplace=False)\n",
              "      (6): Linear(in_features=50, out_features=2, bias=True)\n",
              "    )\n",
              "  )\n",
              "), opt_func=functools.partial(<class 'torch.optim.adam.Adam'>, betas=(0.9, 0.99)), loss_func=FlattenedLoss of CrossEntropyLoss(), metrics=[<function accuracy at 0x7f9effa7f158>], true_wd=True, bn_wd=True, wd=0.01, train_bn=True, path=PosixPath('/root/.fastai/data/imdb'), model_dir='models', callback_fns=[functools.partial(<class 'fastai.basic_train.Recorder'>, add_time=True, silent=False)], callbacks=[...], layer_groups=[Sequential(\n",
              "  (0): Embedding(60000, 400, padding_idx=1)\n",
              "  (1): EmbeddingDropout(\n",
              "    (emb): Embedding(60000, 400, padding_idx=1)\n",
              "  )\n",
              "), Sequential(\n",
              "  (0): WeightDropout(\n",
              "    (module): LSTM(400, 1152, batch_first=True)\n",
              "  )\n",
              "  (1): RNNDropout()\n",
              "), Sequential(\n",
              "  (0): WeightDropout(\n",
              "    (module): LSTM(1152, 1152, batch_first=True)\n",
              "  )\n",
              "  (1): RNNDropout()\n",
              "), Sequential(\n",
              "  (0): WeightDropout(\n",
              "    (module): LSTM(1152, 400, batch_first=True)\n",
              "  )\n",
              "  (1): RNNDropout()\n",
              "), Sequential(\n",
              "  (0): PoolingLinearClassifier(\n",
              "    (layers): Sequential(\n",
              "      (0): BatchNorm1d(1200, eps=1e-05, momentum=0.1, affine=True, track_running_stats=True)\n",
              "      (1): Dropout(p=0.2, inplace=False)\n",
              "      (2): Linear(in_features=1200, out_features=50, bias=True)\n",
              "      (3): ReLU(inplace=True)\n",
              "      (4): BatchNorm1d(50, eps=1e-05, momentum=0.1, affine=True, track_running_stats=True)\n",
              "      (5): Dropout(p=0.1, inplace=False)\n",
              "      (6): Linear(in_features=50, out_features=2, bias=True)\n",
              "    )\n",
              "  )\n",
              ")], add_time=True, silent=False)\n",
              "alpha: 2.0\n",
              "beta: 1.0], layer_groups=[Sequential(\n",
              "  (0): Embedding(60000, 400, padding_idx=1)\n",
              "  (1): EmbeddingDropout(\n",
              "    (emb): Embedding(60000, 400, padding_idx=1)\n",
              "  )\n",
              "), Sequential(\n",
              "  (0): WeightDropout(\n",
              "    (module): LSTM(400, 1152, batch_first=True)\n",
              "  )\n",
              "  (1): RNNDropout()\n",
              "), Sequential(\n",
              "  (0): WeightDropout(\n",
              "    (module): LSTM(1152, 1152, batch_first=True)\n",
              "  )\n",
              "  (1): RNNDropout()\n",
              "), Sequential(\n",
              "  (0): WeightDropout(\n",
              "    (module): LSTM(1152, 400, batch_first=True)\n",
              "  )\n",
              "  (1): RNNDropout()\n",
              "), Sequential(\n",
              "  (0): PoolingLinearClassifier(\n",
              "    (layers): Sequential(\n",
              "      (0): BatchNorm1d(1200, eps=1e-05, momentum=0.1, affine=True, track_running_stats=True)\n",
              "      (1): Dropout(p=0.2, inplace=False)\n",
              "      (2): Linear(in_features=1200, out_features=50, bias=True)\n",
              "      (3): ReLU(inplace=True)\n",
              "      (4): BatchNorm1d(50, eps=1e-05, momentum=0.1, affine=True, track_running_stats=True)\n",
              "      (5): Dropout(p=0.1, inplace=False)\n",
              "      (6): Linear(in_features=50, out_features=2, bias=True)\n",
              "    )\n",
              "  )\n",
              ")], add_time=True, silent=False)"
            ]
          },
          "metadata": {
            "tags": []
          },
          "execution_count": 41
        }
      ]
    },
    {
      "cell_type": "code",
      "metadata": {
        "id": "nsbaI9O6uyDW",
        "colab_type": "code",
        "colab": {
          "base_uri": "https://localhost:8080/",
          "height": 112
        },
        "outputId": "8b99daaa-fb01-46d7-b997-891ce6924b82"
      },
      "source": [
        "learn.lr_find()"
      ],
      "execution_count": 42,
      "outputs": [
        {
          "output_type": "display_data",
          "data": {
            "text/html": [
              "\n",
              "    <div>\n",
              "        <style>\n",
              "            /* Turns off some styling */\n",
              "            progress {\n",
              "                /* gets rid of default border in Firefox and Opera. */\n",
              "                border: none;\n",
              "                /* Needs to be in here for Safari polyfill so background images work as expected. */\n",
              "                background-size: auto;\n",
              "            }\n",
              "            .progress-bar-interrupted, .progress-bar-interrupted::-webkit-progress-bar {\n",
              "                background: #F44336;\n",
              "            }\n",
              "        </style>\n",
              "      <progress value='0' class='' max='1', style='width:300px; height:20px; vertical-align: middle;'></progress>\n",
              "      0.00% [0/1 00:00<00:00]\n",
              "    </div>\n",
              "    \n",
              "<table border=\"1\" class=\"dataframe\">\n",
              "  <thead>\n",
              "    <tr style=\"text-align: left;\">\n",
              "      <th>epoch</th>\n",
              "      <th>train_loss</th>\n",
              "      <th>valid_loss</th>\n",
              "      <th>accuracy</th>\n",
              "      <th>time</th>\n",
              "    </tr>\n",
              "  </thead>\n",
              "  <tbody>\n",
              "  </tbody>\n",
              "</table><p>\n",
              "\n",
              "    <div>\n",
              "        <style>\n",
              "            /* Turns off some styling */\n",
              "            progress {\n",
              "                /* gets rid of default border in Firefox and Opera. */\n",
              "                border: none;\n",
              "                /* Needs to be in here for Safari polyfill so background images work as expected. */\n",
              "                background-size: auto;\n",
              "            }\n",
              "            .progress-bar-interrupted, .progress-bar-interrupted::-webkit-progress-bar {\n",
              "                background: #F44336;\n",
              "            }\n",
              "        </style>\n",
              "      <progress value='94' class='' max='520', style='width:300px; height:20px; vertical-align: middle;'></progress>\n",
              "      18.08% [94/520 00:49<03:45 1.7966]\n",
              "    </div>\n",
              "    "
            ],
            "text/plain": [
              "<IPython.core.display.HTML object>"
            ]
          },
          "metadata": {
            "tags": []
          }
        },
        {
          "output_type": "stream",
          "text": [
            "LR Finder is complete, type {learner_name}.recorder.plot() to see the graph.\n"
          ],
          "name": "stdout"
        }
      ]
    },
    {
      "cell_type": "code",
      "metadata": {
        "id": "_IbTuAjAuy7C",
        "colab_type": "code",
        "colab": {
          "base_uri": "https://localhost:8080/",
          "height": 279
        },
        "outputId": "b3d63bcc-e734-4faa-f8a0-aa5b6fe5daca"
      },
      "source": [
        "learn.recorder.plot()"
      ],
      "execution_count": 43,
      "outputs": [
        {
          "output_type": "display_data",
          "data": {
            "image/png": "[encoded data removed]",
            "text/plain": [
              "<Figure size 432x288 with 1 Axes>"
            ]
          },
          "metadata": {
            "tags": []
          }
        }
      ]
    },
    {
      "cell_type": "code",
      "metadata": {
        "id": "O9UXK30du09S",
        "colab_type": "code",
        "colab": {
          "base_uri": "https://localhost:8080/",
          "height": 80
        },
        "outputId": "7c7f9ad2-9917-4160-bd37-fffa8dc1f693"
      },
      "source": [
        "learn.fit_one_cycle(1, 2e-2, moms=(0.8,0.7))"
      ],
      "execution_count": 44,
      "outputs": [
        {
          "output_type": "display_data",
          "data": {
            "text/html": [
              "<table border=\"1\" class=\"dataframe\">\n",
              "  <thead>\n",
              "    <tr style=\"text-align: left;\">\n",
              "      <th>epoch</th>\n",
              "      <th>train_loss</th>\n",
              "      <th>valid_loss</th>\n",
              "      <th>accuracy</th>\n",
              "      <th>time</th>\n",
              "    </tr>\n",
              "  </thead>\n",
              "  <tbody>\n",
              "    <tr>\n",
              "      <td>0</td>\n",
              "      <td>0.343606</td>\n",
              "      <td>0.278268</td>\n",
              "      <td>0.881560</td>\n",
              "      <td>05:57</td>\n",
              "    </tr>\n",
              "  </tbody>\n",
              "</table>"
            ],
            "text/plain": [
              "<IPython.core.display.HTML object>"
            ]
          },
          "metadata": {
            "tags": []
          }
        }
      ]
    },
    {
      "cell_type": "code",
      "metadata": {
        "id": "ZC73UBXgu5Cj",
        "colab_type": "code",
        "colab": {}
      },
      "source": [
        "learn.save('first')"
      ],
      "execution_count": 0,
      "outputs": []
    },
    {
      "cell_type": "code",
      "metadata": {
        "id": "vbp-v0m8u65j",
        "colab_type": "code",
        "colab": {}
      },
      "source": [
        "learn.load('first');"
      ],
      "execution_count": 0,
      "outputs": []
    },
    {
      "cell_type": "code",
      "metadata": {
        "id": "PJ4KDuQ6u8Iy",
        "colab_type": "code",
        "outputId": "f7552209-94c3-475e-85e0-1dd48e191835",
        "colab": {
          "base_uri": "https://localhost:8080/",
          "height": 80
        }
      },
      "source": [
        "learn.freeze_to(-2)\n",
        "learn.fit_one_cycle(1,slice(1e-2/(2.6**4), 1e-2), moms=(0.8,0.7))"
      ],
      "execution_count": 52,
      "outputs": [
        {
          "output_type": "display_data",
          "data": {
            "text/html": [
              "<table border=\"1\" class=\"dataframe\">\n",
              "  <thead>\n",
              "    <tr style=\"text-align: left;\">\n",
              "      <th>epoch</th>\n",
              "      <th>train_loss</th>\n",
              "      <th>valid_loss</th>\n",
              "      <th>accuracy</th>\n",
              "      <th>time</th>\n",
              "    </tr>\n",
              "  </thead>\n",
              "  <tbody>\n",
              "    <tr>\n",
              "      <td>0</td>\n",
              "      <td>0.288711</td>\n",
              "      <td>0.227722</td>\n",
              "      <td>0.910080</td>\n",
              "      <td>05:24</td>\n",
              "    </tr>\n",
              "  </tbody>\n",
              "</table>"
            ],
            "text/plain": [
              "<IPython.core.display.HTML object>"
            ]
          },
          "metadata": {
            "tags": []
          }
        }
      ]
    },
    {
      "cell_type": "code",
      "metadata": {
        "id": "7i6_dICzvNFy",
        "colab_type": "code",
        "colab": {}
      },
      "source": [
        "learn.save('third')"
      ],
      "execution_count": 0,
      "outputs": []
    },
    {
      "cell_type": "code",
      "metadata": {
        "id": "Z3hh2YvVvOZS",
        "colab_type": "code",
        "colab": {
          "base_uri": "https://localhost:8080/",
          "height": 1000
        },
        "outputId": "8006bcc3-9a54-488e-f54e-f1c7fbe1921b"
      },
      "source": [
        "learn.load('third')"
      ],
      "execution_count": 54,
      "outputs": [
        {
          "output_type": "execute_result",
          "data": {
            "text/plain": [
              "RNNLearner(data=TextClasDataBunch;\n",
              "\n",
              "Train: LabelList (25000 items)\n",
              "x: TextList\n",
              "xxbos xxmaj considering its popularity , i found this movie a huge disappointment . xxmaj maybe i was expecting too much from this film . xxmaj after all , it is one of the most well known martial arts films of the 1970s , but i could never figure out why . xxmaj the story is uninteresting . xxmaj it is also a very talky movie with sporadic action sequences . xxmaj my biggest problem with the movie was that the story does not offer a character that i could root for , since the intended hero is an idiot . xxmaj director xxmaj chang has no sense of style , and he is unable to hide the glaring imperfections found in the narrative . i know this is not supposed to be high art , but i found the movie boring . xxmaj definitely not the best example of this much - beloved genre . xxmaj its cult status escapes me . i recommend you to skip it .,xxbos xxmaj what a complete piece of trash . xxmaj plot notwithstanding , when a movie 's action revolves around airplanes , you 'd think the writers / producers / director ( or xxup anyone ! ) would do a little bit of homework as to at least a xxup few of the details . xxmaj the mistakes were so glaring that i was fuming by the end of the movie . xxmaj here are just a few : i 'm glad i missed the xxup sr-71 sequence - certain to have been worse than the \" xxmaj air xxmaj force xxmaj one \" xxup f-117 spectacle . xxmaj commercial airlines usually have their logos painted on the aircraft rather than xxup boeing 747  likely the ( cheap ) use of some xxmaj boeing advertising / publicity footage by the director . xxmaj exposed wiring connected by wire nuts is mediocre at best for house wiring , much less multi - million dollar aircraft xxunk wiring . xxmaj airplanes like the 747 rely on pressure alone rather than ship 's supply oxygen to maintain breathable air , and if they did rely on an on - board supply , the canister would be far bigger than fist sized . xxmaj medical tape is not a suitable substitute for a threaded hose connection . xxmaj those were xxmaj f-16s , xxup not xxmaj f-15s . xxmaj mach 1 + ( speed of sound ) would be difficult to attain on a static engine run up for takeoff ( watch the xxunk indicator ) . \" xxmaj standard formation \" is simply keeping the formation inside one nautical mile , \" route \" formation is what they were flying - not the most useful formation for an intercept . \" xxmaj acquiring missile lock \" is not likely to get an airline pilot 's attention - they have no radar detection or countermeasures . \" xxmaj wait for my signal \" is not inter - flight communication for preparing to fire anything . xxmaj xxunk from a door opening in flight is not grounds for an immediate steep left bank . xxmaj yelling into a headset does not make it transmit . xxmaj magnetic headings are given as \" headings \" not \" bearings , \" and headings are between xxunk and 360 degrees ( compasses in the air are just like compasses on the ground ! ) , so turning left ( not \" port \"  that 's a boat thing ) from a \" bearing \" of xxunk to 502 is just stupid . xxmaj it is in most cases impossible to just \" turn the yoke left until the correct heading is reached \"  that sort of thing will result in 360 degree rolls until the yoke is centered again . xxmaj the likelihood of a flight attendant immediately finding and successfully engaging the autopilot is only slightly greater than the likelihood of her actually landing the jet safely . xxmaj airplanes do n't stall immediately upon pulling the throttle back , and xxunk have more than one little lever to control the multi - engine thrust . xxmaj flaps are lowered in increments usually just prior to and immediately following landing gear extension , not seconds before landing ( good way to crash ) . xxmaj wheel brakes are required to stop an airplane , simply pulling the xxunk ) ( this time a different lever in the movie ) to idle will just allow you to go off the end of the runway at a slower speed . xxmaj did i mention that those fighter aircraft were xxmaj f-16s and xxup not xxmaj f-15s ? xxmaj guess i did \n",
              "  xxmaj and that 's just what i xxup remember from recently watching this horrific movie .,xxbos xxmaj the easiest way to describe this movie is as a satire . xxmaj the target of the satire is quite vast , from the xxup us xxmaj government to corporate xxmaj america . xxmaj it is also not a stinging satire , but rather a silly one . \n",
              " \n",
              "  xxmaj think of this movie as a mix between the xxmaj kentucky xxmaj fried movie , xxmaj airplane and xxmaj police xxmaj squad series , done with a much smaller budget and not as funny . i can see how this movie is a satire of many sci - fi disaster movies from the 50 's and 60 's . i see this movie as a big influence on xxmaj tim xxmaj burton 's xxmaj mars xxmaj attacks . \n",
              " \n",
              "  xxmaj the plot is simple enough . xxmaj genetically engineered giant tomatoes go \" crazy \" and start attacking people and cities . xxmaj at first there is a cover up and then it blows over into full blown war . \n",
              " \n",
              "  xxmaj the movie runs the gamut of characters and characterizations : xxmaj lois \" xxmaj fairchild \" ( a xxmaj lois xxmaj lane clone ) , a very ambitious xxmaj presidential xxmaj press xxmaj secretary , xxmaj clark xxmaj kent , xxmaj mason xxmaj dixon ( xxup xxunk agent who has n't worked since the xxmaj bay of xxmaj pigs ) , a useless xxmaj president ( who only seems to be able to sign his name and attack xxmaj new xxmaj york ) , an even inept xxmaj congress , a sleazy marketing xxup ceo , and xxmaj mason 's team consisting of an obese xxmaj east xxmaj german \" female \" swimmer , a scuba diver , a crazed xxup wwii paratrooper and an xxmaj african - xxmaj american disguise expert ( disguised as xxmaj george xxmaj washington , xxmaj abraham xxmaj lincoln , xxmaj hitler and finally as a tomato ) . xxmaj did i also forget to mention , lots and lots of tomatoes ? xxmaj there are all kinds of tomatoes from small tomatoes , to giant plastic tomatoes , to smashed tomatoes , to tomato juice and finally to people dressed up as tomatoes . \n",
              " \n",
              "  xxmaj on top of all this , you have a couple of musical numbers as well . xxmaj they are n't that good and seem to be dubbed . xxmaj the best tune is by far the theme of the movie ( \" xxmaj attack of the xxmaj killer xxmaj tomatoes \" ) . xxmaj it is way too catchy and you might end up humming or singing it in public . xxmaj be warned . \n",
              " \n",
              "  xxmaj most of the movie is quite amusing and shows the absurdity of various real life situations as well as various entertainment genres . i do n't believe i was induced to laughter , but mostly smiled and scratched my head . i definitely recommend this movie for fans of b and c grade movies , but only as a rental . \n",
              " \n",
              "  -celluloid xxmaj rehab,xxbos xxmaj no matter what anyone tells you , there is a mere fact to the word \" possession \" in film circles -- such as \" what possessed you to greenlight this film ? \" xxmaj religion does n't have anything to do with it , but common sense does . xxmaj that is , if your head is clear and you are of sound mind to make a judgment . \n",
              " \n",
              "  xxmaj on many levels i tried to rationalize where this film would entertain xxrep 4 . or even interest the average consumer . xxmaj the star ? xxmaj the story ? xxmaj the unique idea ? a buddy movie that kids would love with a dinosaur and a black woman ? xxmaj on , my goodness ! i am sure when this was an \" idea \" , it sounded good . xxmaj but somewhere during the course of development ... someone should have pointed out where the idea could not translate into a piece of entertainment anyone would wish to watch or pay for ... unless they were very much deeply under the influence of alcohol or drugs and saw something the rest of us could not see . \n",
              " \n",
              "  xxmaj regardless , this is a complete mess . xxmaj mess , mess - sin and a mess . \n",
              " \n",
              "  xxmaj who cares about the plot ( what plot ? ) et al . xxmaj whoopie got a paycheck , but i would have been embarrassed to take it . i sure hope she fired her agent / manager / publicist over this career move . xxmaj obviously not , she went on to make more bad films . xxmaj and more bad films . xxmaj sad .,xxbos xxmaj this has to be the most brutally unfunny \" comedy \" i 've ever seen in my life . xxmaj ben xxmaj stiller , xxmaj jack xxmaj black , and xxmaj christopher xxmaj walken as a crazed homeless man xxup can't make me laugh ? xxmaj something 's got to be wrong with this picture . xxmaj this is the only movie i 've ever felt like walking out of . i used free passes , and still felt like i wanted my money back . i can wholeheartedly say that the only movie i 've ever seen worse than this one was xxup house xxup of xxup the xxup dead . xxmaj the . xxup only . worse . movie . i laughed very slightly at the merry - go - round scene , and that 's it . xxmaj spending 2 hours in something billed as a comedy should get you more than one laugh , right ? i do n't know , i guess the filmmakers thought that \" xxunk \" was a funny word , or something . xxmaj and the other running joke really is beating a dead horse -- literally .\n",
              "y: CategoryList\n",
              "neg,neg,neg,neg,neg\n",
              "Path: /root/.fastai/data/imdb;\n",
              "\n",
              "Valid: LabelList (25000 items)\n",
              "x: TextList\n",
              "xxbos i am very interested in animal children and i have read many xxmaj edger xxmaj rice xxmaj burroughs novels -- but this awful movie could n't keep me interested , nor could i stomach all the absurd , unrealistic scenes . i only managed to sit through the xxmaj africa part and xxmaj john 's first few days in xxmaj scotland . xxmaj let 's talk about ' unrealistic ' and ' downright silly ' ! xxmaj the actors in ape suits looked like extra large chimps , rather than great apes ( there is a difference ) . xxmaj they did not move with the grace that a wild animal would . ( xxmaj for comparison , see some of the better xxmaj planet of the xxmaj apes movies where they trained their actors to move in simian fashion ) . xxmaj the apes eat large xxunk of meat -- not a common ape practice as far as i know . i am a sucker for animal stories but the script did not make me care about the apes . xxmaj the great white hunters of the expedition that finds xxmaj john xxmaj clayton are xxunk entirely . xxmaj the parents of xxmaj clayton were shipwrecked on an ocean beach , but somehow it is a very long trip down the river to get to the coast -- give me a break ! xxmaj let 's talk about ' slow ' . xxmaj even the folks who think this is an excellent movie admit that it is not an action movie . xxmaj far from it . xxmaj it tries to be a character study -- unfortunately the downright silly part predominates ! i did not read xxmaj burroughs ' xxmaj tarzan books , but many of his other series -- they were packed with meaningful action and heroic purpose ! xxmaj this film just is n't there .,xxbos xxmaj recap : a lone swordsman , living in the desert and acting as an agent to other swordsmen , recollects how his life turned out to be as it is . xxmaj it started with that the woman he loved chose to marry his brother instead , causing him to leave his home town . xxmaj one of the swordsmen is xxmaj huang who is himself in the middle of a complicated love story , where a woman wants to have him killed for having ran away from a promise to marry her younger sister . xxmaj but the sister wants to hire a swordsman to have xxmaj huang protected , and everything is put to an edge when the woman and her sister is really the same person . \n",
              " \n",
              "  xxmaj comments : i 've seen the xxmaj redux version released in 2008 of the original that was released in 1994 . xxmaj how the two versions differ i ca n't say , but the xxmaj redux is very heavily stylized in the way of xxmaj chinese xxmaj wuxia action . xxmaj that is unfortunate as that style to me seems to have forgotten one of the most important elements of a successful and entertaining movie . a comprehensible story . xxmaj but true to its style scenery and visual elements seem much more important and much more in focus of writer and director xxmaj kar xxmaj wai xxmaj wong . xxmaj therefore there are lots of colorful , very beautiful scenes , that are completely unrelated to the story . \n",
              " \n",
              "  xxmaj the editing and timeline of the story is also mishandled . xxmaj much is left out in the scenes , the time line is broken and rearranged in a confusing way . xxmaj very slow and calm scenes are suddenly relieved by surprisingly brutal and seemingly unmotivated fights , only to themselves being relieved by something else and unrelated . xxmaj the result is a confusing and very uninteresting movie . \n",
              " \n",
              "  xxmaj thanks to these brutal but very few fights , the movie is put into the action genre . xxmaj the poster and photographs also imply this but could almost be regarded as false marketing . xxmaj only a few minutes out of the 90 could be considered as anything like action , the other could n't be farther away from it . xxmaj the movie in its entirety is very slow , dull and hence very boring . xxmaj not even the rare action filled scenes help since they are so disconnected from the rest of the movie . \n",
              " \n",
              "  i might say that i 'm not a fan of this xxmaj chinese style , since they often seem to be afflicted of these same problems , most importantly that the visual is more important than the story , but xxmaj ashes of xxmaj time xxmaj redux is perhaps the worst example i 've seen . \n",
              " \n",
              "  3 / 10,xxbos xxmaj definitely not your typical xxmaj polizia , xxmaj redneck just never worked for me . xxmaj the movie tells the story of a jewel heist gone wrong and a young boy who is inadvertently kidnapped in the process . xxmaj in their attempt to get away , the robbers leave a bloody trail of death in their wake as they hatch a plan to ransom the boy . xxmaj the plan is never carried off as the robbers are more intent on getting to xxmaj france and the boy is intent on staying with them . xxmaj while i could cite a number of problems i had with the movie , i 'll focus on the most obvious  the character xxmaj memphis played by xxmaj telly xxmaj savalas . xxmaj from his work in xxmaj the xxmaj dirty xxmaj dozen and xxmaj kelley 's xxmaj heroes to other xxmaj italian films like xxmaj crime xxmaj boss to his most remembered role as xxmaj kojak , xxmaj savalas was a winner . i 've always thought of him as one uber - cool customer . xxmaj unfortunately , xxmaj savalas is almost unwatchable in xxmaj redneck . xxmaj did the director turn on the camera and instruct him to act as psychotic as possible ? xxmaj it might not have been too bad had his actions been done within the context of a plot i cared about , but here he seems to be acting bizarre for sake of being bizarre . xxmaj it 's appears to be random lunacy . xxmaj and what 's with that accent ? xxmaj savalas might have been a lot of things , but xxmaj southern is n't one of them . xxmaj he sounds completely ridiculous even attempting the accent . xxmaj beyond that , i found little of interest in the rest of the movie . xxmaj as i indicated , the plot never drew me in . i just did n't care about what was going on . xxmaj and the notion that the boy is so quickly attracted to the criminal lifestyle does n't ring true . xxmaj as for the other actors , xxmaj mark xxmaj lester is almost as bad as xxmaj savalas and the usually reliable xxmaj franco xxmaj nero is n't a whole lot better . xxmaj three \" name \" actors and not a good performance between them . xxmaj to make matters worse , i believe the director filmed many of the night scenes with nothing more than the glow from his watch to light the shots . i could n't tell what was going on . xxmaj characters i hate , a plot i do n't care about , and a production values that failed  little wonder i 've given xxmaj redneck a 3 / 10 .,xxbos i never really understood the controversy and hype this movie caused . xxmaj especially in xxmaj french and the neighboring countries ( in xxmaj belgium , where i am located , for example ) , \" xxmaj baise - xxmaj moi \" was announced as xxup the most shocking and xxup the most thought - provoking social drama you could ever experience . xxmaj yeah right ! xxmaj it might be a little shocking , maybe ( how often do you see someone getting shot up the arse ? ) , but the weak and pointless plot surely did n't cause me to think much . \" xxmaj baise - xxmaj moi \" is another one of those \" blame everything that goes wrong on xxunk and they 're generally not very convincing . xxmaj about 99 % of the people functions perfectly well in this society so why would you blame this exact same society for the vile and hopeless acts of two deranged nymph - girls ? xxmaj the two main characters and their miserable lives are introduced separately and in flashes . xxmaj nadine just killed her roommate ; xxmaj manu shot her brother and the two meet in an abandoned train - station , late at night . xxmaj they decide to travel around xxmaj france together , leaving a trail of sex and blood behind wherever they made a stop . xxmaj although we 're constantly exposed to pornography and violence , this film is very boring to sit through . xxmaj like the girls are indicating themselves all the time , the dialogues are lame and the people they run into ( and kill \n",
              " ) are very uninteresting . xxmaj if people want to make porno movies , that 's fine by me , but please do n't pretend that it 's art - house film - making . xxmaj if you leave out the swearing and the hip camera - work , all there is to see is ( not so ) arousing pornography . xxmaj cool soundtrack , though !,xxbos i ca n't get over how lazy the director is with this movie . xxmaj instead of setting up scenes in a creative way he relies on boring old zombie clichés . \n",
              " \n",
              "  xxmaj where the two unarmed leads have to get down the college steps into the van he surrounds them with zombies yet neither of the leads is bitten . xxmaj he ca n't be bothered to direct a decent fight scene so we see the leads shove their way down the steps . \n",
              " \n",
              "  xxmaj sometimes the zombies limp about and at others they run like the wind . xxmaj this is really convenient for the director because he can set up anything he likes without bothering with continuity in the behaviour of the zombies . \n",
              " \n",
              "  xxmaj with careful planning and a lot more inspiration this movie could have been so much better .\n",
              "y: CategoryList\n",
              "neg,neg,neg,neg,neg\n",
              "Path: /root/.fastai/data/imdb;\n",
              "\n",
              "Test: None, model=SequentialRNN(\n",
              "  (0): MultiBatchEncoder(\n",
              "    (module): AWD_LSTM(\n",
              "      (encoder): Embedding(60000, 400, padding_idx=1)\n",
              "      (encoder_dp): EmbeddingDropout(\n",
              "        (emb): Embedding(60000, 400, padding_idx=1)\n",
              "      )\n",
              "      (rnns): ModuleList(\n",
              "        (0): WeightDropout(\n",
              "          (module): LSTM(400, 1152, batch_first=True)\n",
              "        )\n",
              "        (1): WeightDropout(\n",
              "          (module): LSTM(1152, 1152, batch_first=True)\n",
              "        )\n",
              "        (2): WeightDropout(\n",
              "          (module): LSTM(1152, 400, batch_first=True)\n",
              "        )\n",
              "      )\n",
              "      (input_dp): RNNDropout()\n",
              "      (hidden_dps): ModuleList(\n",
              "        (0): RNNDropout()\n",
              "        (1): RNNDropout()\n",
              "        (2): RNNDropout()\n",
              "      )\n",
              "    )\n",
              "  )\n",
              "  (1): PoolingLinearClassifier(\n",
              "    (layers): Sequential(\n",
              "      (0): BatchNorm1d(1200, eps=1e-05, momentum=0.1, affine=True, track_running_stats=True)\n",
              "      (1): Dropout(p=0.2, inplace=False)\n",
              "      (2): Linear(in_features=1200, out_features=50, bias=True)\n",
              "      (3): ReLU(inplace=True)\n",
              "      (4): BatchNorm1d(50, eps=1e-05, momentum=0.1, affine=True, track_running_stats=True)\n",
              "      (5): Dropout(p=0.1, inplace=False)\n",
              "      (6): Linear(in_features=50, out_features=2, bias=True)\n",
              "    )\n",
              "  )\n",
              "), opt_func=functools.partial(<class 'torch.optim.adam.Adam'>, betas=(0.9, 0.99)), loss_func=FlattenedLoss of CrossEntropyLoss(), metrics=[<function accuracy at 0x7f9effa7f158>], true_wd=True, bn_wd=True, wd=0.01, train_bn=True, path=PosixPath('/root/.fastai/data/imdb'), model_dir='models', callback_fns=[functools.partial(<class 'fastai.basic_train.Recorder'>, add_time=True, silent=False)], callbacks=[RNNTrainer\n",
              "learn: RNNLearner(data=TextClasDataBunch;\n",
              "\n",
              "Train: LabelList (25000 items)\n",
              "x: TextList\n",
              "xxbos xxmaj considering its popularity , i found this movie a huge disappointment . xxmaj maybe i was expecting too much from this film . xxmaj after all , it is one of the most well known martial arts films of the 1970s , but i could never figure out why . xxmaj the story is uninteresting . xxmaj it is also a very talky movie with sporadic action sequences . xxmaj my biggest problem with the movie was that the story does not offer a character that i could root for , since the intended hero is an idiot . xxmaj director xxmaj chang has no sense of style , and he is unable to hide the glaring imperfections found in the narrative . i know this is not supposed to be high art , but i found the movie boring . xxmaj definitely not the best example of this much - beloved genre . xxmaj its cult status escapes me . i recommend you to skip it .,xxbos xxmaj what a complete piece of trash . xxmaj plot notwithstanding , when a movie 's action revolves around airplanes , you 'd think the writers / producers / director ( or xxup anyone ! ) would do a little bit of homework as to at least a xxup few of the details . xxmaj the mistakes were so glaring that i was fuming by the end of the movie . xxmaj here are just a few : i 'm glad i missed the xxup sr-71 sequence - certain to have been worse than the \" xxmaj air xxmaj force xxmaj one \" xxup f-117 spectacle . xxmaj commercial airlines usually have their logos painted on the aircraft rather than xxup boeing 747  likely the ( cheap ) use of some xxmaj boeing advertising / publicity footage by the director . xxmaj exposed wiring connected by wire nuts is mediocre at best for house wiring , much less multi - million dollar aircraft xxunk wiring . xxmaj airplanes like the 747 rely on pressure alone rather than ship 's supply oxygen to maintain breathable air , and if they did rely on an on - board supply , the canister would be far bigger than fist sized . xxmaj medical tape is not a suitable substitute for a threaded hose connection . xxmaj those were xxmaj f-16s , xxup not xxmaj f-15s . xxmaj mach 1 + ( speed of sound ) would be difficult to attain on a static engine run up for takeoff ( watch the xxunk indicator ) . \" xxmaj standard formation \" is simply keeping the formation inside one nautical mile , \" route \" formation is what they were flying - not the most useful formation for an intercept . \" xxmaj acquiring missile lock \" is not likely to get an airline pilot 's attention - they have no radar detection or countermeasures . \" xxmaj wait for my signal \" is not inter - flight communication for preparing to fire anything . xxmaj xxunk from a door opening in flight is not grounds for an immediate steep left bank . xxmaj yelling into a headset does not make it transmit . xxmaj magnetic headings are given as \" headings \" not \" bearings , \" and headings are between xxunk and 360 degrees ( compasses in the air are just like compasses on the ground ! ) , so turning left ( not \" port \"  that 's a boat thing ) from a \" bearing \" of xxunk to 502 is just stupid . xxmaj it is in most cases impossible to just \" turn the yoke left until the correct heading is reached \"  that sort of thing will result in 360 degree rolls until the yoke is centered again . xxmaj the likelihood of a flight attendant immediately finding and successfully engaging the autopilot is only slightly greater than the likelihood of her actually landing the jet safely . xxmaj airplanes do n't stall immediately upon pulling the throttle back , and xxunk have more than one little lever to control the multi - engine thrust . xxmaj flaps are lowered in increments usually just prior to and immediately following landing gear extension , not seconds before landing ( good way to crash ) . xxmaj wheel brakes are required to stop an airplane , simply pulling the xxunk ) ( this time a different lever in the movie ) to idle will just allow you to go off the end of the runway at a slower speed . xxmaj did i mention that those fighter aircraft were xxmaj f-16s and xxup not xxmaj f-15s ? xxmaj guess i did \n",
              "  xxmaj and that 's just what i xxup remember from recently watching this horrific movie .,xxbos xxmaj the easiest way to describe this movie is as a satire . xxmaj the target of the satire is quite vast , from the xxup us xxmaj government to corporate xxmaj america . xxmaj it is also not a stinging satire , but rather a silly one . \n",
              " \n",
              "  xxmaj think of this movie as a mix between the xxmaj kentucky xxmaj fried movie , xxmaj airplane and xxmaj police xxmaj squad series , done with a much smaller budget and not as funny . i can see how this movie is a satire of many sci - fi disaster movies from the 50 's and 60 's . i see this movie as a big influence on xxmaj tim xxmaj burton 's xxmaj mars xxmaj attacks . \n",
              " \n",
              "  xxmaj the plot is simple enough . xxmaj genetically engineered giant tomatoes go \" crazy \" and start attacking people and cities . xxmaj at first there is a cover up and then it blows over into full blown war . \n",
              " \n",
              "  xxmaj the movie runs the gamut of characters and characterizations : xxmaj lois \" xxmaj fairchild \" ( a xxmaj lois xxmaj lane clone ) , a very ambitious xxmaj presidential xxmaj press xxmaj secretary , xxmaj clark xxmaj kent , xxmaj mason xxmaj dixon ( xxup xxunk agent who has n't worked since the xxmaj bay of xxmaj pigs ) , a useless xxmaj president ( who only seems to be able to sign his name and attack xxmaj new xxmaj york ) , an even inept xxmaj congress , a sleazy marketing xxup ceo , and xxmaj mason 's team consisting of an obese xxmaj east xxmaj german \" female \" swimmer , a scuba diver , a crazed xxup wwii paratrooper and an xxmaj african - xxmaj american disguise expert ( disguised as xxmaj george xxmaj washington , xxmaj abraham xxmaj lincoln , xxmaj hitler and finally as a tomato ) . xxmaj did i also forget to mention , lots and lots of tomatoes ? xxmaj there are all kinds of tomatoes from small tomatoes , to giant plastic tomatoes , to smashed tomatoes , to tomato juice and finally to people dressed up as tomatoes . \n",
              " \n",
              "  xxmaj on top of all this , you have a couple of musical numbers as well . xxmaj they are n't that good and seem to be dubbed . xxmaj the best tune is by far the theme of the movie ( \" xxmaj attack of the xxmaj killer xxmaj tomatoes \" ) . xxmaj it is way too catchy and you might end up humming or singing it in public . xxmaj be warned . \n",
              " \n",
              "  xxmaj most of the movie is quite amusing and shows the absurdity of various real life situations as well as various entertainment genres . i do n't believe i was induced to laughter , but mostly smiled and scratched my head . i definitely recommend this movie for fans of b and c grade movies , but only as a rental . \n",
              " \n",
              "  -celluloid xxmaj rehab,xxbos xxmaj no matter what anyone tells you , there is a mere fact to the word \" possession \" in film circles -- such as \" what possessed you to greenlight this film ? \" xxmaj religion does n't have anything to do with it , but common sense does . xxmaj that is , if your head is clear and you are of sound mind to make a judgment . \n",
              " \n",
              "  xxmaj on many levels i tried to rationalize where this film would entertain xxrep 4 . or even interest the average consumer . xxmaj the star ? xxmaj the story ? xxmaj the unique idea ? a buddy movie that kids would love with a dinosaur and a black woman ? xxmaj on , my goodness ! i am sure when this was an \" idea \" , it sounded good . xxmaj but somewhere during the course of development ... someone should have pointed out where the idea could not translate into a piece of entertainment anyone would wish to watch or pay for ... unless they were very much deeply under the influence of alcohol or drugs and saw something the rest of us could not see . \n",
              " \n",
              "  xxmaj regardless , this is a complete mess . xxmaj mess , mess - sin and a mess . \n",
              " \n",
              "  xxmaj who cares about the plot ( what plot ? ) et al . xxmaj whoopie got a paycheck , but i would have been embarrassed to take it . i sure hope she fired her agent / manager / publicist over this career move . xxmaj obviously not , she went on to make more bad films . xxmaj and more bad films . xxmaj sad .,xxbos xxmaj this has to be the most brutally unfunny \" comedy \" i 've ever seen in my life . xxmaj ben xxmaj stiller , xxmaj jack xxmaj black , and xxmaj christopher xxmaj walken as a crazed homeless man xxup can't make me laugh ? xxmaj something 's got to be wrong with this picture . xxmaj this is the only movie i 've ever felt like walking out of . i used free passes , and still felt like i wanted my money back . i can wholeheartedly say that the only movie i 've ever seen worse than this one was xxup house xxup of xxup the xxup dead . xxmaj the . xxup only . worse . movie . i laughed very slightly at the merry - go - round scene , and that 's it . xxmaj spending 2 hours in something billed as a comedy should get you more than one laugh , right ? i do n't know , i guess the filmmakers thought that \" xxunk \" was a funny word , or something . xxmaj and the other running joke really is beating a dead horse -- literally .\n",
              "y: CategoryList\n",
              "neg,neg,neg,neg,neg\n",
              "Path: /root/.fastai/data/imdb;\n",
              "\n",
              "Valid: LabelList (25000 items)\n",
              "x: TextList\n",
              "xxbos i am very interested in animal children and i have read many xxmaj edger xxmaj rice xxmaj burroughs novels -- but this awful movie could n't keep me interested , nor could i stomach all the absurd , unrealistic scenes . i only managed to sit through the xxmaj africa part and xxmaj john 's first few days in xxmaj scotland . xxmaj let 's talk about ' unrealistic ' and ' downright silly ' ! xxmaj the actors in ape suits looked like extra large chimps , rather than great apes ( there is a difference ) . xxmaj they did not move with the grace that a wild animal would . ( xxmaj for comparison , see some of the better xxmaj planet of the xxmaj apes movies where they trained their actors to move in simian fashion ) . xxmaj the apes eat large xxunk of meat -- not a common ape practice as far as i know . i am a sucker for animal stories but the script did not make me care about the apes . xxmaj the great white hunters of the expedition that finds xxmaj john xxmaj clayton are xxunk entirely . xxmaj the parents of xxmaj clayton were shipwrecked on an ocean beach , but somehow it is a very long trip down the river to get to the coast -- give me a break ! xxmaj let 's talk about ' slow ' . xxmaj even the folks who think this is an excellent movie admit that it is not an action movie . xxmaj far from it . xxmaj it tries to be a character study -- unfortunately the downright silly part predominates ! i did not read xxmaj burroughs ' xxmaj tarzan books , but many of his other series -- they were packed with meaningful action and heroic purpose ! xxmaj this film just is n't there .,xxbos xxmaj recap : a lone swordsman , living in the desert and acting as an agent to other swordsmen , recollects how his life turned out to be as it is . xxmaj it started with that the woman he loved chose to marry his brother instead , causing him to leave his home town . xxmaj one of the swordsmen is xxmaj huang who is himself in the middle of a complicated love story , where a woman wants to have him killed for having ran away from a promise to marry her younger sister . xxmaj but the sister wants to hire a swordsman to have xxmaj huang protected , and everything is put to an edge when the woman and her sister is really the same person . \n",
              " \n",
              "  xxmaj comments : i 've seen the xxmaj redux version released in 2008 of the original that was released in 1994 . xxmaj how the two versions differ i ca n't say , but the xxmaj redux is very heavily stylized in the way of xxmaj chinese xxmaj wuxia action . xxmaj that is unfortunate as that style to me seems to have forgotten one of the most important elements of a successful and entertaining movie . a comprehensible story . xxmaj but true to its style scenery and visual elements seem much more important and much more in focus of writer and director xxmaj kar xxmaj wai xxmaj wong . xxmaj therefore there are lots of colorful , very beautiful scenes , that are completely unrelated to the story . \n",
              " \n",
              "  xxmaj the editing and timeline of the story is also mishandled . xxmaj much is left out in the scenes , the time line is broken and rearranged in a confusing way . xxmaj very slow and calm scenes are suddenly relieved by surprisingly brutal and seemingly unmotivated fights , only to themselves being relieved by something else and unrelated . xxmaj the result is a confusing and very uninteresting movie . \n",
              " \n",
              "  xxmaj thanks to these brutal but very few fights , the movie is put into the action genre . xxmaj the poster and photographs also imply this but could almost be regarded as false marketing . xxmaj only a few minutes out of the 90 could be considered as anything like action , the other could n't be farther away from it . xxmaj the movie in its entirety is very slow , dull and hence very boring . xxmaj not even the rare action filled scenes help since they are so disconnected from the rest of the movie . \n",
              " \n",
              "  i might say that i 'm not a fan of this xxmaj chinese style , since they often seem to be afflicted of these same problems , most importantly that the visual is more important than the story , but xxmaj ashes of xxmaj time xxmaj redux is perhaps the worst example i 've seen . \n",
              " \n",
              "  3 / 10,xxbos xxmaj definitely not your typical xxmaj polizia , xxmaj redneck just never worked for me . xxmaj the movie tells the story of a jewel heist gone wrong and a young boy who is inadvertently kidnapped in the process . xxmaj in their attempt to get away , the robbers leave a bloody trail of death in their wake as they hatch a plan to ransom the boy . xxmaj the plan is never carried off as the robbers are more intent on getting to xxmaj france and the boy is intent on staying with them . xxmaj while i could cite a number of problems i had with the movie , i 'll focus on the most obvious  the character xxmaj memphis played by xxmaj telly xxmaj savalas . xxmaj from his work in xxmaj the xxmaj dirty xxmaj dozen and xxmaj kelley 's xxmaj heroes to other xxmaj italian films like xxmaj crime xxmaj boss to his most remembered role as xxmaj kojak , xxmaj savalas was a winner . i 've always thought of him as one uber - cool customer . xxmaj unfortunately , xxmaj savalas is almost unwatchable in xxmaj redneck . xxmaj did the director turn on the camera and instruct him to act as psychotic as possible ? xxmaj it might not have been too bad had his actions been done within the context of a plot i cared about , but here he seems to be acting bizarre for sake of being bizarre . xxmaj it 's appears to be random lunacy . xxmaj and what 's with that accent ? xxmaj savalas might have been a lot of things , but xxmaj southern is n't one of them . xxmaj he sounds completely ridiculous even attempting the accent . xxmaj beyond that , i found little of interest in the rest of the movie . xxmaj as i indicated , the plot never drew me in . i just did n't care about what was going on . xxmaj and the notion that the boy is so quickly attracted to the criminal lifestyle does n't ring true . xxmaj as for the other actors , xxmaj mark xxmaj lester is almost as bad as xxmaj savalas and the usually reliable xxmaj franco xxmaj nero is n't a whole lot better . xxmaj three \" name \" actors and not a good performance between them . xxmaj to make matters worse , i believe the director filmed many of the night scenes with nothing more than the glow from his watch to light the shots . i could n't tell what was going on . xxmaj characters i hate , a plot i do n't care about , and a production values that failed  little wonder i 've given xxmaj redneck a 3 / 10 .,xxbos i never really understood the controversy and hype this movie caused . xxmaj especially in xxmaj french and the neighboring countries ( in xxmaj belgium , where i am located , for example ) , \" xxmaj baise - xxmaj moi \" was announced as xxup the most shocking and xxup the most thought - provoking social drama you could ever experience . xxmaj yeah right ! xxmaj it might be a little shocking , maybe ( how often do you see someone getting shot up the arse ? ) , but the weak and pointless plot surely did n't cause me to think much . \" xxmaj baise - xxmaj moi \" is another one of those \" blame everything that goes wrong on xxunk and they 're generally not very convincing . xxmaj about 99 % of the people functions perfectly well in this society so why would you blame this exact same society for the vile and hopeless acts of two deranged nymph - girls ? xxmaj the two main characters and their miserable lives are introduced separately and in flashes . xxmaj nadine just killed her roommate ; xxmaj manu shot her brother and the two meet in an abandoned train - station , late at night . xxmaj they decide to travel around xxmaj france together , leaving a trail of sex and blood behind wherever they made a stop . xxmaj although we 're constantly exposed to pornography and violence , this film is very boring to sit through . xxmaj like the girls are indicating themselves all the time , the dialogues are lame and the people they run into ( and kill \n",
              " ) are very uninteresting . xxmaj if people want to make porno movies , that 's fine by me , but please do n't pretend that it 's art - house film - making . xxmaj if you leave out the swearing and the hip camera - work , all there is to see is ( not so ) arousing pornography . xxmaj cool soundtrack , though !,xxbos i ca n't get over how lazy the director is with this movie . xxmaj instead of setting up scenes in a creative way he relies on boring old zombie clichés . \n",
              " \n",
              "  xxmaj where the two unarmed leads have to get down the college steps into the van he surrounds them with zombies yet neither of the leads is bitten . xxmaj he ca n't be bothered to direct a decent fight scene so we see the leads shove their way down the steps . \n",
              " \n",
              "  xxmaj sometimes the zombies limp about and at others they run like the wind . xxmaj this is really convenient for the director because he can set up anything he likes without bothering with continuity in the behaviour of the zombies . \n",
              " \n",
              "  xxmaj with careful planning and a lot more inspiration this movie could have been so much better .\n",
              "y: CategoryList\n",
              "neg,neg,neg,neg,neg\n",
              "Path: /root/.fastai/data/imdb;\n",
              "\n",
              "Test: None, model=SequentialRNN(\n",
              "  (0): MultiBatchEncoder(\n",
              "    (module): AWD_LSTM(\n",
              "      (encoder): Embedding(60000, 400, padding_idx=1)\n",
              "      (encoder_dp): EmbeddingDropout(\n",
              "        (emb): Embedding(60000, 400, padding_idx=1)\n",
              "      )\n",
              "      (rnns): ModuleList(\n",
              "        (0): WeightDropout(\n",
              "          (module): LSTM(400, 1152, batch_first=True)\n",
              "        )\n",
              "        (1): WeightDropout(\n",
              "          (module): LSTM(1152, 1152, batch_first=True)\n",
              "        )\n",
              "        (2): WeightDropout(\n",
              "          (module): LSTM(1152, 400, batch_first=True)\n",
              "        )\n",
              "      )\n",
              "      (input_dp): RNNDropout()\n",
              "      (hidden_dps): ModuleList(\n",
              "        (0): RNNDropout()\n",
              "        (1): RNNDropout()\n",
              "        (2): RNNDropout()\n",
              "      )\n",
              "    )\n",
              "  )\n",
              "  (1): PoolingLinearClassifier(\n",
              "    (layers): Sequential(\n",
              "      (0): BatchNorm1d(1200, eps=1e-05, momentum=0.1, affine=True, track_running_stats=True)\n",
              "      (1): Dropout(p=0.2, inplace=False)\n",
              "      (2): Linear(in_features=1200, out_features=50, bias=True)\n",
              "      (3): ReLU(inplace=True)\n",
              "      (4): BatchNorm1d(50, eps=1e-05, momentum=0.1, affine=True, track_running_stats=True)\n",
              "      (5): Dropout(p=0.1, inplace=False)\n",
              "      (6): Linear(in_features=50, out_features=2, bias=True)\n",
              "    )\n",
              "  )\n",
              "), opt_func=functools.partial(<class 'torch.optim.adam.Adam'>, betas=(0.9, 0.99)), loss_func=FlattenedLoss of CrossEntropyLoss(), metrics=[<function accuracy at 0x7f9effa7f158>], true_wd=True, bn_wd=True, wd=0.01, train_bn=True, path=PosixPath('/root/.fastai/data/imdb'), model_dir='models', callback_fns=[functools.partial(<class 'fastai.basic_train.Recorder'>, add_time=True, silent=False)], callbacks=[...], layer_groups=[Sequential(\n",
              "  (0): Embedding(60000, 400, padding_idx=1)\n",
              "  (1): EmbeddingDropout(\n",
              "    (emb): Embedding(60000, 400, padding_idx=1)\n",
              "  )\n",
              "), Sequential(\n",
              "  (0): WeightDropout(\n",
              "    (module): LSTM(400, 1152, batch_first=True)\n",
              "  )\n",
              "  (1): RNNDropout()\n",
              "), Sequential(\n",
              "  (0): WeightDropout(\n",
              "    (module): LSTM(1152, 1152, batch_first=True)\n",
              "  )\n",
              "  (1): RNNDropout()\n",
              "), Sequential(\n",
              "  (0): WeightDropout(\n",
              "    (module): LSTM(1152, 400, batch_first=True)\n",
              "  )\n",
              "  (1): RNNDropout()\n",
              "), Sequential(\n",
              "  (0): PoolingLinearClassifier(\n",
              "    (layers): Sequential(\n",
              "      (0): BatchNorm1d(1200, eps=1e-05, momentum=0.1, affine=True, track_running_stats=True)\n",
              "      (1): Dropout(p=0.2, inplace=False)\n",
              "      (2): Linear(in_features=1200, out_features=50, bias=True)\n",
              "      (3): ReLU(inplace=True)\n",
              "      (4): BatchNorm1d(50, eps=1e-05, momentum=0.1, affine=True, track_running_stats=True)\n",
              "      (5): Dropout(p=0.1, inplace=False)\n",
              "      (6): Linear(in_features=50, out_features=2, bias=True)\n",
              "    )\n",
              "  )\n",
              ")], add_time=True, silent=False)\n",
              "alpha: 2.0\n",
              "beta: 1.0], layer_groups=[Sequential(\n",
              "  (0): Embedding(60000, 400, padding_idx=1)\n",
              "  (1): EmbeddingDropout(\n",
              "    (emb): Embedding(60000, 400, padding_idx=1)\n",
              "  )\n",
              "), Sequential(\n",
              "  (0): WeightDropout(\n",
              "    (module): LSTM(400, 1152, batch_first=True)\n",
              "  )\n",
              "  (1): RNNDropout()\n",
              "), Sequential(\n",
              "  (0): WeightDropout(\n",
              "    (module): LSTM(1152, 1152, batch_first=True)\n",
              "  )\n",
              "  (1): RNNDropout()\n",
              "), Sequential(\n",
              "  (0): WeightDropout(\n",
              "    (module): LSTM(1152, 400, batch_first=True)\n",
              "  )\n",
              "  (1): RNNDropout()\n",
              "), Sequential(\n",
              "  (0): PoolingLinearClassifier(\n",
              "    (layers): Sequential(\n",
              "      (0): BatchNorm1d(1200, eps=1e-05, momentum=0.1, affine=True, track_running_stats=True)\n",
              "      (1): Dropout(p=0.2, inplace=False)\n",
              "      (2): Linear(in_features=1200, out_features=50, bias=True)\n",
              "      (3): ReLU(inplace=True)\n",
              "      (4): BatchNorm1d(50, eps=1e-05, momentum=0.1, affine=True, track_running_stats=True)\n",
              "      (5): Dropout(p=0.1, inplace=False)\n",
              "      (6): Linear(in_features=50, out_features=2, bias=True)\n",
              "    )\n",
              "  )\n",
              ")], add_time=True, silent=False)"
            ]
          },
          "metadata": {
            "tags": []
          },
          "execution_count": 54
        }
      ]
    },
    {
      "cell_type": "code",
      "metadata": {
        "id": "auPSCgM2vP-i",
        "colab_type": "code",
        "colab": {
          "base_uri": "https://localhost:8080/",
          "height": 111
        },
        "outputId": "5733af59-dc7f-4a70-9318-26fcf6ed9bee"
      },
      "source": [
        "learn.unfreeze()\n",
        "learn.fit_one_cycle(2, slice(1e-3/(2.6**4), 1e-3), moms=(0.8,0.7))"
      ],
      "execution_count": 55,
      "outputs": [
        {
          "output_type": "display_data",
          "data": {
            "text/html": [
              "<table border=\"1\" class=\"dataframe\">\n",
              "  <thead>\n",
              "    <tr style=\"text-align: left;\">\n",
              "      <th>epoch</th>\n",
              "      <th>train_loss</th>\n",
              "      <th>valid_loss</th>\n",
              "      <th>accuracy</th>\n",
              "      <th>time</th>\n",
              "    </tr>\n",
              "  </thead>\n",
              "  <tbody>\n",
              "    <tr>\n",
              "      <td>0</td>\n",
              "      <td>0.259665</td>\n",
              "      <td>0.205750</td>\n",
              "      <td>0.918760</td>\n",
              "      <td>06:18</td>\n",
              "    </tr>\n",
              "    <tr>\n",
              "      <td>1</td>\n",
              "      <td>0.239812</td>\n",
              "      <td>0.191508</td>\n",
              "      <td>0.924280</td>\n",
              "      <td>06:16</td>\n",
              "    </tr>\n",
              "  </tbody>\n",
              "</table>"
            ],
            "text/plain": [
              "<IPython.core.display.HTML object>"
            ]
          },
          "metadata": {
            "tags": []
          }
        }
      ]
    },
    {
      "cell_type": "code",
      "metadata": {
        "id": "zE11aRwZva1D",
        "colab_type": "code",
        "colab": {
          "base_uri": "https://localhost:8080/",
          "height": 34
        },
        "outputId": "f4c5779f-b19a-4dfd-b623-28c32793e90f"
      },
      "source": [
        "learn.predict(\"I really love that movie, it was awesome!\")"
      ],
      "execution_count": 56,
      "outputs": [
        {
          "output_type": "execute_result",
          "data": {
            "text/plain": [
              "(Category pos, tensor(1), tensor([1.2692e-05, 9.9999e-01]))"
            ]
          },
          "metadata": {
            "tags": []
          },
          "execution_count": 56
        }
      ]
    },
    {
      "cell_type": "code",
      "metadata": {
        "id": "RI4AvgAN5cpv",
        "colab_type": "code",
        "colab": {}
      },
      "source": [
        "# Accuracy can be increased to more than this, but limited since training case time is too large"
      ],
      "execution_count": 0,
      "outputs": []
    }
  ]
}