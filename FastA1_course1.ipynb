{
  "nbformat": 4,
  "nbformat_minor": 0,
  "metadata": {
    "colab": {
      "name": "FastA1 course1.ipynb",
      "provenance": [],
      "collapsed_sections": [],
      "authorship_tag": "ABX9TyOVynvFmI/1evY7kLSOrGji",
      "include_colab_link": true
    },
    "kernelspec": {
      "name": "python3",
      "display_name": "Python 3"
    },
    "accelerator": "GPU"
  },
  "cells": [
    {
      "cell_type": "markdown",
      "metadata": {
        "id": "view-in-github",
        "colab_type": "text"
      },
      "source": [
        "<a href=\"https://colab.research.google.com/github/dudesparsh/Applied-ML/blob/master/FastA1_course1.ipynb\" target=\"_parent\"><img src=\"https://colab.research.google.com/assets/colab-badge.svg\" alt=\"Open In Colab\"/></a>"
      ]
    },
    {
      "cell_type": "code",
      "metadata": {
        "id": "NG9VL_PH0RKM",
        "colab_type": "code",
        "colab": {}
      },
      "source": [
        "# Start every notebook with these lines\n",
        "\n",
        "%reload_ext autoreload\n",
        "%autoreload 2\n",
        "%matplotlib inline\n"
      ],
      "execution_count": 0,
      "outputs": []
    },
    {
      "cell_type": "code",
      "metadata": {
        "id": "GHsyo7-9_fpz",
        "colab_type": "code",
        "colab": {}
      },
      "source": [
        "# Importing fast.ai libraries\n",
        "\n",
        "from fastai.vision import *\n",
        "from fastai.metrics import error_rate"
      ],
      "execution_count": 0,
      "outputs": []
    },
    {
      "cell_type": "code",
      "metadata": {
        "id": "-xTaJKwm_sMj",
        "colab_type": "code",
        "colab": {}
      },
      "source": [
        "bs = 64\n",
        "# bs = 16\n",
        "# If on a machine having smaller gpu, uncomment second line of this tab and restart kernel"
      ],
      "execution_count": 0,
      "outputs": []
    },
    {
      "cell_type": "code",
      "metadata": {
        "id": "7740Jfyy_-Ci",
        "colab_type": "code",
        "outputId": "9e15587d-7f37-458e-925b-ac93a124db17",
        "colab": {
          "base_uri": "https://localhost:8080/",
          "height": 102
        }
      },
      "source": [
        "# Help function to get information about anything\n",
        "\n",
        "help(untar_data)"
      ],
      "execution_count": 6,
      "outputs": [
        {
          "output_type": "stream",
          "text": [
            "Help on function untar_data in module fastai.datasets:\n",
            "\n",
            "untar_data(url:str, fname:Union[pathlib.Path, str]=None, dest:Union[pathlib.Path, str]=None, data=True, force_download=False) -> pathlib.Path\n",
            "    Download `url` to `fname` if `dest` doesn't exist, and un-tgz to folder `dest`.\n",
            "\n"
          ],
          "name": "stdout"
        }
      ]
    },
    {
      "cell_type": "code",
      "metadata": {
        "id": "VvUbMyhtAEYy",
        "colab_type": "code",
        "outputId": "7a990d88-0922-4ade-8962-da87f06e9bb2",
        "colab": {
          "base_uri": "https://localhost:8080/",
          "height": 51
        }
      },
      "source": [
        "path = untar_data(URLs.PETS); path"
      ],
      "execution_count": 7,
      "outputs": [
        {
          "output_type": "stream",
          "text": [
            "Downloading https://s3.amazonaws.com/fast-ai-imageclas/oxford-iiit-pet\n"
          ],
          "name": "stdout"
        },
        {
          "output_type": "display_data",
          "data": {
            "text/html": [
              ""
            ],
            "text/plain": [
              "<IPython.core.display.HTML object>"
            ]
          },
          "metadata": {
            "tags": []
          }
        },
        {
          "output_type": "execute_result",
          "data": {
            "text/plain": [
              "PosixPath('/root/.fastai/data/oxford-iiit-pet')"
            ]
          },
          "metadata": {
            "tags": []
          },
          "execution_count": 7
        }
      ]
    },
    {
      "cell_type": "code",
      "metadata": {
        "id": "CmIo8HdSAORy",
        "colab_type": "code",
        "outputId": "26cfe0d3-1420-4803-c01b-f9f3cab3b157",
        "colab": {
          "base_uri": "https://localhost:8080/",
          "height": 51
        }
      },
      "source": [
        "path.ls()"
      ],
      "execution_count": 8,
      "outputs": [
        {
          "output_type": "execute_result",
          "data": {
            "text/plain": [
              "[PosixPath('/root/.fastai/data/oxford-iiit-pet/annotations'),\n",
              " PosixPath('/root/.fastai/data/oxford-iiit-pet/images')]"
            ]
          },
          "metadata": {
            "tags": []
          },
          "execution_count": 8
        }
      ]
    },
    {
      "cell_type": "code",
      "metadata": {
        "id": "0kmjOJtPAT0J",
        "colab_type": "code",
        "colab": {}
      },
      "source": [
        "path_anno = path/'annotations'\n",
        "path_img = path/'images'"
      ],
      "execution_count": 0,
      "outputs": []
    },
    {
      "cell_type": "code",
      "metadata": {
        "id": "wEuoqT1nAciS",
        "colab_type": "code",
        "outputId": "4abedab7-94c3-4b66-e0ea-a2d16ce391a5",
        "colab": {
          "base_uri": "https://localhost:8080/",
          "height": 102
        }
      },
      "source": [
        "fnames = get_image_files(path_img)\n",
        "fnames[:5]"
      ],
      "execution_count": 10,
      "outputs": [
        {
          "output_type": "execute_result",
          "data": {
            "text/plain": [
              "[PosixPath('/root/.fastai/data/oxford-iiit-pet/images/Birman_23.jpg'),\n",
              " PosixPath('/root/.fastai/data/oxford-iiit-pet/images/chihuahua_177.jpg'),\n",
              " PosixPath('/root/.fastai/data/oxford-iiit-pet/images/great_pyrenees_46.jpg'),\n",
              " PosixPath('/root/.fastai/data/oxford-iiit-pet/images/pomeranian_126.jpg'),\n",
              " PosixPath('/root/.fastai/data/oxford-iiit-pet/images/Birman_76.jpg')]"
            ]
          },
          "metadata": {
            "tags": []
          },
          "execution_count": 10
        }
      ]
    },
    {
      "cell_type": "code",
      "metadata": {
        "id": "HhQQ6fy7Ap0i",
        "colab_type": "code",
        "colab": {}
      },
      "source": [
        "np.random.seed(2)\n",
        "pat = r'/([^/]+)_\\d+.jpg$'"
      ],
      "execution_count": 0,
      "outputs": []
    },
    {
      "cell_type": "code",
      "metadata": {
        "id": "Gha_hY9zA93h",
        "colab_type": "code",
        "colab": {}
      },
      "source": [
        "data = ImageDataBunch.from_name_re(path_img, fnames, pat, ds_tfms = get_transforms(), size = 22).normalize(imagenet_stats)"
      ],
      "execution_count": 0,
      "outputs": []
    },
    {
      "cell_type": "code",
      "metadata": {
        "id": "stpjl3dQBKea",
        "colab_type": "code",
        "outputId": "78045f77-e09b-478b-81fd-f5a245a2d6a1",
        "colab": {
          "base_uri": "https://localhost:8080/",
          "height": 441
        }
      },
      "source": [
        "data.show_batch(rows = 3, figsize = (7,6))"
      ],
      "execution_count": 13,
      "outputs": [
        {
          "output_type": "display_data",
          "data": {
            "image/png": "[encoded data removed]",
            "text/plain": [
              "<Figure size 504x432 with 9 Axes>"
            ]
          },
          "metadata": {
            "tags": []
          }
        }
      ]
    },
    {
      "cell_type": "code",
      "metadata": {
        "id": "zpBL22N1BP55",
        "colab_type": "code",
        "outputId": "39987d34-ed61-46ad-de56-bfae724cce74",
        "colab": {
          "base_uri": "https://localhost:8080/",
          "height": 71
        }
      },
      "source": [
        "print(data.classes)\n",
        "len(data.classes), data.c"
      ],
      "execution_count": 14,
      "outputs": [
        {
          "output_type": "stream",
          "text": [
            "['Abyssinian', 'Bengal', 'Birman', 'Bombay', 'British_Shorthair', 'Egyptian_Mau', 'Maine_Coon', 'Persian', 'Ragdoll', 'Russian_Blue', 'Siamese', 'Sphynx', 'american_bulldog', 'american_pit_bull_terrier', 'basset_hound', 'beagle', 'boxer', 'chihuahua', 'english_cocker_spaniel', 'english_setter', 'german_shorthaired', 'great_pyrenees', 'havanese', 'japanese_chin', 'keeshond', 'leonberger', 'miniature_pinscher', 'newfoundland', 'pomeranian', 'pug', 'saint_bernard', 'samoyed', 'scottish_terrier', 'shiba_inu', 'staffordshire_bull_terrier', 'wheaten_terrier', 'yorkshire_terrier']\n"
          ],
          "name": "stdout"
        },
        {
          "output_type": "execute_result",
          "data": {
            "text/plain": [
              "(37, 37)"
            ]
          },
          "metadata": {
            "tags": []
          },
          "execution_count": 14
        }
      ]
    },
    {
      "cell_type": "code",
      "metadata": {
        "id": "0SPsQaQxBYLR",
        "colab_type": "code",
        "outputId": "46a455e8-5bb8-4b3b-cac4-15e3d0606c41",
        "colab": {
          "base_uri": "https://localhost:8080/",
          "height": 51
        }
      },
      "source": [
        "learn = cnn_learner(data, models.resnet34, metrics = error_rate)"
      ],
      "execution_count": 15,
      "outputs": [
        {
          "output_type": "stream",
          "text": [
            "Downloading: \"https://download.pytorch.org/models/resnet34-333f7ec4.pth\" to /root/.cache/torch/checkpoints/resnet34-333f7ec4.pth\n",
            "100%|██████████| 83.3M/83.3M [00:02<00:00, 39.1MB/s]\n"
          ],
          "name": "stderr"
        }
      ]
    },
    {
      "cell_type": "code",
      "metadata": {
        "id": "vXG-wvGvBohZ",
        "colab_type": "code",
        "outputId": "b9ccde14-e587-42a8-a10d-75714dfc9c1e",
        "colab": {
          "base_uri": "https://localhost:8080/",
          "height": 1000
        }
      },
      "source": [
        "learn.model"
      ],
      "execution_count": 16,
      "outputs": [
        {
          "output_type": "execute_result",
          "data": {
            "text/plain": [
              "Sequential(\n",
              "  (0): Sequential(\n",
              "    (0): Conv2d(3, 64, kernel_size=(7, 7), stride=(2, 2), padding=(3, 3), bias=False)\n",
              "    (1): BatchNorm2d(64, eps=1e-05, momentum=0.1, affine=True, track_running_stats=True)\n",
              "    (2): ReLU(inplace=True)\n",
              "    (3): MaxPool2d(kernel_size=3, stride=2, padding=1, dilation=1, ceil_mode=False)\n",
              "    (4): Sequential(\n",
              "      (0): BasicBlock(\n",
              "        (conv1): Conv2d(64, 64, kernel_size=(3, 3), stride=(1, 1), padding=(1, 1), bias=False)\n",
              "        (bn1): BatchNorm2d(64, eps=1e-05, momentum=0.1, affine=True, track_running_stats=True)\n",
              "        (relu): ReLU(inplace=True)\n",
              "        (conv2): Conv2d(64, 64, kernel_size=(3, 3), stride=(1, 1), padding=(1, 1), bias=False)\n",
              "        (bn2): BatchNorm2d(64, eps=1e-05, momentum=0.1, affine=True, track_running_stats=True)\n",
              "      )\n",
              "      (1): BasicBlock(\n",
              "        (conv1): Conv2d(64, 64, kernel_size=(3, 3), stride=(1, 1), padding=(1, 1), bias=False)\n",
              "        (bn1): BatchNorm2d(64, eps=1e-05, momentum=0.1, affine=True, track_running_stats=True)\n",
              "        (relu): ReLU(inplace=True)\n",
              "        (conv2): Conv2d(64, 64, kernel_size=(3, 3), stride=(1, 1), padding=(1, 1), bias=False)\n",
              "        (bn2): BatchNorm2d(64, eps=1e-05, momentum=0.1, affine=True, track_running_stats=True)\n",
              "      )\n",
              "      (2): BasicBlock(\n",
              "        (conv1): Conv2d(64, 64, kernel_size=(3, 3), stride=(1, 1), padding=(1, 1), bias=False)\n",
              "        (bn1): BatchNorm2d(64, eps=1e-05, momentum=0.1, affine=True, track_running_stats=True)\n",
              "        (relu): ReLU(inplace=True)\n",
              "        (conv2): Conv2d(64, 64, kernel_size=(3, 3), stride=(1, 1), padding=(1, 1), bias=False)\n",
              "        (bn2): BatchNorm2d(64, eps=1e-05, momentum=0.1, affine=True, track_running_stats=True)\n",
              "      )\n",
              "    )\n",
              "    (5): Sequential(\n",
              "      (0): BasicBlock(\n",
              "        (conv1): Conv2d(64, 128, kernel_size=(3, 3), stride=(2, 2), padding=(1, 1), bias=False)\n",
              "        (bn1): BatchNorm2d(128, eps=1e-05, momentum=0.1, affine=True, track_running_stats=True)\n",
              "        (relu): ReLU(inplace=True)\n",
              "        (conv2): Conv2d(128, 128, kernel_size=(3, 3), stride=(1, 1), padding=(1, 1), bias=False)\n",
              "        (bn2): BatchNorm2d(128, eps=1e-05, momentum=0.1, affine=True, track_running_stats=True)\n",
              "        (downsample): Sequential(\n",
              "          (0): Conv2d(64, 128, kernel_size=(1, 1), stride=(2, 2), bias=False)\n",
              "          (1): BatchNorm2d(128, eps=1e-05, momentum=0.1, affine=True, track_running_stats=True)\n",
              "        )\n",
              "      )\n",
              "      (1): BasicBlock(\n",
              "        (conv1): Conv2d(128, 128, kernel_size=(3, 3), stride=(1, 1), padding=(1, 1), bias=False)\n",
              "        (bn1): BatchNorm2d(128, eps=1e-05, momentum=0.1, affine=True, track_running_stats=True)\n",
              "        (relu): ReLU(inplace=True)\n",
              "        (conv2): Conv2d(128, 128, kernel_size=(3, 3), stride=(1, 1), padding=(1, 1), bias=False)\n",
              "        (bn2): BatchNorm2d(128, eps=1e-05, momentum=0.1, affine=True, track_running_stats=True)\n",
              "      )\n",
              "      (2): BasicBlock(\n",
              "        (conv1): Conv2d(128, 128, kernel_size=(3, 3), stride=(1, 1), padding=(1, 1), bias=False)\n",
              "        (bn1): BatchNorm2d(128, eps=1e-05, momentum=0.1, affine=True, track_running_stats=True)\n",
              "        (relu): ReLU(inplace=True)\n",
              "        (conv2): Conv2d(128, 128, kernel_size=(3, 3), stride=(1, 1), padding=(1, 1), bias=False)\n",
              "        (bn2): BatchNorm2d(128, eps=1e-05, momentum=0.1, affine=True, track_running_stats=True)\n",
              "      )\n",
              "      (3): BasicBlock(\n",
              "        (conv1): Conv2d(128, 128, kernel_size=(3, 3), stride=(1, 1), padding=(1, 1), bias=False)\n",
              "        (bn1): BatchNorm2d(128, eps=1e-05, momentum=0.1, affine=True, track_running_stats=True)\n",
              "        (relu): ReLU(inplace=True)\n",
              "        (conv2): Conv2d(128, 128, kernel_size=(3, 3), stride=(1, 1), padding=(1, 1), bias=False)\n",
              "        (bn2): BatchNorm2d(128, eps=1e-05, momentum=0.1, affine=True, track_running_stats=True)\n",
              "      )\n",
              "    )\n",
              "    (6): Sequential(\n",
              "      (0): BasicBlock(\n",
              "        (conv1): Conv2d(128, 256, kernel_size=(3, 3), stride=(2, 2), padding=(1, 1), bias=False)\n",
              "        (bn1): BatchNorm2d(256, eps=1e-05, momentum=0.1, affine=True, track_running_stats=True)\n",
              "        (relu): ReLU(inplace=True)\n",
              "        (conv2): Conv2d(256, 256, kernel_size=(3, 3), stride=(1, 1), padding=(1, 1), bias=False)\n",
              "        (bn2): BatchNorm2d(256, eps=1e-05, momentum=0.1, affine=True, track_running_stats=True)\n",
              "        (downsample): Sequential(\n",
              "          (0): Conv2d(128, 256, kernel_size=(1, 1), stride=(2, 2), bias=False)\n",
              "          (1): BatchNorm2d(256, eps=1e-05, momentum=0.1, affine=True, track_running_stats=True)\n",
              "        )\n",
              "      )\n",
              "      (1): BasicBlock(\n",
              "        (conv1): Conv2d(256, 256, kernel_size=(3, 3), stride=(1, 1), padding=(1, 1), bias=False)\n",
              "        (bn1): BatchNorm2d(256, eps=1e-05, momentum=0.1, affine=True, track_running_stats=True)\n",
              "        (relu): ReLU(inplace=True)\n",
              "        (conv2): Conv2d(256, 256, kernel_size=(3, 3), stride=(1, 1), padding=(1, 1), bias=False)\n",
              "        (bn2): BatchNorm2d(256, eps=1e-05, momentum=0.1, affine=True, track_running_stats=True)\n",
              "      )\n",
              "      (2): BasicBlock(\n",
              "        (conv1): Conv2d(256, 256, kernel_size=(3, 3), stride=(1, 1), padding=(1, 1), bias=False)\n",
              "        (bn1): BatchNorm2d(256, eps=1e-05, momentum=0.1, affine=True, track_running_stats=True)\n",
              "        (relu): ReLU(inplace=True)\n",
              "        (conv2): Conv2d(256, 256, kernel_size=(3, 3), stride=(1, 1), padding=(1, 1), bias=False)\n",
              "        (bn2): BatchNorm2d(256, eps=1e-05, momentum=0.1, affine=True, track_running_stats=True)\n",
              "      )\n",
              "      (3): BasicBlock(\n",
              "        (conv1): Conv2d(256, 256, kernel_size=(3, 3), stride=(1, 1), padding=(1, 1), bias=False)\n",
              "        (bn1): BatchNorm2d(256, eps=1e-05, momentum=0.1, affine=True, track_running_stats=True)\n",
              "        (relu): ReLU(inplace=True)\n",
              "        (conv2): Conv2d(256, 256, kernel_size=(3, 3), stride=(1, 1), padding=(1, 1), bias=False)\n",
              "        (bn2): BatchNorm2d(256, eps=1e-05, momentum=0.1, affine=True, track_running_stats=True)\n",
              "      )\n",
              "      (4): BasicBlock(\n",
              "        (conv1): Conv2d(256, 256, kernel_size=(3, 3), stride=(1, 1), padding=(1, 1), bias=False)\n",
              "        (bn1): BatchNorm2d(256, eps=1e-05, momentum=0.1, affine=True, track_running_stats=True)\n",
              "        (relu): ReLU(inplace=True)\n",
              "        (conv2): Conv2d(256, 256, kernel_size=(3, 3), stride=(1, 1), padding=(1, 1), bias=False)\n",
              "        (bn2): BatchNorm2d(256, eps=1e-05, momentum=0.1, affine=True, track_running_stats=True)\n",
              "      )\n",
              "      (5): BasicBlock(\n",
              "        (conv1): Conv2d(256, 256, kernel_size=(3, 3), stride=(1, 1), padding=(1, 1), bias=False)\n",
              "        (bn1): BatchNorm2d(256, eps=1e-05, momentum=0.1, affine=True, track_running_stats=True)\n",
              "        (relu): ReLU(inplace=True)\n",
              "        (conv2): Conv2d(256, 256, kernel_size=(3, 3), stride=(1, 1), padding=(1, 1), bias=False)\n",
              "        (bn2): BatchNorm2d(256, eps=1e-05, momentum=0.1, affine=True, track_running_stats=True)\n",
              "      )\n",
              "    )\n",
              "    (7): Sequential(\n",
              "      (0): BasicBlock(\n",
              "        (conv1): Conv2d(256, 512, kernel_size=(3, 3), stride=(2, 2), padding=(1, 1), bias=False)\n",
              "        (bn1): BatchNorm2d(512, eps=1e-05, momentum=0.1, affine=True, track_running_stats=True)\n",
              "        (relu): ReLU(inplace=True)\n",
              "        (conv2): Conv2d(512, 512, kernel_size=(3, 3), stride=(1, 1), padding=(1, 1), bias=False)\n",
              "        (bn2): BatchNorm2d(512, eps=1e-05, momentum=0.1, affine=True, track_running_stats=True)\n",
              "        (downsample): Sequential(\n",
              "          (0): Conv2d(256, 512, kernel_size=(1, 1), stride=(2, 2), bias=False)\n",
              "          (1): BatchNorm2d(512, eps=1e-05, momentum=0.1, affine=True, track_running_stats=True)\n",
              "        )\n",
              "      )\n",
              "      (1): BasicBlock(\n",
              "        (conv1): Conv2d(512, 512, kernel_size=(3, 3), stride=(1, 1), padding=(1, 1), bias=False)\n",
              "        (bn1): BatchNorm2d(512, eps=1e-05, momentum=0.1, affine=True, track_running_stats=True)\n",
              "        (relu): ReLU(inplace=True)\n",
              "        (conv2): Conv2d(512, 512, kernel_size=(3, 3), stride=(1, 1), padding=(1, 1), bias=False)\n",
              "        (bn2): BatchNorm2d(512, eps=1e-05, momentum=0.1, affine=True, track_running_stats=True)\n",
              "      )\n",
              "      (2): BasicBlock(\n",
              "        (conv1): Conv2d(512, 512, kernel_size=(3, 3), stride=(1, 1), padding=(1, 1), bias=False)\n",
              "        (bn1): BatchNorm2d(512, eps=1e-05, momentum=0.1, affine=True, track_running_stats=True)\n",
              "        (relu): ReLU(inplace=True)\n",
              "        (conv2): Conv2d(512, 512, kernel_size=(3, 3), stride=(1, 1), padding=(1, 1), bias=False)\n",
              "        (bn2): BatchNorm2d(512, eps=1e-05, momentum=0.1, affine=True, track_running_stats=True)\n",
              "      )\n",
              "    )\n",
              "  )\n",
              "  (1): Sequential(\n",
              "    (0): AdaptiveConcatPool2d(\n",
              "      (ap): AdaptiveAvgPool2d(output_size=1)\n",
              "      (mp): AdaptiveMaxPool2d(output_size=1)\n",
              "    )\n",
              "    (1): Flatten()\n",
              "    (2): BatchNorm1d(1024, eps=1e-05, momentum=0.1, affine=True, track_running_stats=True)\n",
              "    (3): Dropout(p=0.25, inplace=False)\n",
              "    (4): Linear(in_features=1024, out_features=512, bias=True)\n",
              "    (5): ReLU(inplace=True)\n",
              "    (6): BatchNorm1d(512, eps=1e-05, momentum=0.1, affine=True, track_running_stats=True)\n",
              "    (7): Dropout(p=0.5, inplace=False)\n",
              "    (8): Linear(in_features=512, out_features=37, bias=True)\n",
              "  )\n",
              ")"
            ]
          },
          "metadata": {
            "tags": []
          },
          "execution_count": 16
        }
      ]
    },
    {
      "cell_type": "code",
      "metadata": {
        "id": "7RGhD0HeBpiR",
        "colab_type": "code",
        "outputId": "2d61bf0d-4ec2-49cb-eb0b-e3bfaccd769e",
        "colab": {
          "base_uri": "https://localhost:8080/",
          "height": 173
        }
      },
      "source": [
        "learn.fit_one_cycle(4)"
      ],
      "execution_count": 17,
      "outputs": [
        {
          "output_type": "display_data",
          "data": {
            "text/html": [
              "<table border=\"1\" class=\"dataframe\">\n",
              "  <thead>\n",
              "    <tr style=\"text-align: left;\">\n",
              "      <th>epoch</th>\n",
              "      <th>train_loss</th>\n",
              "      <th>valid_loss</th>\n",
              "      <th>error_rate</th>\n",
              "      <th>time</th>\n",
              "    </tr>\n",
              "  </thead>\n",
              "  <tbody>\n",
              "    <tr>\n",
              "      <td>0</td>\n",
              "      <td>4.838062</td>\n",
              "      <td>3.935605</td>\n",
              "      <td>0.925575</td>\n",
              "      <td>00:45</td>\n",
              "    </tr>\n",
              "    <tr>\n",
              "      <td>1</td>\n",
              "      <td>4.228191</td>\n",
              "      <td>3.637474</td>\n",
              "      <td>0.895129</td>\n",
              "      <td>00:45</td>\n",
              "    </tr>\n",
              "    <tr>\n",
              "      <td>2</td>\n",
              "      <td>3.801226</td>\n",
              "      <td>3.473548</td>\n",
              "      <td>0.883627</td>\n",
              "      <td>00:44</td>\n",
              "    </tr>\n",
              "    <tr>\n",
              "      <td>3</td>\n",
              "      <td>3.620948</td>\n",
              "      <td>3.431535</td>\n",
              "      <td>0.883627</td>\n",
              "      <td>00:45</td>\n",
              "    </tr>\n",
              "  </tbody>\n",
              "</table>"
            ],
            "text/plain": [
              "<IPython.core.display.HTML object>"
            ]
          },
          "metadata": {
            "tags": []
          }
        }
      ]
    },
    {
      "cell_type": "code",
      "metadata": {
        "id": "LhYPxLKbBycw",
        "colab_type": "code",
        "colab": {}
      },
      "source": [
        "learn.save('stage-1')"
      ],
      "execution_count": 0,
      "outputs": []
    },
    {
      "cell_type": "code",
      "metadata": {
        "id": "l3oCEV-_Cvcs",
        "colab_type": "code",
        "outputId": "fe90f826-408d-4a46-adae-cb0a116b1dd0",
        "colab": {
          "base_uri": "https://localhost:8080/",
          "height": 34
        }
      },
      "source": [
        "interp = ClassificationInterpretation.from_learner(learn)\n",
        "\n",
        "losses, idxs = interp.top_losses()\n",
        "\n",
        "len(data.valid_ds) == len(losses) == len(idxs)"
      ],
      "execution_count": 19,
      "outputs": [
        {
          "output_type": "display_data",
          "data": {
            "text/html": [
              ""
            ],
            "text/plain": [
              "<IPython.core.display.HTML object>"
            ]
          },
          "metadata": {
            "tags": []
          }
        },
        {
          "output_type": "execute_result",
          "data": {
            "text/plain": [
              "True"
            ]
          },
          "metadata": {
            "tags": []
          },
          "execution_count": 19
        }
      ]
    },
    {
      "cell_type": "code",
      "metadata": {
        "id": "XnOXfn2oC_Bn",
        "colab_type": "code",
        "outputId": "eb15fbd8-5587-415b-fb03-baf24b20b275",
        "colab": {
          "base_uri": "https://localhost:8080/",
          "height": 277
        }
      },
      "source": [
        "interp.plot_top_losses(9, figsize =(5,4))"
      ],
      "execution_count": 20,
      "outputs": [
        {
          "output_type": "display_data",
          "data": {
            "image/png": "[encoded data removed]",
            "text/plain": [
              "<Figure size 360x288 with 9 Axes>"
            ]
          },
          "metadata": {
            "tags": []
          }
        }
      ]
    },
    {
      "cell_type": "code",
      "metadata": {
        "id": "dFnrsE9SDMHI",
        "colab_type": "code",
        "outputId": "f8da6b59-852e-4511-ab4a-b7ae134d5696",
        "colab": {
          "base_uri": "https://localhost:8080/",
          "height": 207
        }
      },
      "source": [
        "doc(interp.plot_top_losses)"
      ],
      "execution_count": 21,
      "outputs": [
        {
          "output_type": "display_data",
          "data": {
            "text/html": [
              "<h4 id=\"_cl_int_plot_top_losses\" class=\"doc_header\"><code>_cl_int_plot_top_losses</code><a href=\"https://github.com/fastai/fastai/blob/master/fastai/vision/learner.py#L163\" class=\"source_link\" style=\"float:right\">[source]</a><a class=\"source_link\" data-toggle=\"collapse\" data-target=\"#_cl_int_plot_top_losses-pytest\" style=\"float:right; padding-right:10px\">[test]</a></h4><blockquote><p><code>_cl_int_plot_top_losses</code>(<strong><code>k</code></strong>, <strong><code>largest</code></strong>=<strong><em><code>True</code></em></strong>, <strong><code>figsize</code></strong>=<strong><em><code>(12, 12)</code></em></strong>, <strong><code>heatmap</code></strong>:<code>bool</code>=<strong><em><code>False</code></em></strong>, <strong><code>heatmap_thresh</code></strong>:<code>int</code>=<strong><em><code>16</code></em></strong>, <strong><code>alpha</code></strong>:<code>float</code>=<strong><em><code>0.6</code></em></strong>, <strong><code>cmap</code></strong>:<code>str</code>=<strong><em><code>'magma'</code></em></strong>, <strong><code>show_text</code></strong>:<code>bool</code>=<strong><em><code>True</code></em></strong>, <strong><code>return_fig</code></strong>:<code>bool</code>=<strong><em><code>None</code></em></strong>) → <code>Optional</code>[<code>Figure</code>]</p>\n",
              "</blockquote>\n",
              "<div class=\"collapse\" id=\"_cl_int_plot_top_losses-pytest\"><div class=\"card card-body pytest_card\"><a type=\"button\" data-toggle=\"collapse\" data-target=\"#_cl_int_plot_top_losses-pytest\" class=\"close\" aria-label=\"Close\"><span aria-hidden=\"true\">&times;</span></a><p>No tests found for <code>_cl_int_plot_top_losses</code>. To contribute a test please refer to <a href=\"/dev/test.html\">this guide</a> and <a href=\"https://forums.fast.ai/t/improving-expanding-functional-tests/32929\">this discussion</a>.</p></div></div><p>Show images in <code>top_losses</code> along with their prediction, actual, loss, and probability of actual class.</p>\n",
              "<p><a href=\"https://docs.fast.ai/vision.learner.html#_cl_int_plot_top_losses\" target=\"_blank\" rel=\"noreferrer noopener\">Show in docs</a></p>\n"
            ],
            "text/plain": [
              "<IPython.core.display.HTML object>"
            ]
          },
          "metadata": {
            "tags": []
          }
        }
      ]
    },
    {
      "cell_type": "code",
      "metadata": {
        "id": "GAJkeiD3Dey3",
        "colab_type": "code",
        "outputId": "acf5ea9e-63c4-4f1f-9497-ef046f8aae43",
        "colab": {
          "base_uri": "https://localhost:8080/",
          "height": 743
        }
      },
      "source": [
        "interp.plot_confusion_matrix(figsize=(12,12), dpi = 60)"
      ],
      "execution_count": 22,
      "outputs": [
        {
          "output_type": "display_data",
          "data": {
            "image/png": "[encoded data removed]",
            "text/plain": [
              "<Figure size 720x720 with 1 Axes>"
            ]
          },
          "metadata": {
            "tags": []
          }
        }
      ]
    },
    {
      "cell_type": "code",
      "metadata": {
        "id": "HqS6KvCMDm4_",
        "colab_type": "code",
        "outputId": "c1c1bfe1-a5a6-4135-9c14-a6fa7285cd50",
        "colab": {
          "base_uri": "https://localhost:8080/",
          "height": 1000
        }
      },
      "source": [
        "interp.most_confused(min_val = 2)"
      ],
      "execution_count": 23,
      "outputs": [
        {
          "output_type": "execute_result",
          "data": {
            "text/plain": [
              "[('Bengal', 'Abyssinian', 9),\n",
              " ('British_Shorthair', 'great_pyrenees', 7),\n",
              " ('american_bulldog', 'Sphynx', 7),\n",
              " ('basset_hound', 'saint_bernard', 7),\n",
              " ('leonberger', 'newfoundland', 7),\n",
              " ('scottish_terrier', 'Bombay', 7),\n",
              " ('havanese', 'pug', 6),\n",
              " ('scottish_terrier', 'newfoundland', 6),\n",
              " ('British_Shorthair', 'Russian_Blue', 5),\n",
              " ('British_Shorthair', 'Siamese', 5),\n",
              " ('Egyptian_Mau', 'Russian_Blue', 5),\n",
              " ('Persian', 'Bengal', 5),\n",
              " ('Ragdoll', 'pomeranian', 5),\n",
              " ('Russian_Blue', 'Bombay', 5),\n",
              " ('Russian_Blue', 'great_pyrenees', 5),\n",
              " ('Russian_Blue', 'keeshond', 5),\n",
              " ('american_bulldog', 'samoyed', 5),\n",
              " ('basset_hound', 'chihuahua', 5),\n",
              " ('boxer', 'Bengal', 5),\n",
              " ('english_cocker_spaniel', 'beagle', 5),\n",
              " ('english_cocker_spaniel', 'leonberger', 5),\n",
              " ('english_setter', 'german_shorthaired', 5),\n",
              " ('great_pyrenees', 'havanese', 5),\n",
              " ('japanese_chin', 'pug', 5),\n",
              " ('keeshond', 'pug', 5),\n",
              " ('miniature_pinscher', 'german_shorthaired', 5),\n",
              " ('samoyed', 'great_pyrenees', 5),\n",
              " ('shiba_inu', 'Abyssinian', 5),\n",
              " ('shiba_inu', 'miniature_pinscher', 5),\n",
              " ('staffordshire_bull_terrier', 'Bombay', 5),\n",
              " ('Abyssinian', 'chihuahua', 4),\n",
              " ('Abyssinian', 'yorkshire_terrier', 4),\n",
              " ('British_Shorthair', 'pug', 4),\n",
              " ('Maine_Coon', 'Abyssinian', 4),\n",
              " ('Ragdoll', 'Birman', 4),\n",
              " ('Ragdoll', 'samoyed', 4),\n",
              " ('Siamese', 'Bengal', 4),\n",
              " ('Sphynx', 'Bombay', 4),\n",
              " ('american_bulldog', 'american_pit_bull_terrier', 4),\n",
              " ('american_pit_bull_terrier', 'chihuahua', 4),\n",
              " ('basset_hound', 'beagle', 4),\n",
              " ('chihuahua', 'Siamese', 4),\n",
              " ('english_setter', 'english_cocker_spaniel', 4),\n",
              " ('japanese_chin', 'leonberger', 4),\n",
              " ('japanese_chin', 'saint_bernard', 4),\n",
              " ('keeshond', 'Birman', 4),\n",
              " ('leonberger', 'havanese', 4),\n",
              " ('leonberger', 'staffordshire_bull_terrier', 4),\n",
              " ('miniature_pinscher', 'Abyssinian', 4),\n",
              " ('pomeranian', 'Persian', 4),\n",
              " ('pug', 'great_pyrenees', 4),\n",
              " ('saint_bernard', 'pug', 4),\n",
              " ('samoyed', 'Russian_Blue', 4),\n",
              " ('Abyssinian', 'Bengal', 3),\n",
              " ('Abyssinian', 'samoyed', 3),\n",
              " ('Bengal', 'german_shorthaired', 3),\n",
              " ('Birman', 'Bombay', 3),\n",
              " ('Birman', 'Ragdoll', 3),\n",
              " ('Birman', 'pug', 3),\n",
              " ('Bombay', 'Egyptian_Mau', 3),\n",
              " ('British_Shorthair', 'Bombay', 3),\n",
              " ('British_Shorthair', 'german_shorthaired', 3),\n",
              " ('British_Shorthair', 'samoyed', 3),\n",
              " ('Egyptian_Mau', 'Abyssinian', 3),\n",
              " ('Egyptian_Mau', 'Bombay', 3),\n",
              " ('Egyptian_Mau', 'Maine_Coon', 3),\n",
              " ('Maine_Coon', 'Bengal', 3),\n",
              " ('Maine_Coon', 'great_pyrenees', 3),\n",
              " ('Persian', 'samoyed', 3),\n",
              " ('Ragdoll', 'Bombay', 3),\n",
              " ('Russian_Blue', 'newfoundland', 3),\n",
              " ('Russian_Blue', 'samoyed', 3),\n",
              " ('Siamese', 'Sphynx', 3),\n",
              " ('Sphynx', 'Persian', 3),\n",
              " ('american_bulldog', 'chihuahua', 3),\n",
              " ('american_bulldog', 'keeshond', 3),\n",
              " ('american_bulldog', 'pug', 3),\n",
              " ('american_pit_bull_terrier', 'german_shorthaired', 3),\n",
              " ('basset_hound', 'Abyssinian', 3),\n",
              " ('basset_hound', 'american_bulldog', 3),\n",
              " ('basset_hound', 'leonberger', 3),\n",
              " ('basset_hound', 'yorkshire_terrier', 3),\n",
              " ('beagle', 'basset_hound', 3),\n",
              " ('beagle', 'chihuahua', 3),\n",
              " ('beagle', 'german_shorthaired', 3),\n",
              " ('beagle', 'great_pyrenees', 3),\n",
              " ('boxer', 'Abyssinian', 3),\n",
              " ('boxer', 'beagle', 3),\n",
              " ('boxer', 'great_pyrenees', 3),\n",
              " ('boxer', 'japanese_chin', 3),\n",
              " ('chihuahua', 'Sphynx', 3),\n",
              " ('chihuahua', 'samoyed', 3),\n",
              " ('english_cocker_spaniel', 'Sphynx', 3),\n",
              " ('english_cocker_spaniel', 'american_pit_bull_terrier', 3),\n",
              " ('english_cocker_spaniel', 'pomeranian', 3),\n",
              " ('german_shorthaired', 'beagle', 3),\n",
              " ('german_shorthaired', 'leonberger', 3),\n",
              " ('german_shorthaired', 'newfoundland', 3),\n",
              " ('german_shorthaired', 'saint_bernard', 3),\n",
              " ('german_shorthaired', 'staffordshire_bull_terrier', 3),\n",
              " ('great_pyrenees', 'Russian_Blue', 3),\n",
              " ('great_pyrenees', 'samoyed', 3),\n",
              " ('havanese', 'Ragdoll', 3),\n",
              " ('japanese_chin', 'Bombay', 3),\n",
              " ('keeshond', 'Ragdoll', 3),\n",
              " ('keeshond', 'leonberger', 3),\n",
              " ('keeshond', 'staffordshire_bull_terrier', 3),\n",
              " ('leonberger', 'Bengal', 3),\n",
              " ('newfoundland', 'Egyptian_Mau', 3),\n",
              " ('newfoundland', 'great_pyrenees', 3),\n",
              " ('newfoundland', 'saint_bernard', 3),\n",
              " ('pomeranian', 'great_pyrenees', 3),\n",
              " ('pomeranian', 'shiba_inu', 3),\n",
              " ('pug', 'Egyptian_Mau', 3),\n",
              " ('pug', 'havanese', 3),\n",
              " ('saint_bernard', 'beagle', 3),\n",
              " ('saint_bernard', 'german_shorthaired', 3),\n",
              " ('saint_bernard', 'wheaten_terrier', 3),\n",
              " ('samoyed', 'german_shorthaired', 3),\n",
              " ('scottish_terrier', 'Abyssinian', 3),\n",
              " ('scottish_terrier', 'Egyptian_Mau', 3),\n",
              " ('scottish_terrier', 'german_shorthaired', 3),\n",
              " ('scottish_terrier', 'keeshond', 3),\n",
              " ('scottish_terrier', 'yorkshire_terrier', 3),\n",
              " ('shiba_inu', 'german_shorthaired', 3),\n",
              " ('shiba_inu', 'yorkshire_terrier', 3),\n",
              " ('staffordshire_bull_terrier', 'chihuahua', 3),\n",
              " ('staffordshire_bull_terrier', 'havanese', 3),\n",
              " ('wheaten_terrier', 'Abyssinian', 3),\n",
              " ('wheaten_terrier', 'german_shorthaired', 3),\n",
              " ('yorkshire_terrier', 'Sphynx', 3),\n",
              " ('yorkshire_terrier', 'pomeranian', 3),\n",
              " ('yorkshire_terrier', 'wheaten_terrier', 3),\n",
              " ('Abyssinian', 'Birman', 2),\n",
              " ('Abyssinian', 'Siamese', 2),\n",
              " ('Abyssinian', 'american_pit_bull_terrier', 2),\n",
              " ('Abyssinian', 'pomeranian', 2),\n",
              " ('Bengal', 'Bombay', 2),\n",
              " ('Bengal', 'Egyptian_Mau', 2),\n",
              " ('Bengal', 'Ragdoll', 2),\n",
              " ('Bengal', 'Sphynx', 2),\n",
              " ('Bengal', 'american_pit_bull_terrier', 2),\n",
              " ('Bengal', 'great_pyrenees', 2),\n",
              " ('Bengal', 'havanese', 2),\n",
              " ('Bengal', 'shiba_inu', 2),\n",
              " ('Birman', 'Persian', 2),\n",
              " ('Birman', 'Russian_Blue', 2),\n",
              " ('Birman', 'great_pyrenees', 2),\n",
              " ('Birman', 'havanese', 2),\n",
              " ('Birman', 'yorkshire_terrier', 2),\n",
              " ('Bombay', 'german_shorthaired', 2),\n",
              " ('Bombay', 'havanese', 2),\n",
              " ('British_Shorthair', 'Egyptian_Mau', 2),\n",
              " ('British_Shorthair', 'Ragdoll', 2),\n",
              " ('British_Shorthair', 'Sphynx', 2),\n",
              " ('British_Shorthair', 'chihuahua', 2),\n",
              " ('British_Shorthair', 'miniature_pinscher', 2),\n",
              " ('British_Shorthair', 'wheaten_terrier', 2),\n",
              " ('Egyptian_Mau', 'British_Shorthair', 2),\n",
              " ('Egyptian_Mau', 'Persian', 2),\n",
              " ('Egyptian_Mau', 'japanese_chin', 2),\n",
              " ('Egyptian_Mau', 'saint_bernard', 2),\n",
              " ('Maine_Coon', 'Bombay', 2),\n",
              " ('Maine_Coon', 'British_Shorthair', 2),\n",
              " ('Maine_Coon', 'german_shorthaired', 2),\n",
              " ('Maine_Coon', 'keeshond', 2),\n",
              " ('Maine_Coon', 'shiba_inu', 2),\n",
              " ('Maine_Coon', 'yorkshire_terrier', 2),\n",
              " ('Persian', 'Russian_Blue', 2),\n",
              " ('Persian', 'Siamese', 2),\n",
              " ('Persian', 'Sphynx', 2),\n",
              " ('Persian', 'american_pit_bull_terrier', 2),\n",
              " ('Persian', 'pomeranian', 2),\n",
              " ('Ragdoll', 'Maine_Coon', 2),\n",
              " ('Russian_Blue', 'British_Shorthair', 2),\n",
              " ('Russian_Blue', 'boxer', 2),\n",
              " ('Russian_Blue', 'scottish_terrier', 2),\n",
              " ('Russian_Blue', 'wheaten_terrier', 2),\n",
              " ('Siamese', 'Birman', 2),\n",
              " ('Siamese', 'British_Shorthair', 2),\n",
              " ('Siamese', 'Ragdoll', 2),\n",
              " ('Siamese', 'basset_hound', 2),\n",
              " ('Siamese', 'german_shorthaired', 2),\n",
              " ('Siamese', 'havanese', 2),\n",
              " ('Siamese', 'keeshond', 2),\n",
              " ('Sphynx', 'Abyssinian', 2),\n",
              " ('Sphynx', 'British_Shorthair', 2),\n",
              " ('Sphynx', 'Ragdoll', 2),\n",
              " ('Sphynx', 'chihuahua', 2),\n",
              " ('Sphynx', 'newfoundland', 2),\n",
              " ('Sphynx', 'yorkshire_terrier', 2),\n",
              " ('american_bulldog', 'Egyptian_Mau', 2),\n",
              " ('american_bulldog', 'english_setter', 2),\n",
              " ('american_bulldog', 'newfoundland', 2),\n",
              " ('american_bulldog', 'saint_bernard', 2),\n",
              " ('american_pit_bull_terrier', 'Persian', 2),\n",
              " ('american_pit_bull_terrier', 'Siamese', 2),\n",
              " ('american_pit_bull_terrier', 'great_pyrenees', 2),\n",
              " ('american_pit_bull_terrier', 'miniature_pinscher', 2),\n",
              " ('american_pit_bull_terrier', 'yorkshire_terrier', 2),\n",
              " ('basset_hound', 'Sphynx', 2),\n",
              " ('basset_hound', 'havanese', 2),\n",
              " ('basset_hound', 'newfoundland', 2),\n",
              " ('beagle', 'Abyssinian', 2),\n",
              " ('beagle', 'Ragdoll', 2),\n",
              " ('beagle', 'Russian_Blue', 2),\n",
              " ('beagle', 'Sphynx', 2),\n",
              " ('beagle', 'leonberger', 2),\n",
              " ('beagle', 'pug', 2),\n",
              " ('beagle', 'samoyed', 2),\n",
              " ('beagle', 'staffordshire_bull_terrier', 2),\n",
              " ('beagle', 'wheaten_terrier', 2),\n",
              " ('boxer', 'Egyptian_Mau', 2),\n",
              " ('boxer', 'american_bulldog', 2),\n",
              " ('boxer', 'american_pit_bull_terrier', 2),\n",
              " ('boxer', 'pomeranian', 2),\n",
              " ('boxer', 'saint_bernard', 2),\n",
              " ('boxer', 'scottish_terrier', 2),\n",
              " ('boxer', 'yorkshire_terrier', 2),\n",
              " ('chihuahua', 'Abyssinian', 2),\n",
              " ('chihuahua', 'Bengal', 2),\n",
              " ('chihuahua', 'Egyptian_Mau', 2),\n",
              " ('chihuahua', 'basset_hound', 2),\n",
              " ('chihuahua', 'german_shorthaired', 2),\n",
              " ('chihuahua', 'japanese_chin', 2),\n",
              " ('chihuahua', 'newfoundland', 2),\n",
              " ('chihuahua', 'saint_bernard', 2),\n",
              " ('chihuahua', 'shiba_inu', 2),\n",
              " ('chihuahua', 'staffordshire_bull_terrier', 2),\n",
              " ('english_cocker_spaniel', 'Abyssinian', 2),\n",
              " ('english_cocker_spaniel', 'Maine_Coon', 2),\n",
              " ('english_cocker_spaniel', 'Ragdoll', 2),\n",
              " ('english_cocker_spaniel', 'chihuahua', 2),\n",
              " ('english_cocker_spaniel', 'english_setter', 2),\n",
              " ('english_cocker_spaniel', 'great_pyrenees', 2),\n",
              " ('english_cocker_spaniel', 'pug', 2),\n",
              " ('english_cocker_spaniel', 'saint_bernard', 2),\n",
              " ('english_setter', 'Bombay', 2),\n",
              " ('english_setter', 'Ragdoll', 2),\n",
              " ('english_setter', 'beagle', 2),\n",
              " ('english_setter', 'chihuahua', 2),\n",
              " ('english_setter', 'great_pyrenees', 2),\n",
              " ('english_setter', 'havanese', 2),\n",
              " ('english_setter', 'pug', 2),\n",
              " ('english_setter', 'saint_bernard', 2),\n",
              " ('german_shorthaired', 'Russian_Blue', 2),\n",
              " ('german_shorthaired', 'great_pyrenees', 2),\n",
              " ('german_shorthaired', 'shiba_inu', 2),\n",
              " ('great_pyrenees', 'Abyssinian', 2),\n",
              " ('great_pyrenees', 'Sphynx', 2),\n",
              " ('great_pyrenees', 'english_setter', 2),\n",
              " ('great_pyrenees', 'keeshond', 2),\n",
              " ('great_pyrenees', 'pug', 2),\n",
              " ('havanese', 'english_setter', 2),\n",
              " ('havanese', 'japanese_chin', 2),\n",
              " ('havanese', 'newfoundland', 2),\n",
              " ('havanese', 'samoyed', 2),\n",
              " ('havanese', 'scottish_terrier', 2),\n",
              " ('japanese_chin', 'Birman', 2),\n",
              " ('japanese_chin', 'Persian', 2),\n",
              " ('japanese_chin', 'english_setter', 2),\n",
              " ('japanese_chin', 'pomeranian', 2),\n",
              " ('japanese_chin', 'staffordshire_bull_terrier', 2),\n",
              " ('japanese_chin', 'yorkshire_terrier', 2),\n",
              " ('keeshond', 'american_pit_bull_terrier', 2),\n",
              " ('keeshond', 'chihuahua', 2),\n",
              " ('keeshond', 'miniature_pinscher', 2),\n",
              " ('leonberger', 'american_pit_bull_terrier', 2),\n",
              " ('leonberger', 'english_cocker_spaniel', 2),\n",
              " ('leonberger', 'german_shorthaired', 2),\n",
              " ('leonberger', 'pug', 2),\n",
              " ('miniature_pinscher', 'Bengal', 2),\n",
              " ('miniature_pinscher', 'Bombay', 2),\n",
              " ('miniature_pinscher', 'Maine_Coon', 2),\n",
              " ('miniature_pinscher', 'boxer', 2),\n",
              " ('miniature_pinscher', 'havanese', 2),\n",
              " ('miniature_pinscher', 'japanese_chin', 2),\n",
              " ('miniature_pinscher', 'saint_bernard', 2),\n",
              " ('miniature_pinscher', 'yorkshire_terrier', 2),\n",
              " ('newfoundland', 'Bombay', 2),\n",
              " ('newfoundland', 'Sphynx', 2),\n",
              " ('newfoundland', 'leonberger', 2),\n",
              " ('newfoundland', 'scottish_terrier', 2),\n",
              " ('newfoundland', 'shiba_inu', 2),\n",
              " ('newfoundland', 'staffordshire_bull_terrier', 2),\n",
              " ('pomeranian', 'Ragdoll', 2),\n",
              " ('pomeranian', 'Russian_Blue', 2),\n",
              " ('pomeranian', 'beagle', 2),\n",
              " ('pomeranian', 'samoyed', 2),\n",
              " ('pomeranian', 'yorkshire_terrier', 2),\n",
              " ('pug', 'Birman', 2),\n",
              " ('pug', 'chihuahua', 2),\n",
              " ('pug', 'german_shorthaired', 2),\n",
              " ('pug', 'keeshond', 2),\n",
              " ('pug', 'leonberger', 2),\n",
              " ('pug', 'yorkshire_terrier', 2),\n",
              " ('saint_bernard', 'Abyssinian', 2),\n",
              " ('saint_bernard', 'Bengal', 2),\n",
              " ('saint_bernard', 'Sphynx', 2),\n",
              " ('saint_bernard', 'basset_hound', 2),\n",
              " ('saint_bernard', 'english_setter', 2),\n",
              " ('saint_bernard', 'havanese', 2),\n",
              " ('saint_bernard', 'pomeranian', 2),\n",
              " ('saint_bernard', 'samoyed', 2),\n",
              " ('samoyed', 'Ragdoll', 2),\n",
              " ('samoyed', 'havanese', 2),\n",
              " ('scottish_terrier', 'Sphynx', 2),\n",
              " ('scottish_terrier', 'saint_bernard', 2),\n",
              " ('scottish_terrier', 'samoyed', 2),\n",
              " ('shiba_inu', 'Bengal', 2),\n",
              " ('shiba_inu', 'Bombay', 2),\n",
              " ('shiba_inu', 'Persian', 2),\n",
              " ('shiba_inu', 'american_pit_bull_terrier', 2),\n",
              " ('shiba_inu', 'basset_hound', 2),\n",
              " ('shiba_inu', 'beagle', 2),\n",
              " ('shiba_inu', 'pomeranian', 2),\n",
              " ('shiba_inu', 'saint_bernard', 2),\n",
              " ('shiba_inu', 'samoyed', 2),\n",
              " ('staffordshire_bull_terrier', 'Egyptian_Mau', 2),\n",
              " ('staffordshire_bull_terrier', 'american_bulldog', 2),\n",
              " ('staffordshire_bull_terrier', 'american_pit_bull_terrier', 2),\n",
              " ('staffordshire_bull_terrier', 'beagle', 2),\n",
              " ('staffordshire_bull_terrier', 'keeshond', 2),\n",
              " ('staffordshire_bull_terrier', 'yorkshire_terrier', 2),\n",
              " ('wheaten_terrier', 'Russian_Blue', 2),\n",
              " ('wheaten_terrier', 'boxer', 2),\n",
              " ('wheaten_terrier', 'leonberger', 2),\n",
              " ('yorkshire_terrier', 'Persian', 2),\n",
              " ('yorkshire_terrier', 'Ragdoll', 2),\n",
              " ('yorkshire_terrier', 'american_bulldog', 2),\n",
              " ('yorkshire_terrier', 'beagle', 2),\n",
              " ('yorkshire_terrier', 'english_cocker_spaniel', 2),\n",
              " ('yorkshire_terrier', 'miniature_pinscher', 2),\n",
              " ('yorkshire_terrier', 'pug', 2)]"
            ]
          },
          "metadata": {
            "tags": []
          },
          "execution_count": 23
        }
      ]
    },
    {
      "cell_type": "code",
      "metadata": {
        "id": "AReHPVNYGK51",
        "colab_type": "code",
        "outputId": "156c0925-1e3c-4d95-9dce-28ef0ec0ecb2",
        "colab": {
          "base_uri": "https://localhost:8080/",
          "height": 80
        }
      },
      "source": [
        "learn.unfreeze()\n",
        "learn.fit_one_cycle(1)"
      ],
      "execution_count": 24,
      "outputs": [
        {
          "output_type": "display_data",
          "data": {
            "text/html": [
              "<table border=\"1\" class=\"dataframe\">\n",
              "  <thead>\n",
              "    <tr style=\"text-align: left;\">\n",
              "      <th>epoch</th>\n",
              "      <th>train_loss</th>\n",
              "      <th>valid_loss</th>\n",
              "      <th>error_rate</th>\n",
              "      <th>time</th>\n",
              "    </tr>\n",
              "  </thead>\n",
              "  <tbody>\n",
              "    <tr>\n",
              "      <td>0</td>\n",
              "      <td>3.524579</td>\n",
              "      <td>3.229343</td>\n",
              "      <td>0.857239</td>\n",
              "      <td>00:46</td>\n",
              "    </tr>\n",
              "  </tbody>\n",
              "</table>"
            ],
            "text/plain": [
              "<IPython.core.display.HTML object>"
            ]
          },
          "metadata": {
            "tags": []
          }
        }
      ]
    },
    {
      "cell_type": "code",
      "metadata": {
        "id": "MRTBI7CcGRU9",
        "colab_type": "code",
        "colab": {}
      },
      "source": [
        "learn.load('stage-1');"
      ],
      "execution_count": 0,
      "outputs": []
    },
    {
      "cell_type": "code",
      "metadata": {
        "id": "p-ZaX76YGVzr",
        "colab_type": "code",
        "outputId": "e78243ad-b6c4-4743-d000-54dd69be7a38",
        "colab": {
          "base_uri": "https://localhost:8080/",
          "height": 112
        }
      },
      "source": [
        "learn.lr_find()"
      ],
      "execution_count": 26,
      "outputs": [
        {
          "output_type": "display_data",
          "data": {
            "text/html": [
              "\n",
              "    <div>\n",
              "        <style>\n",
              "            /* Turns off some styling */\n",
              "            progress {\n",
              "                /* gets rid of default border in Firefox and Opera. */\n",
              "                border: none;\n",
              "                /* Needs to be in here for Safari polyfill so background images work as expected. */\n",
              "                background-size: auto;\n",
              "            }\n",
              "            .progress-bar-interrupted, .progress-bar-interrupted::-webkit-progress-bar {\n",
              "                background: #F44336;\n",
              "            }\n",
              "        </style>\n",
              "      <progress value='0' class='' max='2', style='width:300px; height:20px; vertical-align: middle;'></progress>\n",
              "      0.00% [0/2 00:00<00:00]\n",
              "    </div>\n",
              "    \n",
              "<table border=\"1\" class=\"dataframe\">\n",
              "  <thead>\n",
              "    <tr style=\"text-align: left;\">\n",
              "      <th>epoch</th>\n",
              "      <th>train_loss</th>\n",
              "      <th>valid_loss</th>\n",
              "      <th>error_rate</th>\n",
              "      <th>time</th>\n",
              "    </tr>\n",
              "  </thead>\n",
              "  <tbody>\n",
              "  </tbody>\n",
              "</table><p>\n",
              "\n",
              "    <div>\n",
              "        <style>\n",
              "            /* Turns off some styling */\n",
              "            progress {\n",
              "                /* gets rid of default border in Firefox and Opera. */\n",
              "                border: none;\n",
              "                /* Needs to be in here for Safari polyfill so background images work as expected. */\n",
              "                background-size: auto;\n",
              "            }\n",
              "            .progress-bar-interrupted, .progress-bar-interrupted::-webkit-progress-bar {\n",
              "                background: #F44336;\n",
              "            }\n",
              "        </style>\n",
              "      <progress value='91' class='' max='92', style='width:300px; height:20px; vertical-align: middle;'></progress>\n",
              "      98.91% [91/92 00:36<00:00 12.2195]\n",
              "    </div>\n",
              "    "
            ],
            "text/plain": [
              "<IPython.core.display.HTML object>"
            ]
          },
          "metadata": {
            "tags": []
          }
        },
        {
          "output_type": "stream",
          "text": [
            "LR Finder is complete, type {learner_name}.recorder.plot() to see the graph.\n"
          ],
          "name": "stdout"
        }
      ]
    },
    {
      "cell_type": "code",
      "metadata": {
        "id": "pSoK8dk8GW6_",
        "colab_type": "code",
        "outputId": "c88b5739-41c2-4da4-c20f-57873b367351",
        "colab": {
          "base_uri": "https://localhost:8080/",
          "height": 279
        }
      },
      "source": [
        "# To plot the graph of LR finder\n",
        "learn.recorder.plot()"
      ],
      "execution_count": 27,
      "outputs": [
        {
          "output_type": "display_data",
          "data": {
            "image/png": "[encoded data removed]",
            "text/plain": [
              "<Figure size 432x288 with 1 Axes>"
            ]
          },
          "metadata": {
            "tags": []
          }
        }
      ]
    },
    {
      "cell_type": "code",
      "metadata": {
        "id": "83-A9a7UGYuY",
        "colab_type": "code",
        "outputId": "47efa336-dee4-4f23-cecd-644cd5c8a5f2",
        "colab": {
          "base_uri": "https://localhost:8080/",
          "height": 111
        }
      },
      "source": [
        "learn.unfreeze()\n",
        "learn.fit_one_cycle(2, max_lr = slice(1e-6, 1e-4))\n",
        "# around 80% error rate"
      ],
      "execution_count": 28,
      "outputs": [
        {
          "output_type": "display_data",
          "data": {
            "text/html": [
              "<table border=\"1\" class=\"dataframe\">\n",
              "  <thead>\n",
              "    <tr style=\"text-align: left;\">\n",
              "      <th>epoch</th>\n",
              "      <th>train_loss</th>\n",
              "      <th>valid_loss</th>\n",
              "      <th>error_rate</th>\n",
              "      <th>time</th>\n",
              "    </tr>\n",
              "  </thead>\n",
              "  <tbody>\n",
              "    <tr>\n",
              "      <td>0</td>\n",
              "      <td>3.536777</td>\n",
              "      <td>3.414183</td>\n",
              "      <td>0.880920</td>\n",
              "      <td>00:44</td>\n",
              "    </tr>\n",
              "    <tr>\n",
              "      <td>1</td>\n",
              "      <td>3.500469</td>\n",
              "      <td>3.374939</td>\n",
              "      <td>0.869418</td>\n",
              "      <td>00:44</td>\n",
              "    </tr>\n",
              "  </tbody>\n",
              "</table>"
            ],
            "text/plain": [
              "<IPython.core.display.HTML object>"
            ]
          },
          "metadata": {
            "tags": []
          }
        }
      ]
    },
    {
      "cell_type": "code",
      "metadata": {
        "id": "FMsfxTyaGqxg",
        "colab_type": "code",
        "colab": {}
      },
      "source": [
        "# Earlier we used CNN : resnet 34,  now we will be using a better version that is resnet 50\n",
        "\n",
        "data = ImageDataBunch.from_name_re(path_img, fnames, pat, ds_tfms=get_transforms(),\n",
        "                                   size=299, bs=bs//2).normalize(imagenet_stats)"
      ],
      "execution_count": 0,
      "outputs": []
    },
    {
      "cell_type": "code",
      "metadata": {
        "id": "78gFDx2nHHf8",
        "colab_type": "code",
        "outputId": "957ae7c3-7b21-4b8c-a3ed-8817592a56e4",
        "colab": {
          "base_uri": "https://localhost:8080/",
          "height": 51
        }
      },
      "source": [
        "learn = cnn_learner(data, models.resnet50, metrics = error_rate)"
      ],
      "execution_count": 30,
      "outputs": [
        {
          "output_type": "stream",
          "text": [
            "Downloading: \"https://download.pytorch.org/models/resnet50-19c8e357.pth\" to /root/.cache/torch/checkpoints/resnet50-19c8e357.pth\n",
            "100%|██████████| 97.8M/97.8M [00:03<00:00, 28.6MB/s]\n"
          ],
          "name": "stderr"
        }
      ]
    },
    {
      "cell_type": "code",
      "metadata": {
        "id": "0vlgRZruHLqd",
        "colab_type": "code",
        "outputId": "80ba2895-538a-4253-b4e1-674370f5fc07",
        "colab": {
          "base_uri": "https://localhost:8080/",
          "height": 374
        }
      },
      "source": [
        "learn.lr_find()\n",
        "learn.recorder.plot()"
      ],
      "execution_count": 31,
      "outputs": [
        {
          "output_type": "display_data",
          "data": {
            "text/html": [
              "\n",
              "    <div>\n",
              "        <style>\n",
              "            /* Turns off some styling */\n",
              "            progress {\n",
              "                /* gets rid of default border in Firefox and Opera. */\n",
              "                border: none;\n",
              "                /* Needs to be in here for Safari polyfill so background images work as expected. */\n",
              "                background-size: auto;\n",
              "            }\n",
              "            .progress-bar-interrupted, .progress-bar-interrupted::-webkit-progress-bar {\n",
              "                background: #F44336;\n",
              "            }\n",
              "        </style>\n",
              "      <progress value='0' class='' max='1', style='width:300px; height:20px; vertical-align: middle;'></progress>\n",
              "      0.00% [0/1 00:00<00:00]\n",
              "    </div>\n",
              "    \n",
              "<table border=\"1\" class=\"dataframe\">\n",
              "  <thead>\n",
              "    <tr style=\"text-align: left;\">\n",
              "      <th>epoch</th>\n",
              "      <th>train_loss</th>\n",
              "      <th>valid_loss</th>\n",
              "      <th>error_rate</th>\n",
              "      <th>time</th>\n",
              "    </tr>\n",
              "  </thead>\n",
              "  <tbody>\n",
              "  </tbody>\n",
              "</table><p>\n",
              "\n",
              "    <div>\n",
              "        <style>\n",
              "            /* Turns off some styling */\n",
              "            progress {\n",
              "                /* gets rid of default border in Firefox and Opera. */\n",
              "                border: none;\n",
              "                /* Needs to be in here for Safari polyfill so background images work as expected. */\n",
              "                background-size: auto;\n",
              "            }\n",
              "            .progress-bar-interrupted, .progress-bar-interrupted::-webkit-progress-bar {\n",
              "                background: #F44336;\n",
              "            }\n",
              "        </style>\n",
              "      <progress value='88' class='' max='184', style='width:300px; height:20px; vertical-align: middle;'></progress>\n",
              "      47.83% [88/184 00:56<01:01 9.2597]\n",
              "    </div>\n",
              "    "
            ],
            "text/plain": [
              "<IPython.core.display.HTML object>"
            ]
          },
          "metadata": {
            "tags": []
          }
        },
        {
          "output_type": "stream",
          "text": [
            "LR Finder is complete, type {learner_name}.recorder.plot() to see the graph.\n"
          ],
          "name": "stdout"
        },
        {
          "output_type": "display_data",
          "data": {
            "image/png": "[encoded data removed]",
            "text/plain": [
              "<Figure size 432x288 with 1 Axes>"
            ]
          },
          "metadata": {
            "tags": []
          }
        }
      ]
    },
    {
      "cell_type": "code",
      "metadata": {
        "id": "BToTd04BHdZ9",
        "colab_type": "code",
        "outputId": "b3047bea-e4f2-4007-e422-599c375e7c99",
        "colab": {
          "base_uri": "https://localhost:8080/",
          "height": 297
        }
      },
      "source": [
        "learn.fit_one_cycle(8)"
      ],
      "execution_count": 32,
      "outputs": [
        {
          "output_type": "display_data",
          "data": {
            "text/html": [
              "<table border=\"1\" class=\"dataframe\">\n",
              "  <thead>\n",
              "    <tr style=\"text-align: left;\">\n",
              "      <th>epoch</th>\n",
              "      <th>train_loss</th>\n",
              "      <th>valid_loss</th>\n",
              "      <th>error_rate</th>\n",
              "      <th>time</th>\n",
              "    </tr>\n",
              "  </thead>\n",
              "  <tbody>\n",
              "    <tr>\n",
              "      <td>0</td>\n",
              "      <td>0.716762</td>\n",
              "      <td>0.256962</td>\n",
              "      <td>0.087957</td>\n",
              "      <td>02:10</td>\n",
              "    </tr>\n",
              "    <tr>\n",
              "      <td>1</td>\n",
              "      <td>0.514046</td>\n",
              "      <td>0.214220</td>\n",
              "      <td>0.073072</td>\n",
              "      <td>02:09</td>\n",
              "    </tr>\n",
              "    <tr>\n",
              "      <td>2</td>\n",
              "      <td>0.402989</td>\n",
              "      <td>0.241501</td>\n",
              "      <td>0.075101</td>\n",
              "      <td>02:09</td>\n",
              "    </tr>\n",
              "    <tr>\n",
              "      <td>3</td>\n",
              "      <td>0.337796</td>\n",
              "      <td>0.208398</td>\n",
              "      <td>0.062923</td>\n",
              "      <td>02:10</td>\n",
              "    </tr>\n",
              "    <tr>\n",
              "      <td>4</td>\n",
              "      <td>0.259918</td>\n",
              "      <td>0.173286</td>\n",
              "      <td>0.057510</td>\n",
              "      <td>02:09</td>\n",
              "    </tr>\n",
              "    <tr>\n",
              "      <td>5</td>\n",
              "      <td>0.187384</td>\n",
              "      <td>0.137780</td>\n",
              "      <td>0.046008</td>\n",
              "      <td>02:10</td>\n",
              "    </tr>\n",
              "    <tr>\n",
              "      <td>6</td>\n",
              "      <td>0.138941</td>\n",
              "      <td>0.126132</td>\n",
              "      <td>0.043302</td>\n",
              "      <td>02:09</td>\n",
              "    </tr>\n",
              "    <tr>\n",
              "      <td>7</td>\n",
              "      <td>0.102210</td>\n",
              "      <td>0.124728</td>\n",
              "      <td>0.044655</td>\n",
              "      <td>02:08</td>\n",
              "    </tr>\n",
              "  </tbody>\n",
              "</table>"
            ],
            "text/plain": [
              "<IPython.core.display.HTML object>"
            ]
          },
          "metadata": {
            "tags": []
          }
        }
      ]
    },
    {
      "cell_type": "code",
      "metadata": {
        "id": "rGsRnwXeHhaT",
        "colab_type": "code",
        "colab": {}
      },
      "source": [
        "learn.save('stage-1-50')"
      ],
      "execution_count": 0,
      "outputs": []
    },
    {
      "cell_type": "code",
      "metadata": {
        "id": "ohPuyFxlHk9H",
        "colab_type": "code",
        "colab": {
          "base_uri": "https://localhost:8080/",
          "height": 142
        },
        "outputId": "286ca9e4-813e-4cd9-eee3-36114cf1d930"
      },
      "source": [
        "learn.unfreeze()\n",
        "learn.fit_one_cycle(3, max_lr= slice(1e-6, 1e-4))\n",
        "# Now the came comes out to be order of ~95%"
      ],
      "execution_count": 37,
      "outputs": [
        {
          "output_type": "display_data",
          "data": {
            "text/html": [
              "<table border=\"1\" class=\"dataframe\">\n",
              "  <thead>\n",
              "    <tr style=\"text-align: left;\">\n",
              "      <th>epoch</th>\n",
              "      <th>train_loss</th>\n",
              "      <th>valid_loss</th>\n",
              "      <th>error_rate</th>\n",
              "      <th>time</th>\n",
              "    </tr>\n",
              "  </thead>\n",
              "  <tbody>\n",
              "    <tr>\n",
              "      <td>0</td>\n",
              "      <td>0.116018</td>\n",
              "      <td>0.138824</td>\n",
              "      <td>0.043978</td>\n",
              "      <td>02:29</td>\n",
              "    </tr>\n",
              "    <tr>\n",
              "      <td>1</td>\n",
              "      <td>0.109661</td>\n",
              "      <td>0.126471</td>\n",
              "      <td>0.045332</td>\n",
              "      <td>02:26</td>\n",
              "    </tr>\n",
              "    <tr>\n",
              "      <td>2</td>\n",
              "      <td>0.083924</td>\n",
              "      <td>0.127081</td>\n",
              "      <td>0.041272</td>\n",
              "      <td>02:24</td>\n",
              "    </tr>\n",
              "  </tbody>\n",
              "</table>"
            ],
            "text/plain": [
              "<IPython.core.display.HTML object>"
            ]
          },
          "metadata": {
            "tags": []
          }
        }
      ]
    },
    {
      "cell_type": "code",
      "metadata": {
        "id": "kvUbldA1HxLr",
        "colab_type": "code",
        "colab": {}
      },
      "source": [
        "learn.load('stage-1-50');"
      ],
      "execution_count": 0,
      "outputs": []
    },
    {
      "cell_type": "code",
      "metadata": {
        "id": "01CYCN_wH0F3",
        "colab_type": "code",
        "colab": {
          "base_uri": "https://localhost:8080/",
          "height": 17
        },
        "outputId": "f5039d01-e155-4370-d33d-d15ef29d3f69"
      },
      "source": [
        "interp = ClassificationInterpretation.from_learner(learn)"
      ],
      "execution_count": 38,
      "outputs": [
        {
          "output_type": "display_data",
          "data": {
            "text/html": [
              ""
            ],
            "text/plain": [
              "<IPython.core.display.HTML object>"
            ]
          },
          "metadata": {
            "tags": []
          }
        }
      ]
    },
    {
      "cell_type": "code",
      "metadata": {
        "id": "rZhfza1oH4wB",
        "colab_type": "code",
        "colab": {
          "base_uri": "https://localhost:8080/",
          "height": 153
        },
        "outputId": "598668f9-54c6-4107-81e5-fc721a60736d"
      },
      "source": [
        "interp.most_confused(min_val = 2)"
      ],
      "execution_count": 40,
      "outputs": [
        {
          "output_type": "execute_result",
          "data": {
            "text/plain": [
              "[('Birman', 'Ragdoll', 6),\n",
              " ('american_pit_bull_terrier', 'staffordshire_bull_terrier', 4),\n",
              " ('Bengal', 'Egyptian_Mau', 3),\n",
              " ('Egyptian_Mau', 'Bengal', 3),\n",
              " ('staffordshire_bull_terrier', 'american_pit_bull_terrier', 3),\n",
              " ('Siamese', 'Birman', 2),\n",
              " ('american_pit_bull_terrier', 'american_bulldog', 2),\n",
              " ('miniature_pinscher', 'chihuahua', 2)]"
            ]
          },
          "metadata": {
            "tags": []
          },
          "execution_count": 40
        }
      ]
    },
    {
      "cell_type": "code",
      "metadata": {
        "id": "FpO-YQI_H723",
        "colab_type": "code",
        "colab": {
          "base_uri": "https://localhost:8080/",
          "height": 51
        },
        "outputId": "7f24992e-5a18-45a4-f4a9-019da79e303e"
      },
      "source": [
        "# Now using other data formats\n",
        "\n",
        "path = untar_data(URLs.MNIST_SAMPLE); path"
      ],
      "execution_count": 41,
      "outputs": [
        {
          "output_type": "stream",
          "text": [
            "Downloading http://files.fast.ai/data/examples/mnist_sample\n"
          ],
          "name": "stdout"
        },
        {
          "output_type": "display_data",
          "data": {
            "text/html": [
              ""
            ],
            "text/plain": [
              "<IPython.core.display.HTML object>"
            ]
          },
          "metadata": {
            "tags": []
          }
        },
        {
          "output_type": "execute_result",
          "data": {
            "text/plain": [
              "PosixPath('/root/.fastai/data/mnist_sample')"
            ]
          },
          "metadata": {
            "tags": []
          },
          "execution_count": 41
        }
      ]
    },
    {
      "cell_type": "code",
      "metadata": {
        "id": "Rkj36yjZIEXM",
        "colab_type": "code",
        "colab": {}
      },
      "source": [
        "tfms = get_transforms(do_flip = False)\n",
        "data = ImageDataBunch.from_folder(path, ds_tfms = tfms, size = 26)"
      ],
      "execution_count": 0,
      "outputs": []
    },
    {
      "cell_type": "code",
      "metadata": {
        "id": "kS2Y4s0dIOk9",
        "colab_type": "code",
        "colab": {
          "base_uri": "https://localhost:8080/",
          "height": 369
        },
        "outputId": "16f33819-8b1d-4906-c028-e5a7d6391c59"
      },
      "source": [
        "data.show_batch(rows =3, figsize= (5,5))"
      ],
      "execution_count": 46,
      "outputs": [
        {
          "output_type": "display_data",
          "data": {
            "image/png": "[encoded data removed]",
            "text/plain": [
              "<Figure size 360x360 with 9 Axes>"
            ]
          },
          "metadata": {
            "tags": []
          }
        }
      ]
    },
    {
      "cell_type": "code",
      "metadata": {
        "id": "O3gY8xw-ITGV",
        "colab_type": "code",
        "colab": {
          "base_uri": "https://localhost:8080/",
          "height": 111
        },
        "outputId": "aba45aa8-7b1c-49ed-8985-2d32eda445a5"
      },
      "source": [
        "learn = cnn_learner(data, models.resnet18, metrics = accuracy)\n",
        "learn.fit(2)"
      ],
      "execution_count": 47,
      "outputs": [
        {
          "output_type": "display_data",
          "data": {
            "text/html": [
              "<table border=\"1\" class=\"dataframe\">\n",
              "  <thead>\n",
              "    <tr style=\"text-align: left;\">\n",
              "      <th>epoch</th>\n",
              "      <th>train_loss</th>\n",
              "      <th>valid_loss</th>\n",
              "      <th>accuracy</th>\n",
              "      <th>time</th>\n",
              "    </tr>\n",
              "  </thead>\n",
              "  <tbody>\n",
              "    <tr>\n",
              "      <td>0</td>\n",
              "      <td>0.198074</td>\n",
              "      <td>0.102524</td>\n",
              "      <td>0.961236</td>\n",
              "      <td>00:18</td>\n",
              "    </tr>\n",
              "    <tr>\n",
              "      <td>1</td>\n",
              "      <td>0.125425</td>\n",
              "      <td>0.066797</td>\n",
              "      <td>0.975466</td>\n",
              "      <td>00:18</td>\n",
              "    </tr>\n",
              "  </tbody>\n",
              "</table>"
            ],
            "text/plain": [
              "<IPython.core.display.HTML object>"
            ]
          },
          "metadata": {
            "tags": []
          }
        }
      ]
    },
    {
      "cell_type": "code",
      "metadata": {
        "id": "6uJxYBNlIZMd",
        "colab_type": "code",
        "colab": {
          "base_uri": "https://localhost:8080/",
          "height": 204
        },
        "outputId": "7557cc38-c61f-4235-b882-18316411a2c1"
      },
      "source": [
        "df = pd.read_csv(path/'labels.csv')\n",
        "df.head()"
      ],
      "execution_count": 48,
      "outputs": [
        {
          "output_type": "execute_result",
          "data": {
            "text/html": [
              "<div>\n",
              "<style scoped>\n",
              "    .dataframe tbody tr th:only-of-type {\n",
              "        vertical-align: middle;\n",
              "    }\n",
              "\n",
              "    .dataframe tbody tr th {\n",
              "        vertical-align: top;\n",
              "    }\n",
              "\n",
              "    .dataframe thead th {\n",
              "        text-align: right;\n",
              "    }\n",
              "</style>\n",
              "<table border=\"1\" class=\"dataframe\">\n",
              "  <thead>\n",
              "    <tr style=\"text-align: right;\">\n",
              "      <th></th>\n",
              "      <th>name</th>\n",
              "      <th>label</th>\n",
              "    </tr>\n",
              "  </thead>\n",
              "  <tbody>\n",
              "    <tr>\n",
              "      <th>0</th>\n",
              "      <td>train/3/7463.png</td>\n",
              "      <td>0</td>\n",
              "    </tr>\n",
              "    <tr>\n",
              "      <th>1</th>\n",
              "      <td>train/3/21102.png</td>\n",
              "      <td>0</td>\n",
              "    </tr>\n",
              "    <tr>\n",
              "      <th>2</th>\n",
              "      <td>train/3/31559.png</td>\n",
              "      <td>0</td>\n",
              "    </tr>\n",
              "    <tr>\n",
              "      <th>3</th>\n",
              "      <td>train/3/46882.png</td>\n",
              "      <td>0</td>\n",
              "    </tr>\n",
              "    <tr>\n",
              "      <th>4</th>\n",
              "      <td>train/3/26209.png</td>\n",
              "      <td>0</td>\n",
              "    </tr>\n",
              "  </tbody>\n",
              "</table>\n",
              "</div>"
            ],
            "text/plain": [
              "                name  label\n",
              "0   train/3/7463.png      0\n",
              "1  train/3/21102.png      0\n",
              "2  train/3/31559.png      0\n",
              "3  train/3/46882.png      0\n",
              "4  train/3/26209.png      0"
            ]
          },
          "metadata": {
            "tags": []
          },
          "execution_count": 48
        }
      ]
    },
    {
      "cell_type": "code",
      "metadata": {
        "id": "UwBT7P89IeUG",
        "colab_type": "code",
        "colab": {}
      },
      "source": [
        "data = ImageDataBunch.from_csv(path, ds_tfms = tfms, size =28)"
      ],
      "execution_count": 0,
      "outputs": []
    },
    {
      "cell_type": "code",
      "metadata": {
        "id": "ylh_94emImrN",
        "colab_type": "code",
        "colab": {
          "base_uri": "https://localhost:8080/",
          "height": 386
        },
        "outputId": "6edeeda6-32f3-4834-85b7-f1abfd7c425c"
      },
      "source": [
        "data.show_batch(rows=3, figsize=(5,5))\n",
        "data.classes"
      ],
      "execution_count": 50,
      "outputs": [
        {
          "output_type": "execute_result",
          "data": {
            "text/plain": [
              "[0, 1]"
            ]
          },
          "metadata": {
            "tags": []
          },
          "execution_count": 50
        },
        {
          "output_type": "display_data",
          "data": {
            "image/png": "[encoded data removed]",
            "text/plain": [
              "<Figure size 360x360 with 9 Axes>"
            ]
          },
          "metadata": {
            "tags": []
          }
        }
      ]
    },
    {
      "cell_type": "code",
      "metadata": {
        "id": "4ZxtNBYwPvs_",
        "colab_type": "code",
        "colab": {
          "base_uri": "https://localhost:8080/",
          "height": 34
        },
        "outputId": "28b943ee-0a33-46a5-f64f-43cc579955fa"
      },
      "source": [
        "data = ImageDataBunch.from_df(path, df, ds_tfms=tfms, size=24)\n",
        "data.classes"
      ],
      "execution_count": 51,
      "outputs": [
        {
          "output_type": "execute_result",
          "data": {
            "text/plain": [
              "[0, 1]"
            ]
          },
          "metadata": {
            "tags": []
          },
          "execution_count": 51
        }
      ]
    },
    {
      "cell_type": "code",
      "metadata": {
        "id": "TES-L_rxP-XJ",
        "colab_type": "code",
        "colab": {
          "base_uri": "https://localhost:8080/",
          "height": 51
        },
        "outputId": "6e71fcb6-0a2c-4aee-d37a-f14c103851e5"
      },
      "source": [
        "fn_paths = [path/name for name in df['name']]; fn_paths[:2]\n"
      ],
      "execution_count": 53,
      "outputs": [
        {
          "output_type": "execute_result",
          "data": {
            "text/plain": [
              "[PosixPath('/root/.fastai/data/mnist_sample/train/3/7463.png'),\n",
              " PosixPath('/root/.fastai/data/mnist_sample/train/3/21102.png')]"
            ]
          },
          "metadata": {
            "tags": []
          },
          "execution_count": 53
        }
      ]
    },
    {
      "cell_type": "code",
      "metadata": {
        "id": "QLEMU20YQFiJ",
        "colab_type": "code",
        "colab": {
          "base_uri": "https://localhost:8080/",
          "height": 34
        },
        "outputId": "f9e68f38-bd14-4657-9c71-cd40a54bba45"
      },
      "source": [
        "pat = r\"/(\\d)/\\d+\\.png$\"\n",
        "data = ImageDataBunch.from_name_re(path, fn_paths, pat=pat, ds_tfms=tfms, size=24)\n",
        "data.classes"
      ],
      "execution_count": 55,
      "outputs": [
        {
          "output_type": "execute_result",
          "data": {
            "text/plain": [
              "['3', '7']"
            ]
          },
          "metadata": {
            "tags": []
          },
          "execution_count": 55
        }
      ]
    },
    {
      "cell_type": "code",
      "metadata": {
        "id": "obHHJMVsQYyG",
        "colab_type": "code",
        "colab": {
          "base_uri": "https://localhost:8080/",
          "height": 34
        },
        "outputId": "9b32b3aa-3205-41d0-f9c6-b30a0fe282b0"
      },
      "source": [
        "data = ImageDataBunch.from_name_func(path, fn_paths, ds_tfms=tfms, size=24,\n",
        "        label_func = lambda x: '3' if '/3/' in str(x) else '7')\n",
        "data.classes"
      ],
      "execution_count": 59,
      "outputs": [
        {
          "output_type": "execute_result",
          "data": {
            "text/plain": [
              "['3', '7']"
            ]
          },
          "metadata": {
            "tags": []
          },
          "execution_count": 59
        }
      ]
    },
    {
      "cell_type": "code",
      "metadata": {
        "id": "LLBqelYAQuSI",
        "colab_type": "code",
        "colab": {
          "base_uri": "https://localhost:8080/",
          "height": 34
        },
        "outputId": "59ace95a-532c-4eec-a79a-5d7edbd0cff9"
      },
      "source": [
        "labels = [('3' if '/3/' in str(x) else '7') for x in fn_paths]\n",
        "labels[:5]"
      ],
      "execution_count": 60,
      "outputs": [
        {
          "output_type": "execute_result",
          "data": {
            "text/plain": [
              "['3', '3', '3', '3', '3']"
            ]
          },
          "metadata": {
            "tags": []
          },
          "execution_count": 60
        }
      ]
    },
    {
      "cell_type": "code",
      "metadata": {
        "id": "BbvnKYm7RINt",
        "colab_type": "code",
        "colab": {
          "base_uri": "https://localhost:8080/",
          "height": 34
        },
        "outputId": "22864cc8-e74f-4090-fabc-eeaffe2a7f83"
      },
      "source": [
        "data = ImageDataBunch.from_lists(path, fn_paths, labels = labels, ds_tfms = tfms, size = 24)\n",
        "data.classes"
      ],
      "execution_count": 61,
      "outputs": [
        {
          "output_type": "execute_result",
          "data": {
            "text/plain": [
              "['3', '7']"
            ]
          },
          "metadata": {
            "tags": []
          },
          "execution_count": 61
        }
      ]
    }
  ]
}