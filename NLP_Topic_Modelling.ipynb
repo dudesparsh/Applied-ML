{
  "nbformat": 4,
  "nbformat_minor": 0,
  "metadata": {
    "colab": {
      "name": "NLP Topic Modelling.ipynb",
      "provenance": [],
      "include_colab_link": true
    },
    "kernelspec": {
      "name": "python3",
      "display_name": "Python 3"
    },
    "accelerator": "GPU"
  },
  "cells": [
    {
      "cell_type": "markdown",
      "metadata": {
        "id": "view-in-github",
        "colab_type": "text"
      },
      "source": [
        "<a href=\"https://colab.research.google.com/github/dudesparsh/Applied-ML/blob/master/NLP_Topic_Modelling.ipynb\" target=\"_parent\"><img src=\"https://colab.research.google.com/assets/colab-badge.svg\" alt=\"Open In Colab\"/></a>"
      ]
    },
    {
      "cell_type": "code",
      "metadata": {
        "id": "HdzCdm6s26Ha"
      },
      "source": [
        "# Checking gpu server\n",
        "from tensorflow.python.client import device_lib\n",
        "device_lib.list_local_devices()\n"
      ],
      "execution_count": null,
      "outputs": []
    },
    {
      "cell_type": "code",
      "metadata": {
        "id": "AoOuc_k43Ta2",
        "colab": {
          "base_uri": "https://localhost:8080/",
          "height": 34
        },
        "outputId": "7383fe02-a662-4f85-c42d-e28da29ad23d"
      },
      "source": [
        "from google.colab import drive\n",
        "drive.mount('/content/gdrive')\n"
      ],
      "execution_count": null,
      "outputs": [
        {
          "output_type": "stream",
          "text": [
            "Mounted at /content/gdrive\n"
          ],
          "name": "stdout"
        }
      ]
    },
    {
      "cell_type": "code",
      "metadata": {
        "id": "51-rMhf63pf_"
      },
      "source": [
        "import pandas as pd\n"
      ],
      "execution_count": null,
      "outputs": []
    },
    {
      "cell_type": "code",
      "metadata": {
        "id": "hlIcOwqO4BrC",
        "colab": {
          "base_uri": "https://localhost:8080/",
          "height": 34
        },
        "outputId": "0d9760e4-5e14-47af-a5e7-8f00862df4e4"
      },
      "source": [
        "pwd"
      ],
      "execution_count": null,
      "outputs": [
        {
          "output_type": "execute_result",
          "data": {
            "text/plain": [
              "'/content'"
            ]
          },
          "metadata": {
            "tags": []
          },
          "execution_count": 6
        }
      ]
    },
    {
      "cell_type": "markdown",
      "metadata": {
        "id": "dk6ziU7K6okJ"
      },
      "source": [
        "The data used here is of news headlines published over a period of seventeen years.\n",
        "\n",
        "Sourced from the reputable Australian news source ABC (Australian Broadcasting Corporation)\n",
        "\n"
      ]
    },
    {
      "cell_type": "code",
      "metadata": {
        "id": "RdQXHN9u4AcR"
      },
      "source": [
        "data = pd.read_csv('/content/gdrive/My Drive/NLP/abcnews-date-text.csv', error_bad_lines=False);\n"
      ],
      "execution_count": null,
      "outputs": []
    },
    {
      "cell_type": "code",
      "metadata": {
        "id": "sDCZ7nt_4DS7"
      },
      "source": [
        "data_text = data[['headline_text']]\n",
        "data_text['index'] = data_text.index\n",
        "documents = data_text\n"
      ],
      "execution_count": null,
      "outputs": []
    },
    {
      "cell_type": "code",
      "metadata": {
        "id": "Csq5HHH04Foj",
        "colab": {
          "base_uri": "https://localhost:8080/",
          "height": 136
        },
        "outputId": "ed67bae9-568c-40d6-a8c3-17a78fc59f60"
      },
      "source": [
        "# Taking a look at the data\n",
        "print(len(documents))\n",
        "print(documents[:5])\n"
      ],
      "execution_count": null,
      "outputs": [
        {
          "output_type": "stream",
          "text": [
            "1186018\n",
            "                                       headline_text  index\n",
            "0  aba decides against community broadcasting lic...      0\n",
            "1     act fire witnesses must be aware of defamation      1\n",
            "2     a g calls for infrastructure protection summit      2\n",
            "3           air nz staff in aust strike for pay rise      3\n",
            "4      air nz strike to affect australian travellers      4\n"
          ],
          "name": "stdout"
        }
      ]
    },
    {
      "cell_type": "markdown",
      "metadata": {
        "id": "b49r9SwE4KyB"
      },
      "source": [
        "### Data Pre-processing\n",
        "- Tokenization\n",
        "- Stopwords removal\n",
        "- Lemmatization\n",
        "- Stemming\n",
        "\n",
        "Loading genism and nltk"
      ]
    },
    {
      "cell_type": "code",
      "metadata": {
        "id": "1EOUN0TF4H4v"
      },
      "source": [
        "import gensim\n",
        "from gensim.utils import simple_preprocess\n",
        "from gensim.parsing.preprocessing import STOPWORDS\n",
        "from nltk.stem import WordNetLemmatizer, SnowballStemmer\n",
        "from nltk.stem.porter import *\n",
        "import numpy as np\n",
        "np.random.seed(2018)\n"
      ],
      "execution_count": null,
      "outputs": []
    },
    {
      "cell_type": "code",
      "metadata": {
        "id": "ZqOQKank4bu9",
        "colab": {
          "base_uri": "https://localhost:8080/",
          "height": 68
        },
        "outputId": "309fae0f-b04a-478b-bc78-1d36d1d713f1"
      },
      "source": [
        "import nltk\n",
        "nltk.download('wordnet')\n"
      ],
      "execution_count": null,
      "outputs": [
        {
          "output_type": "stream",
          "text": [
            "[nltk_data] Downloading package wordnet to /root/nltk_data...\n",
            "[nltk_data]   Package wordnet is already up-to-date!\n"
          ],
          "name": "stdout"
        },
        {
          "output_type": "execute_result",
          "data": {
            "text/plain": [
              "True"
            ]
          },
          "metadata": {
            "tags": []
          },
          "execution_count": 14
        }
      ]
    },
    {
      "cell_type": "code",
      "metadata": {
        "id": "moFdyvW54gCI",
        "colab": {
          "base_uri": "https://localhost:8080/",
          "height": 34
        },
        "outputId": "c1386672-5a38-4d63-faf5-1014e1ff66c0"
      },
      "source": [
        "# Checking the word lemmatizer imported above\n",
        "print(WordNetLemmatizer().lemmatize('went', pos='v'))\n"
      ],
      "execution_count": null,
      "outputs": [
        {
          "output_type": "stream",
          "text": [
            "go\n"
          ],
          "name": "stdout"
        }
      ]
    },
    {
      "cell_type": "code",
      "metadata": {
        "id": "77_H5LKA4h5J",
        "colab": {
          "base_uri": "https://localhost:8080/",
          "height": 638
        },
        "outputId": "7e92d95a-0a3e-4149-9d31-565006a1312f"
      },
      "source": [
        "# Checking few of the stemmed words\n",
        "stemmer = SnowballStemmer('english')\n",
        "original_words = ['caresses', 'flies', 'dies', 'mules', 'denied','died', 'agreed', 'owned', \n",
        "           'humbled', 'sized','meeting', 'stating', 'siezing', 'itemization','sensational', \n",
        "           'traditional', 'reference', 'colonizer','plotted']\n",
        "singles = [stemmer.stem(plural) for plural in original_words]\n",
        "pd.DataFrame(data = {'original word': original_words, 'stemmed': singles})\n"
      ],
      "execution_count": null,
      "outputs": [
        {
          "output_type": "execute_result",
          "data": {
            "text/html": [
              "<div>\n",
              "<style scoped>\n",
              "    .dataframe tbody tr th:only-of-type {\n",
              "        vertical-align: middle;\n",
              "    }\n",
              "\n",
              "    .dataframe tbody tr th {\n",
              "        vertical-align: top;\n",
              "    }\n",
              "\n",
              "    .dataframe thead th {\n",
              "        text-align: right;\n",
              "    }\n",
              "</style>\n",
              "<table border=\"1\" class=\"dataframe\">\n",
              "  <thead>\n",
              "    <tr style=\"text-align: right;\">\n",
              "      <th></th>\n",
              "      <th>original word</th>\n",
              "      <th>stemmed</th>\n",
              "    </tr>\n",
              "  </thead>\n",
              "  <tbody>\n",
              "    <tr>\n",
              "      <th>0</th>\n",
              "      <td>caresses</td>\n",
              "      <td>caress</td>\n",
              "    </tr>\n",
              "    <tr>\n",
              "      <th>1</th>\n",
              "      <td>flies</td>\n",
              "      <td>fli</td>\n",
              "    </tr>\n",
              "    <tr>\n",
              "      <th>2</th>\n",
              "      <td>dies</td>\n",
              "      <td>die</td>\n",
              "    </tr>\n",
              "    <tr>\n",
              "      <th>3</th>\n",
              "      <td>mules</td>\n",
              "      <td>mule</td>\n",
              "    </tr>\n",
              "    <tr>\n",
              "      <th>4</th>\n",
              "      <td>denied</td>\n",
              "      <td>deni</td>\n",
              "    </tr>\n",
              "    <tr>\n",
              "      <th>5</th>\n",
              "      <td>died</td>\n",
              "      <td>die</td>\n",
              "    </tr>\n",
              "    <tr>\n",
              "      <th>6</th>\n",
              "      <td>agreed</td>\n",
              "      <td>agre</td>\n",
              "    </tr>\n",
              "    <tr>\n",
              "      <th>7</th>\n",
              "      <td>owned</td>\n",
              "      <td>own</td>\n",
              "    </tr>\n",
              "    <tr>\n",
              "      <th>8</th>\n",
              "      <td>humbled</td>\n",
              "      <td>humbl</td>\n",
              "    </tr>\n",
              "    <tr>\n",
              "      <th>9</th>\n",
              "      <td>sized</td>\n",
              "      <td>size</td>\n",
              "    </tr>\n",
              "    <tr>\n",
              "      <th>10</th>\n",
              "      <td>meeting</td>\n",
              "      <td>meet</td>\n",
              "    </tr>\n",
              "    <tr>\n",
              "      <th>11</th>\n",
              "      <td>stating</td>\n",
              "      <td>state</td>\n",
              "    </tr>\n",
              "    <tr>\n",
              "      <th>12</th>\n",
              "      <td>siezing</td>\n",
              "      <td>siez</td>\n",
              "    </tr>\n",
              "    <tr>\n",
              "      <th>13</th>\n",
              "      <td>itemization</td>\n",
              "      <td>item</td>\n",
              "    </tr>\n",
              "    <tr>\n",
              "      <th>14</th>\n",
              "      <td>sensational</td>\n",
              "      <td>sensat</td>\n",
              "    </tr>\n",
              "    <tr>\n",
              "      <th>15</th>\n",
              "      <td>traditional</td>\n",
              "      <td>tradit</td>\n",
              "    </tr>\n",
              "    <tr>\n",
              "      <th>16</th>\n",
              "      <td>reference</td>\n",
              "      <td>refer</td>\n",
              "    </tr>\n",
              "    <tr>\n",
              "      <th>17</th>\n",
              "      <td>colonizer</td>\n",
              "      <td>colon</td>\n",
              "    </tr>\n",
              "    <tr>\n",
              "      <th>18</th>\n",
              "      <td>plotted</td>\n",
              "      <td>plot</td>\n",
              "    </tr>\n",
              "  </tbody>\n",
              "</table>\n",
              "</div>"
            ],
            "text/plain": [
              "   original word stemmed\n",
              "0       caresses  caress\n",
              "1          flies     fli\n",
              "2           dies     die\n",
              "3          mules    mule\n",
              "4         denied    deni\n",
              "5           died     die\n",
              "6         agreed    agre\n",
              "7          owned     own\n",
              "8        humbled   humbl\n",
              "9          sized    size\n",
              "10       meeting    meet\n",
              "11       stating   state\n",
              "12       siezing    siez\n",
              "13   itemization    item\n",
              "14   sensational  sensat\n",
              "15   traditional  tradit\n",
              "16     reference   refer\n",
              "17     colonizer   colon\n",
              "18       plotted    plot"
            ]
          },
          "metadata": {
            "tags": []
          },
          "execution_count": 16
        }
      ]
    },
    {
      "cell_type": "code",
      "metadata": {
        "id": "wWcjmAyh5SF9"
      },
      "source": [
        "# Funcion for lemmatizing and stem preprocessing\n",
        "def lemmatize_stemming(text):\n",
        "    return stemmer.stem(WordNetLemmatizer().lemmatize(text, pos='v'))\n",
        "\n",
        "def preprocess(text):\n",
        "    result = []\n",
        "    for token in gensim.utils.simple_preprocess(text):\n",
        "        if token not in gensim.parsing.preprocessing.STOPWORDS and len(token) > 3:\n",
        "            result.append(lemmatize_stemming(token))\n",
        "    return result\n"
      ],
      "execution_count": null,
      "outputs": []
    },
    {
      "cell_type": "code",
      "metadata": {
        "id": "28D4xq7t5U7q",
        "colab": {
          "base_uri": "https://localhost:8080/",
          "height": 119
        },
        "outputId": "e8a0cbc8-bfc7-4927-a5dc-dc896ea7f620"
      },
      "source": [
        "# Previewing a document after preprocessing\n",
        "doc_sample = documents[documents['index'] == 4310].values[0][0]\n",
        "\n",
        "print('original document: ')\n",
        "words = []\n",
        "for word in doc_sample.split(' '):\n",
        "    words.append(word)\n",
        "print(words)\n",
        "print('\\n\\n tokenized and lemmatized document: ')\n",
        "print(preprocess(doc_sample))\n"
      ],
      "execution_count": null,
      "outputs": [
        {
          "output_type": "stream",
          "text": [
            "original document: \n",
            "['ratepayers', 'group', 'wants', 'compulsory', 'local', 'govt', 'voting']\n",
            "\n",
            "\n",
            " tokenized and lemmatized document: \n",
            "['ratepay', 'group', 'want', 'compulsori', 'local', 'govt', 'vote']\n"
          ],
          "name": "stdout"
        }
      ]
    },
    {
      "cell_type": "code",
      "metadata": {
        "id": "N8JgI-gn5Wda"
      },
      "source": [
        "# Preprocessing the headlines and saving the results as\n",
        "# processed_docs\n",
        "processed_docs = documents['headline_text'].map(preprocess)\n"
      ],
      "execution_count": null,
      "outputs": []
    },
    {
      "cell_type": "code",
      "metadata": {
        "id": "XfseAsF65ZQ0",
        "colab": {
          "base_uri": "https://localhost:8080/",
          "height": 204
        },
        "outputId": "6c0ea1ed-fd99-4ebb-b752-d9a67f5b0332"
      },
      "source": [
        "processed_docs[:10]\n"
      ],
      "execution_count": null,
      "outputs": [
        {
          "output_type": "execute_result",
          "data": {
            "text/plain": [
              "0            [decid, communiti, broadcast, licenc]\n",
              "1                               [wit, awar, defam]\n",
              "2           [call, infrastructur, protect, summit]\n",
              "3                      [staff, aust, strike, rise]\n",
              "4             [strike, affect, australian, travel]\n",
              "5               [ambiti, olsson, win, tripl, jump]\n",
              "6           [antic, delight, record, break, barca]\n",
              "7    [aussi, qualifi, stosur, wast, memphi, match]\n",
              "8            [aust, address, secur, council, iraq]\n",
              "9                         [australia, lock, timet]\n",
              "Name: headline_text, dtype: object"
            ]
          },
          "metadata": {
            "tags": []
          },
          "execution_count": 20
        }
      ]
    },
    {
      "cell_type": "markdown",
      "metadata": {
        "id": "gCXYTw6_7tH_"
      },
      "source": [
        "## Bag of Words\n"
      ]
    },
    {
      "cell_type": "code",
      "metadata": {
        "id": "sTDzxX075aWv"
      },
      "source": [
        "# Creating a dictionary from processed docs containing\n",
        "# Frequency count of words in training set\n",
        "dictionary = gensim.corpora.Dictionary(processed_docs)\n"
      ],
      "execution_count": null,
      "outputs": []
    },
    {
      "cell_type": "code",
      "metadata": {
        "id": "zzynrNm05cPX",
        "colab": {
          "base_uri": "https://localhost:8080/",
          "height": 204
        },
        "outputId": "cc64bfe5-ccbd-47d4-ad4b-2bb4c5668f19"
      },
      "source": [
        "count = 0\n",
        "for k, v in dictionary.iteritems():\n",
        "    print(k, v)\n",
        "    count += 1\n",
        "    if count > 10:\n",
        "        break\n"
      ],
      "execution_count": null,
      "outputs": [
        {
          "output_type": "stream",
          "text": [
            "0 broadcast\n",
            "1 communiti\n",
            "2 decid\n",
            "3 licenc\n",
            "4 awar\n",
            "5 defam\n",
            "6 wit\n",
            "7 call\n",
            "8 infrastructur\n",
            "9 protect\n",
            "10 summit\n"
          ],
          "name": "stdout"
        }
      ]
    },
    {
      "cell_type": "code",
      "metadata": {
        "id": "HI4aUDqg5erZ"
      },
      "source": [
        "# Filtering tokens\n",
        "dictionary.filter_extremes(no_below=15, no_above=0.5, keep_n=100000)\n"
      ],
      "execution_count": null,
      "outputs": []
    },
    {
      "cell_type": "code",
      "metadata": {
        "id": "wdzNAXIo5lF4",
        "colab": {
          "base_uri": "https://localhost:8080/",
          "height": 34
        },
        "outputId": "067bd705-c817-4556-b026-4c9ed13fb323"
      },
      "source": [
        "# Gensim do2bow\n",
        "# Checking frequency count of each word and storing it in dictionary\n",
        "# Then running this bow_corpus on earlier selected document\n",
        "bow_corpus = [dictionary.doc2bow(doc) for doc in processed_docs]\n",
        "bow_corpus[4310]\n"
      ],
      "execution_count": null,
      "outputs": [
        {
          "output_type": "execute_result",
          "data": {
            "text/plain": [
              "[(162, 1), (240, 1), (292, 1), (589, 1), (838, 1), (3567, 1), (3568, 1)]"
            ]
          },
          "metadata": {
            "tags": []
          },
          "execution_count": 24
        }
      ]
    },
    {
      "cell_type": "code",
      "metadata": {
        "id": "b3Y_QL9d5ma8",
        "colab": {
          "base_uri": "https://localhost:8080/",
          "height": 136
        },
        "outputId": "c5d573c8-c39b-434a-8307-376e27c4868b"
      },
      "source": [
        "# Previewing bag of words on our document\n",
        "bow_doc_4310 = bow_corpus[4310]\n",
        "\n",
        "for i in range(len(bow_doc_4310)):\n",
        "    print(\"Word {} (\\\"{}\\\") appears {} time.\".format(bow_doc_4310[i][0], \n",
        "                                                     dictionary[bow_doc_4310[i][0]], \n",
        "                                                     bow_doc_4310[i][1]))\n"
      ],
      "execution_count": null,
      "outputs": [
        {
          "output_type": "stream",
          "text": [
            "Word 162 (\"govt\") appears 1 time.\n",
            "Word 240 (\"group\") appears 1 time.\n",
            "Word 292 (\"vote\") appears 1 time.\n",
            "Word 589 (\"local\") appears 1 time.\n",
            "Word 838 (\"want\") appears 1 time.\n",
            "Word 3567 (\"compulsori\") appears 1 time.\n",
            "Word 3568 (\"ratepay\") appears 1 time.\n"
          ],
          "name": "stdout"
        }
      ]
    },
    {
      "cell_type": "markdown",
      "metadata": {
        "id": "ToFjXNcN-FAs"
      },
      "source": [
        "## TF-IDF\n",
        "\n",
        "Term frequency - inverse document frequency"
      ]
    },
    {
      "cell_type": "code",
      "metadata": {
        "id": "71dUyytM5oiW"
      },
      "source": [
        "#Creating tf-idf model object using models.\n",
        "from gensim import corpora, models\n",
        "\n",
        "tfidf = models.TfidfModel(bow_corpus)\n"
      ],
      "execution_count": null,
      "outputs": []
    },
    {
      "cell_type": "code",
      "metadata": {
        "id": "yV88iGmI5tB6"
      },
      "source": [
        "# Applying tranformation fo the entire corpus\n",
        "corpus_tfidf = tfidf[bow_corpus]\n"
      ],
      "execution_count": null,
      "outputs": []
    },
    {
      "cell_type": "code",
      "metadata": {
        "id": "wDfmlO6Z5ubV",
        "colab": {
          "base_uri": "https://localhost:8080/",
          "height": 85
        },
        "outputId": "34ddaa43-c571-40c5-8633-ba2f1be8afb7"
      },
      "source": [
        "# Previewing TF-IDF scores of our first document\n",
        "from pprint import pprint\n",
        "\n",
        "for doc in corpus_tfidf:\n",
        "    pprint(doc)\n",
        "    break\n"
      ],
      "execution_count": null,
      "outputs": [
        {
          "output_type": "stream",
          "text": [
            "[(0, 0.5850076620505259),\n",
            " (1, 0.38947256567331934),\n",
            " (2, 0.4997099083387053),\n",
            " (3, 0.5063271308533074)]\n"
          ],
          "name": "stdout"
        }
      ]
    },
    {
      "cell_type": "markdown",
      "metadata": {
        "id": "M1tlLvzS-xrf"
      },
      "source": [
        "# Running LDA using BoW"
      ]
    },
    {
      "cell_type": "code",
      "metadata": {
        "id": "e0O56ChF5wEU"
      },
      "source": [
        "# Training our lda model using genism.models and saving it\n",
        "lda_model = gensim.models.LdaMulticore(bow_corpus, num_topics=10, id2word=dictionary, passes=2, workers=2)\n"
      ],
      "execution_count": null,
      "outputs": []
    },
    {
      "cell_type": "code",
      "metadata": {
        "id": "Ls48Wvg-5zVO",
        "colab": {
          "base_uri": "https://localhost:8080/",
          "height": 377
        },
        "outputId": "9e08145e-32d2-462e-9a74-ae8aa6fc27fd"
      },
      "source": [
        "for idx, topic in lda_model.print_topics(-1):\n",
        "    print('Topic: {} \\nWords: {}'.format(idx, topic))\n"
      ],
      "execution_count": null,
      "outputs": [
        {
          "output_type": "stream",
          "text": [
            "Topic: 0 \n",
            "Words: 0.028*\"death\" + 0.020*\"canberra\" + 0.015*\"hospit\" + 0.013*\"water\" + 0.010*\"flood\" + 0.010*\"reveal\" + 0.010*\"hobart\" + 0.010*\"take\" + 0.010*\"find\" + 0.009*\"risk\"\n",
            "Topic: 1 \n",
            "Words: 0.023*\"donald\" + 0.021*\"china\" + 0.017*\"island\" + 0.015*\"rise\" + 0.013*\"street\" + 0.013*\"fall\" + 0.012*\"show\" + 0.012*\"australian\" + 0.010*\"wall\" + 0.010*\"young\"\n",
            "Topic: 2 \n",
            "Words: 0.031*\"elect\" + 0.021*\"south\" + 0.018*\"live\" + 0.016*\"tasmania\" + 0.015*\"school\" + 0.013*\"australia\" + 0.013*\"interview\" + 0.012*\"perth\" + 0.011*\"student\" + 0.011*\"stori\"\n",
            "Topic: 3 \n",
            "Words: 0.027*\"market\" + 0.018*\"miss\" + 0.016*\"indigen\" + 0.015*\"price\" + 0.014*\"victoria\" + 0.012*\"sydney\" + 0.012*\"beat\" + 0.012*\"citi\" + 0.011*\"search\" + 0.011*\"share\"\n",
            "Topic: 4 \n",
            "Words: 0.024*\"charg\" + 0.020*\"murder\" + 0.019*\"australia\" + 0.018*\"melbourn\" + 0.016*\"world\" + 0.014*\"court\" + 0.014*\"face\" + 0.014*\"alleg\" + 0.013*\"test\" + 0.012*\"accus\"\n",
            "Topic: 5 \n",
            "Words: 0.027*\"govern\" + 0.021*\"chang\" + 0.016*\"jail\" + 0.013*\"rural\" + 0.013*\"busi\" + 0.012*\"say\" + 0.012*\"break\" + 0.011*\"drum\" + 0.010*\"climat\" + 0.010*\"concern\"\n",
            "Topic: 6 \n",
            "Words: 0.015*\"feder\" + 0.015*\"health\" + 0.014*\"bushfir\" + 0.014*\"farmer\" + 0.013*\"royal\" + 0.012*\"plan\" + 0.012*\"speak\" + 0.011*\"help\" + 0.011*\"guilti\" + 0.010*\"commiss\"\n",
            "Topic: 7 \n",
            "Words: 0.025*\"attack\" + 0.020*\"polic\" + 0.018*\"kill\" + 0.017*\"australian\" + 0.015*\"arrest\" + 0.015*\"tasmanian\" + 0.014*\"countri\" + 0.014*\"sentenc\" + 0.012*\"driver\" + 0.012*\"tell\"\n",
            "Topic: 8 \n",
            "Words: 0.039*\"trump\" + 0.024*\"queensland\" + 0.020*\"crash\" + 0.019*\"news\" + 0.017*\"die\" + 0.016*\"shoot\" + 0.016*\"coast\" + 0.015*\"dead\" + 0.012*\"polic\" + 0.011*\"north\"\n",
            "Topic: 9 \n",
            "Words: 0.020*\"warn\" + 0.020*\"nation\" + 0.016*\"peopl\" + 0.013*\"farm\" + 0.011*\"liber\" + 0.011*\"victorian\" + 0.011*\"leader\" + 0.010*\"parti\" + 0.009*\"australia\" + 0.009*\"weather\"\n"
          ],
          "name": "stdout"
        }
      ]
    },
    {
      "cell_type": "code",
      "metadata": {
        "id": "cN83k6Xs5031"
      },
      "source": [
        "lda_model_tfidf = gensim.models.LdaMulticore(corpus_tfidf, num_topics=10, id2word=dictionary, passes=2, workers=4)\n"
      ],
      "execution_count": null,
      "outputs": []
    },
    {
      "cell_type": "code",
      "metadata": {
        "id": "MX_rR1nJ526Q",
        "colab": {
          "base_uri": "https://localhost:8080/",
          "height": 207
        },
        "outputId": "4b346073-06c8-4316-faaa-d92868da1854"
      },
      "source": [
        "for idx, topic in lda_model_tfidf.print_topics(-1):\n",
        "    print('Topic: {} Word: {}'.format(idx, topic))\n"
      ],
      "execution_count": null,
      "outputs": [
        {
          "output_type": "stream",
          "text": [
            "Topic: 0 Word: 0.007*\"elect\" + 0.007*\"budget\" + 0.006*\"sport\" + 0.006*\"friday\" + 0.006*\"govern\" + 0.006*\"grandstand\" + 0.005*\"celebr\" + 0.005*\"fund\" + 0.005*\"histori\" + 0.005*\"labor\"\n",
            "Topic: 1 Word: 0.018*\"news\" + 0.013*\"market\" + 0.010*\"rural\" + 0.009*\"coast\" + 0.007*\"price\" + 0.007*\"gold\" + 0.007*\"weather\" + 0.007*\"monday\" + 0.006*\"bushfir\" + 0.006*\"rise\"\n",
            "Topic: 2 Word: 0.019*\"countri\" + 0.014*\"hour\" + 0.009*\"wednesday\" + 0.009*\"michael\" + 0.008*\"climat\" + 0.007*\"david\" + 0.006*\"explain\" + 0.006*\"age\" + 0.006*\"chang\" + 0.005*\"footag\"\n",
            "Topic: 3 Word: 0.011*\"live\" + 0.008*\"turnbul\" + 0.007*\"morrison\" + 0.007*\"parliament\" + 0.005*\"asylum\" + 0.005*\"anim\" + 0.004*\"onlin\" + 0.004*\"kohler\" + 0.004*\"seeker\" + 0.004*\"australian\"\n",
            "Topic: 4 Word: 0.017*\"crash\" + 0.006*\"mental\" + 0.006*\"truck\" + 0.006*\"pacif\" + 0.005*\"health\" + 0.005*\"road\" + 0.005*\"novemb\" + 0.005*\"die\" + 0.005*\"plane\" + 0.005*\"island\"\n",
            "Topic: 5 Word: 0.017*\"charg\" + 0.016*\"murder\" + 0.014*\"polic\" + 0.011*\"court\" + 0.010*\"alleg\" + 0.010*\"woman\" + 0.009*\"stori\" + 0.008*\"jail\" + 0.008*\"guilti\" + 0.008*\"assault\"\n",
            "Topic: 6 Word: 0.027*\"trump\" + 0.012*\"interview\" + 0.010*\"australia\" + 0.008*\"hobart\" + 0.008*\"tuesday\" + 0.007*\"cricket\" + 0.007*\"christma\" + 0.007*\"world\" + 0.006*\"india\" + 0.006*\"peter\"\n",
            "Topic: 7 Word: 0.014*\"donald\" + 0.012*\"drum\" + 0.006*\"juli\" + 0.006*\"action\" + 0.006*\"coal\" + 0.005*\"jam\" + 0.005*\"tree\" + 0.005*\"marriag\" + 0.005*\"govern\" + 0.005*\"water\"\n",
            "Topic: 8 Word: 0.008*\"thursday\" + 0.007*\"violenc\" + 0.006*\"prison\" + 0.005*\"domest\" + 0.005*\"social\" + 0.005*\"centr\" + 0.005*\"aborigin\" + 0.004*\"remot\" + 0.004*\"say\" + 0.004*\"shop\"\n",
            "Topic: 9 Word: 0.009*\"south\" + 0.008*\"final\" + 0.008*\"royal\" + 0.008*\"leagu\" + 0.007*\"wall\" + 0.007*\"north\" + 0.006*\"korea\" + 0.006*\"financ\" + 0.006*\"commiss\" + 0.005*\"insid\"\n"
          ],
          "name": "stdout"
        }
      ]
    },
    {
      "cell_type": "markdown",
      "metadata": {
        "id": "BCMy85uTDdKN"
      },
      "source": [
        "# Performance evaluation\n",
        "\n",
        "Evaluating our sample document using LDA BoW model"
      ]
    },
    {
      "cell_type": "code",
      "metadata": {
        "id": "eRntBHld53_M",
        "colab": {
          "base_uri": "https://localhost:8080/",
          "height": 34
        },
        "outputId": "559c78b6-4da4-469c-b897-d1e6a44d20db"
      },
      "source": [
        "processed_docs[4310]\n"
      ],
      "execution_count": null,
      "outputs": [
        {
          "output_type": "execute_result",
          "data": {
            "text/plain": [
              "['ratepay', 'group', 'want', 'compulsori', 'local', 'govt', 'vote']"
            ]
          },
          "metadata": {
            "tags": []
          },
          "execution_count": 33
        }
      ]
    },
    {
      "cell_type": "code",
      "metadata": {
        "id": "IXTjeUL958WB",
        "colab": {
          "base_uri": "https://localhost:8080/",
          "height": 547
        },
        "outputId": "25f1e801-b687-4db9-f72a-79c2bdb61128"
      },
      "source": [
        "for index, score in sorted(lda_model[bow_corpus[4310]], key=lambda tup: -1*tup[1]):\n",
        "    print(\"\\nScore: {}\\t \\nTopic: {}\".format(score, lda_model.print_topic(index, 10)))\n",
        "\n",
        "\n",
        "#Our test document has the highest probability to be part\n",
        "# of the topic that our model assigned\n",
        "# which is the accurate classification.\n"
      ],
      "execution_count": null,
      "outputs": [
        {
          "output_type": "stream",
          "text": [
            "\n",
            "Score: 0.7624931931495667\t \n",
            "Topic: 0.027*\"govern\" + 0.021*\"chang\" + 0.016*\"jail\" + 0.013*\"rural\" + 0.013*\"busi\" + 0.012*\"say\" + 0.012*\"break\" + 0.011*\"drum\" + 0.010*\"climat\" + 0.010*\"concern\"\n",
            "\n",
            "Score: 0.1374998539686203\t \n",
            "Topic: 0.039*\"trump\" + 0.024*\"queensland\" + 0.020*\"crash\" + 0.019*\"news\" + 0.017*\"die\" + 0.016*\"shoot\" + 0.016*\"coast\" + 0.015*\"dead\" + 0.012*\"polic\" + 0.011*\"north\"\n",
            "\n",
            "Score: 0.012504558078944683\t \n",
            "Topic: 0.015*\"feder\" + 0.015*\"health\" + 0.014*\"bushfir\" + 0.014*\"farmer\" + 0.013*\"royal\" + 0.012*\"plan\" + 0.012*\"speak\" + 0.011*\"help\" + 0.011*\"guilti\" + 0.010*\"commiss\"\n",
            "\n",
            "Score: 0.01250155083835125\t \n",
            "Topic: 0.020*\"warn\" + 0.020*\"nation\" + 0.016*\"peopl\" + 0.013*\"farm\" + 0.011*\"liber\" + 0.011*\"victorian\" + 0.011*\"leader\" + 0.010*\"parti\" + 0.009*\"australia\" + 0.009*\"weather\"\n",
            "\n",
            "Score: 0.012500865384936333\t \n",
            "Topic: 0.023*\"donald\" + 0.021*\"china\" + 0.017*\"island\" + 0.015*\"rise\" + 0.013*\"street\" + 0.013*\"fall\" + 0.012*\"show\" + 0.012*\"australian\" + 0.010*\"wall\" + 0.010*\"young\"\n",
            "\n",
            "Score: 0.012500000186264515\t \n",
            "Topic: 0.028*\"death\" + 0.020*\"canberra\" + 0.015*\"hospit\" + 0.013*\"water\" + 0.010*\"flood\" + 0.010*\"reveal\" + 0.010*\"hobart\" + 0.010*\"take\" + 0.010*\"find\" + 0.009*\"risk\"\n",
            "\n",
            "Score: 0.012500000186264515\t \n",
            "Topic: 0.031*\"elect\" + 0.021*\"south\" + 0.018*\"live\" + 0.016*\"tasmania\" + 0.015*\"school\" + 0.013*\"australia\" + 0.013*\"interview\" + 0.012*\"perth\" + 0.011*\"student\" + 0.011*\"stori\"\n",
            "\n",
            "Score: 0.012500000186264515\t \n",
            "Topic: 0.027*\"market\" + 0.018*\"miss\" + 0.016*\"indigen\" + 0.015*\"price\" + 0.014*\"victoria\" + 0.012*\"sydney\" + 0.012*\"beat\" + 0.012*\"citi\" + 0.011*\"search\" + 0.011*\"share\"\n",
            "\n",
            "Score: 0.012500000186264515\t \n",
            "Topic: 0.024*\"charg\" + 0.020*\"murder\" + 0.019*\"australia\" + 0.018*\"melbourn\" + 0.016*\"world\" + 0.014*\"court\" + 0.014*\"face\" + 0.014*\"alleg\" + 0.013*\"test\" + 0.012*\"accus\"\n",
            "\n",
            "Score: 0.012500000186264515\t \n",
            "Topic: 0.025*\"attack\" + 0.020*\"polic\" + 0.018*\"kill\" + 0.017*\"australian\" + 0.015*\"arrest\" + 0.015*\"tasmanian\" + 0.014*\"countri\" + 0.014*\"sentenc\" + 0.012*\"driver\" + 0.012*\"tell\"\n"
          ],
          "name": "stdout"
        }
      ]
    },
    {
      "cell_type": "markdown",
      "metadata": {
        "id": "hPjCxfOhEds9"
      },
      "source": [
        "Evaluatoin by TF-IDF model"
      ]
    },
    {
      "cell_type": "code",
      "metadata": {
        "id": "XqagvUM95_S8",
        "colab": {
          "base_uri": "https://localhost:8080/",
          "height": 547
        },
        "outputId": "0332778f-e53f-4ae6-ad86-8be1cb135d26"
      },
      "source": [
        "\n",
        "for index, score in sorted(lda_model_tfidf[bow_corpus[4310]], key=lambda tup: -1*tup[1]):\n",
        "    print(\"\\nScore: {}\\t \\nTopic: {}\".format(score, lda_model_tfidf.print_topic(index, 10)))\n"
      ],
      "execution_count": null,
      "outputs": [
        {
          "output_type": "stream",
          "text": [
            "\n",
            "Score: 0.53730309009552\t \n",
            "Topic: 0.007*\"elect\" + 0.007*\"budget\" + 0.006*\"sport\" + 0.006*\"friday\" + 0.006*\"govern\" + 0.006*\"grandstand\" + 0.005*\"celebr\" + 0.005*\"fund\" + 0.005*\"histori\" + 0.005*\"labor\"\n",
            "\n",
            "Score: 0.21545980870723724\t \n",
            "Topic: 0.019*\"countri\" + 0.014*\"hour\" + 0.009*\"wednesday\" + 0.009*\"michael\" + 0.008*\"climat\" + 0.007*\"david\" + 0.006*\"explain\" + 0.006*\"age\" + 0.006*\"chang\" + 0.005*\"footag\"\n",
            "\n",
            "Score: 0.15972255170345306\t \n",
            "Topic: 0.027*\"trump\" + 0.012*\"interview\" + 0.010*\"australia\" + 0.008*\"hobart\" + 0.008*\"tuesday\" + 0.007*\"cricket\" + 0.007*\"christma\" + 0.007*\"world\" + 0.006*\"india\" + 0.006*\"peter\"\n",
            "\n",
            "Score: 0.012503769248723984\t \n",
            "Topic: 0.014*\"donald\" + 0.012*\"drum\" + 0.006*\"juli\" + 0.006*\"action\" + 0.006*\"coal\" + 0.005*\"jam\" + 0.005*\"tree\" + 0.005*\"marriag\" + 0.005*\"govern\" + 0.005*\"water\"\n",
            "\n",
            "Score: 0.012502809055149555\t \n",
            "Topic: 0.011*\"live\" + 0.008*\"turnbul\" + 0.007*\"morrison\" + 0.007*\"parliament\" + 0.005*\"asylum\" + 0.005*\"anim\" + 0.004*\"onlin\" + 0.004*\"kohler\" + 0.004*\"seeker\" + 0.004*\"australian\"\n",
            "\n",
            "Score: 0.012502526864409447\t \n",
            "Topic: 0.008*\"thursday\" + 0.007*\"violenc\" + 0.006*\"prison\" + 0.005*\"domest\" + 0.005*\"social\" + 0.005*\"centr\" + 0.005*\"aborigin\" + 0.004*\"remot\" + 0.004*\"say\" + 0.004*\"shop\"\n",
            "\n",
            "Score: 0.012501790188252926\t \n",
            "Topic: 0.018*\"news\" + 0.013*\"market\" + 0.010*\"rural\" + 0.009*\"coast\" + 0.007*\"price\" + 0.007*\"gold\" + 0.007*\"weather\" + 0.007*\"monday\" + 0.006*\"bushfir\" + 0.006*\"rise\"\n",
            "\n",
            "Score: 0.012501740828156471\t \n",
            "Topic: 0.017*\"crash\" + 0.006*\"mental\" + 0.006*\"truck\" + 0.006*\"pacif\" + 0.005*\"health\" + 0.005*\"road\" + 0.005*\"novemb\" + 0.005*\"die\" + 0.005*\"plane\" + 0.005*\"island\"\n",
            "\n",
            "Score: 0.012501049786806107\t \n",
            "Topic: 0.009*\"south\" + 0.008*\"final\" + 0.008*\"royal\" + 0.008*\"leagu\" + 0.007*\"wall\" + 0.007*\"north\" + 0.006*\"korea\" + 0.006*\"financ\" + 0.006*\"commiss\" + 0.005*\"insid\"\n",
            "\n",
            "Score: 0.012500880286097527\t \n",
            "Topic: 0.017*\"charg\" + 0.016*\"murder\" + 0.014*\"polic\" + 0.011*\"court\" + 0.010*\"alleg\" + 0.010*\"woman\" + 0.009*\"stori\" + 0.008*\"jail\" + 0.008*\"guilti\" + 0.008*\"assault\"\n"
          ],
          "name": "stdout"
        }
      ]
    },
    {
      "cell_type": "markdown",
      "metadata": {
        "id": "E5M81pLWEuHF"
      },
      "source": [
        "## Testing model on unseen document"
      ]
    },
    {
      "cell_type": "code",
      "metadata": {
        "id": "FF5ERDaJ6AoJ",
        "colab": {
          "base_uri": "https://localhost:8080/",
          "height": 207
        },
        "outputId": "75ba3dda-c79a-45bd-9f85-296322998aca"
      },
      "source": [
        "unseen_document = 'How a Pentagon deal became an identity crisis for Google'\n",
        "bow_vector = dictionary.doc2bow(preprocess(unseen_document))\n",
        "\n",
        "for index, score in sorted(lda_model[bow_vector], key=lambda tup: -1*tup[1]):\n",
        "    print(\"Score: {}\\t Topic: {}\".format(score, lda_model.print_topic(index, 5)))\n"
      ],
      "execution_count": null,
      "outputs": [
        {
          "output_type": "stream",
          "text": [
            "Score: 0.34999993443489075\t Topic: 0.039*\"trump\" + 0.024*\"queensland\" + 0.020*\"crash\" + 0.019*\"news\" + 0.017*\"die\"\n",
            "Score: 0.1838952898979187\t Topic: 0.027*\"market\" + 0.018*\"miss\" + 0.016*\"indigen\" + 0.015*\"price\" + 0.014*\"victoria\"\n",
            "Score: 0.18332457542419434\t Topic: 0.023*\"donald\" + 0.021*\"china\" + 0.017*\"island\" + 0.015*\"rise\" + 0.013*\"street\"\n",
            "Score: 0.18276478350162506\t Topic: 0.028*\"death\" + 0.020*\"canberra\" + 0.015*\"hospit\" + 0.013*\"water\" + 0.010*\"flood\"\n",
            "Score: 0.016674192622303963\t Topic: 0.015*\"feder\" + 0.015*\"health\" + 0.014*\"bushfir\" + 0.014*\"farmer\" + 0.013*\"royal\"\n",
            "Score: 0.016669519245624542\t Topic: 0.020*\"warn\" + 0.020*\"nation\" + 0.016*\"peopl\" + 0.013*\"farm\" + 0.011*\"liber\"\n",
            "Score: 0.016669070348143578\t Topic: 0.027*\"govern\" + 0.021*\"chang\" + 0.016*\"jail\" + 0.013*\"rural\" + 0.013*\"busi\"\n",
            "Score: 0.016668107360601425\t Topic: 0.025*\"attack\" + 0.020*\"polic\" + 0.018*\"kill\" + 0.017*\"australian\" + 0.015*\"arrest\"\n",
            "Score: 0.01666782796382904\t Topic: 0.031*\"elect\" + 0.021*\"south\" + 0.018*\"live\" + 0.016*\"tasmania\" + 0.015*\"school\"\n",
            "Score: 0.01666666753590107\t Topic: 0.024*\"charg\" + 0.020*\"murder\" + 0.019*\"australia\" + 0.018*\"melbourn\" + 0.016*\"world\"\n"
          ],
          "name": "stdout"
        }
      ]
    }
  ]
}